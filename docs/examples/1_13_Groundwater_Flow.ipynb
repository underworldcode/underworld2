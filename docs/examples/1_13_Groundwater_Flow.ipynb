{
 "cells": [
  {
   "cell_type": "markdown",
   "metadata": {},
   "source": [
    "# 1D Darcy Flow (Groundwater) Solution and Benchmark"
   ]
  },
  {
   "cell_type": "code",
   "execution_count": 1,
   "metadata": {
    "collapsed": false
   },
   "outputs": [],
   "source": [
    "import underworld as uw\n",
    "import glucifer\n",
    "import numpy\n",
    "import matplotlib.pyplot as plt\n",
    "\n",
    "uw.matplotlib_inline()"
   ]
  },
  {
   "cell_type": "markdown",
   "metadata": {},
   "source": [
    "This notebook demonstrates the use of the ``uw.systems.SteadyStateDarcyFlow`` class, which solves for darcy flow (e.g. groundwater flow):\n",
    "\n",
    "$\\nabla q = 0$\n",
    "\n",
    "$q = \\kappa \\left( -\\nabla p + S \\right)$ \n",
    "\n",
    "where $q$ is the flow velocity, $p$ is the fluid pressure head, $\\kappa$ hydraulic diffusivity and $S$ is a hydraulic gradient source. $S$ is usually a gravitational term, for example $S = \\rho g$, where $\\rho$ is fluid density and $g$ is the  gravitational accelleration vector.\n",
    "\n",
    "We will set up a simple example of flow through two  of strongly contrasting $\\kappa$ and compare the soultion to a 1D benchmark."
   ]
  },
  {
   "cell_type": "markdown",
   "metadata": {},
   "source": [
    "---\n",
    "\n",
    "*Set up mesh and fields*\n",
    "\n",
    "**Note:** The velocity solution is extremely sensitive to the pressure gradient. A higher order shape function (Q2) may result in a more accurate solution of the pressure field, in the case of material variation within a cell, but the velocity would then be linearly variable within that cell. It is therefore best to use a linear shape function (Q1) and asign just one material per cell."
   ]
  },
  {
   "cell_type": "code",
   "execution_count": 2,
   "metadata": {
    "collapsed": false
   },
   "outputs": [],
   "source": [
    "\n",
    "elementType = \"Q1\"\n",
    "resX = 16\n",
    "resY = 16\n",
    "mesh = uw.mesh.FeMesh_Cartesian( elementType = (elementType), \n",
    "                                 elementRes  = (resX, resY), \n",
    "                                 minCoord    = (-1., -1.), \n",
    "                                 maxCoord    = (0., 0.)) \n",
    "\n",
    "gwPressureField    = mesh.add_variable( nodeDofCount=1 )\n",
    "hydraulicDiffusivityField    = mesh.add_variable( nodeDofCount=1 )\n",
    "velocityField = mesh=mesh.add_variable(nodeDofCount=2)\n",
    "\n"
   ]
  },
  {
   "cell_type": "markdown",
   "metadata": {},
   "source": [
    "*Set up the types of boundary conditions*\n",
    "\n",
    "**Note:** The darcy-flow solver does also work for a lower free-slip boundary condition, but only if a strong horizontal flow component exists, such as arises when there is topographic variation. "
   ]
  },
  {
   "cell_type": "code",
   "execution_count": 3,
   "metadata": {
    "collapsed": false
   },
   "outputs": [],
   "source": [
    "iWalls = mesh.specialSets[\"MinI_VertexSet\"] + mesh.specialSets[\"MaxI_VertexSet\"]\n",
    "jWalls = mesh.specialSets[\"MinJ_VertexSet\"] + mesh.specialSets[\"MaxJ_VertexSet\"]\n",
    "topWall = mesh.specialSets[\"MaxJ_VertexSet\"]\n",
    "bottomWall = mesh.specialSets[\"MinJ_VertexSet\"]\n",
    "\n",
    "gwPressureBC = uw.conditions.DirichletCondition( variable        = gwPressureField, \n",
    "                                               indexSetsPerDof = ( topWall+ bottomWall    ) )\n"
   ]
  },
  {
   "cell_type": "markdown",
   "metadata": {},
   "source": [
    "*Choose the pressure set at the lower wall and set an initially linear pressure field which is consistent with the BCs*"
   ]
  },
  {
   "cell_type": "code",
   "execution_count": 4,
   "metadata": {
    "collapsed": false
   },
   "outputs": [],
   "source": [
    "#Groundwater pressure boundary condition on the bottom wall\n",
    "#    this value is relative to gravity\n",
    "maxgwpressure = 0.5\n",
    "\n",
    "yCoordFn = uw.function.input()[1]\n",
    "initialFn = -1. * yCoordFn * maxgwpressure\n",
    "\n",
    "gwPressureField.data[:] = initialFn.evaluate(mesh)\n"
   ]
  },
  {
   "cell_type": "markdown",
   "metadata": {},
   "source": [
    "*Set up swarm*\n",
    "\n",
    "**Imporant Note:** The swarm is used for setting the $\\kappa$ for a cell. As a result of our choice of a linear shape-function (Q1), there is a single constant pressure gradient solved for each cell. If we were to use particles with strongly contrasting $\\kappa$ in one cell, the actual solution should involve a strong variation in pressure gradient which cannot be reproduced by the constant pressure gradient solved. It is therefore recommended that only one particle is used per cell. For the same reason, velocity should be calculated inside the cell, rather than on the mesh. Our swarm is used both for setting $\\kappa$ and calculating the velocity.\n"
   ]
  },
  {
   "cell_type": "code",
   "execution_count": 5,
   "metadata": {
    "collapsed": false
   },
   "outputs": [],
   "source": [
    "swarm         = uw.swarm.Swarm( mesh=mesh )\n",
    "swarmLayout = uw.swarm.layouts.PerCellGaussLayout(swarm=swarm,gaussPointCount=1)\n",
    "swarm.populate_using_layout(swarmLayout)\n"
   ]
  },
  {
   "cell_type": "markdown",
   "metadata": {},
   "source": [
    "Set up swarm variables: material ID and velocity. The velocity variable is where the velocity solution can be stored."
   ]
  },
  {
   "cell_type": "code",
   "execution_count": 6,
   "metadata": {
    "collapsed": false
   },
   "outputs": [],
   "source": [
    "materialIndex  = swarm.add_variable( dataType=\"int\",    count=1 )\n",
    "materialVelocity  = swarm.add_variable( dataType=\"double\",    count=2 )\n",
    "\n",
    "materialPorous        = 0\n",
    "materialImpermeable   = 1\n"
   ]
  },
  {
   "cell_type": "markdown",
   "metadata": {},
   "source": [
    "Set up a horizontal interface between the two materials"
   ]
  },
  {
   "cell_type": "code",
   "execution_count": 7,
   "metadata": {
    "collapsed": false
   },
   "outputs": [],
   "source": [
    "xCoordFn = uw.function.input()[0]\n",
    "yCoordFn = uw.function.input()[1]\n",
    "\n",
    "interfaceY = -0.25\n",
    "\n",
    "conditions = [ (yCoordFn > interfaceY, materialPorous),\n",
    "               ( True , materialImpermeable )]\n",
    "\n",
    "materialfn = uw.function.branching.conditional( conditions )\n",
    "materialIndex.data[:]  = materialfn.evaluate(swarm)\n"
   ]
  },
  {
   "cell_type": "markdown",
   "metadata": {},
   "source": [
    "Assign a different $\\kappa$ to each material. The upper layer in this case is much more permeable than the lower."
   ]
  },
  {
   "cell_type": "code",
   "execution_count": 8,
   "metadata": {
    "collapsed": false
   },
   "outputs": [],
   "source": [
    "Ka = 1.\n",
    "Kb = 1e-3\n",
    "\n",
    "hydraulicDiffusivityMap = { materialPorous : Ka, \n",
    "                 materialImpermeable : Kb}\n",
    "hydraulicDiffusivityMapFn = uw.function.branching.map( fn_key = materialIndex, mapping = hydraulicDiffusivityMap )\n",
    "\n"
   ]
  },
  {
   "cell_type": "markdown",
   "metadata": {},
   "source": [
    "Let's check that the $\\kappa$ asigned to each particle looks correct:"
   ]
  },
  {
   "cell_type": "code",
   "execution_count": 9,
   "metadata": {
    "collapsed": false,
    "scrolled": false
   },
   "outputs": [
    {
     "data": {
      "text/html": [
       "<img src='data:image/png;base64,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'>"
      ],
      "text/plain": [
       "<IPython.core.display.HTML object>"
      ]
     },
     "metadata": {},
     "output_type": "display_data"
    }
   ],
   "source": [
    "figMaterial = glucifer.Figure( figsize=(800,400), title=\"Hydraulic Diffusivity\" )\n",
    "figMaterial.append( glucifer.objects.Points(swarm, hydraulicDiffusivityMapFn, pointSize=5.0) )\n",
    "\n",
    "figMaterial.append( glucifer.objects.Mesh(mesh))\n",
    "figMaterial.show()"
   ]
  },
  {
   "cell_type": "markdown",
   "metadata": {},
   "source": [
    "*Setup the dary flow (groundwater) equation*"
   ]
  },
  {
   "cell_type": "code",
   "execution_count": 10,
   "metadata": {
    "collapsed": false
   },
   "outputs": [],
   "source": [
    "g = uw.function.misc.constant((0.,-1.))\n",
    "\n",
    "\n",
    "gwadvDiff = uw.systems.SteadyStateDarcyFlow(velocityField=velocityField,\n",
    "        pressureField = gwPressureField, fn_diffusivity = hydraulicDiffusivityMapFn,\n",
    "        conditions=[gwPressureBC],fn_bodyforce=g, \n",
    "        voronoi_swarm=swarm,swarmVarVelocity=materialVelocity)\n",
    "gwsolver = uw.systems.Solver(gwadvDiff)\n"
   ]
  },
  {
   "cell_type": "markdown",
   "metadata": {},
   "source": [
    "*Solve*"
   ]
  },
  {
   "cell_type": "code",
   "execution_count": 11,
   "metadata": {
    "collapsed": false
   },
   "outputs": [],
   "source": [
    "gwsolver.solve()\n"
   ]
  },
  {
   "cell_type": "markdown",
   "metadata": {},
   "source": [
    "*Visualise the groundwater solution, by plotting it for $x=-1$ (left wall).*\n",
    "\n",
    "This model is simple enough that there is an equivalent 1D analytic, which we can use as a benchmark. Out of interest, let's also plot what the solution would look like without the gravity term.\n",
    "\n",
    "The grey lines are the horizontal element edges. Note that an resolution has been chosen so that the interface boundary is accurately resolved."
   ]
  },
  {
   "cell_type": "code",
   "execution_count": 12,
   "metadata": {
    "collapsed": false,
    "scrolled": true
   },
   "outputs": [
    {
     "data": {
      "image/png": "[encoded data removed]",
      "text/plain": [
       "<matplotlib.figure.Figure at 0x11e8c2c90>"
      ]
     },
     "metadata": {},
     "output_type": "display_data"
    }
   ],
   "source": [
    "\n",
    "if uw.rank() == 0:\n",
    "    arrX = numpy.linspace(-1,0,2)\n",
    "    plt.ylim(-1,0.)\n",
    "    plt.xlim(-1e-2,1)\n",
    "\n",
    "arrY = numpy.linspace(-1,0.,100)\n",
    "x = -1.\n",
    "arrP = gwPressureField.evaluate_global(numpy.array(zip(numpy.ones(100)*x,arrY)))\n",
    "\n",
    "if uw.rank() == 0:\n",
    "    plt.plot(arrP,arrY,c='red',label='Numerical')\n",
    "\n",
    "\n",
    "    for S in [1.,0.]:\n",
    "        La = -1. * interfaceY\n",
    "        Lb = 1. + interfaceY\n",
    "        dP = maxgwpressure\n",
    "        Pa = (dP/Lb - S + Ka/Kb * S) / (1./Lb + Ka/Kb/La)\n",
    "        arrYl = numpy.linspace(-La,0.,3)\n",
    "        if S == 0.:\n",
    "            label = \"Analytical\\n(No gravity)\"\n",
    "            line = \"-.\"\n",
    "        else:\n",
    "            label = 'Analytical'\n",
    "            line = \"--\"\n",
    "        plt.plot(Pa*(-arrYl)/(La),arrYl,line,c=\"black\",label = label)\n",
    "        arrYl = numpy.linspace(-La,-1,3)\n",
    "        plt.plot(Pa + (dP-Pa)*(-arrYl-La)/Lb,arrYl,line,c=\"black\")\n",
    "    \n",
    "if uw.rank() == 0:\n",
    "    plt.xlabel('Pressure')\n",
    "    plt.ylabel('Depth')\n",
    "    plt.legend()\n",
    "    \n",
    "    for meshY in numpy.linspace(-1,0,resY+1):\n",
    "        plt.plot(numpy.linspace(0,1,2),numpy.ones(2)*meshY,c=\"black\",alpha=0.3)\n",
    "\n",
    "    \n",
    "    plt.savefig('PressureSolution.pdf')\n",
    "\n"
   ]
  },
  {
   "cell_type": "markdown",
   "metadata": {},
   "source": [
    "The velocity solution was found on the swarm, so let's visualise the swarm variable where it is kept. The vertical component of the velocity vector field is visualised. Note the colourbar - the solution is relatively constant, as it should be for flow conservation."
   ]
  },
  {
   "cell_type": "code",
   "execution_count": 13,
   "metadata": {
    "collapsed": false,
    "scrolled": true
   },
   "outputs": [
    {
     "data": {
      "text/html": [
       "<img src='data:image/png;base64,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'>"
      ],
      "text/plain": [
       "<IPython.core.display.HTML object>"
      ]
     },
     "metadata": {},
     "output_type": "display_data"
    }
   ],
   "source": [
    "\n",
    "\n",
    "figMaterial = glucifer.Figure( figsize=(800,400), title=\"Velocity Calculated on Swarm\" )\n",
    "figMaterial.append( glucifer.objects.Points(swarm, materialVelocity[1], pointSize=5.0) )\n",
    "\n",
    "figMaterial.append( glucifer.objects.Mesh(mesh))\n",
    "figMaterial.show()\n",
    "\n"
   ]
  },
  {
   "cell_type": "markdown",
   "metadata": {},
   "source": [
    "Plot the same velocity field as vectors, over the pressure field solution."
   ]
  },
  {
   "cell_type": "code",
   "execution_count": 14,
   "metadata": {
    "collapsed": false
   },
   "outputs": [
    {
     "data": {
      "text/html": [
       "<img src='data:image/png;base64,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'>"
      ],
      "text/plain": [
       "<IPython.core.display.HTML object>"
      ]
     },
     "metadata": {},
     "output_type": "display_data"
    }
   ],
   "source": [
    "figMaterial = glucifer.Figure( figsize=(800,400),title=\"Ground-Water Pressure Field and Velocity Vectors\" )\n",
    "figMaterial.append(glucifer.objects.Surface(mesh,gwPressureField,onMesh=True))\n",
    "scale = 0.03\n",
    "figMaterial.append(glucifer.objects.VectorArrows(mesh,velocityField,scaling=50,arrowHead=0.3))\n",
    "figMaterial.show()\n"
   ]
  },
  {
   "cell_type": "markdown",
   "metadata": {},
   "source": [
    "We can also compare the velocity calculated on the swarm to an analytical solution."
   ]
  },
  {
   "cell_type": "code",
   "execution_count": 15,
   "metadata": {
    "collapsed": false
   },
   "outputs": [
    {
     "data": {
      "image/png": "[encoded data removed]",
      "text/plain": [
       "<matplotlib.figure.Figure at 0x11db42550>"
      ]
     },
     "metadata": {},
     "output_type": "display_data"
    }
   ],
   "source": [
    "\n",
    "\n",
    "x = -1.\n",
    "n = 30\n",
    "arrYsample = numpy.linspace(-1+(1./resY),0.,resY)\n",
    "arrY = numpy.linspace(-1,0.,n)\n",
    "\n",
    "arrP = numpy.array(velocityField[1].evaluate_global(numpy.array(zip(numpy.ones(len(arrYsample))*x,arrYsample))))\n",
    "\n",
    "if uw.rank() == 0:\n",
    "    plt.clf()\n",
    "    plt.scatter(arrP,arrYsample,lw=0,alpha=0.5,label=\"Numerical\")\n",
    "\n",
    "    S = 1.\n",
    "    La = -1. * interfaceY\n",
    "    Lb = 1. + interfaceY\n",
    "    dP = maxgwpressure\n",
    "    midPressure = (dP/Lb - S + Ka/Kb * S) / (1./Lb + Ka/Kb/La)\n",
    "\n",
    "    arrVel = numpy.zeros(len(arrY))\n",
    "\n",
    "    for i in range(len(arrY)):\n",
    "        if arrY[i] > interfaceY:\n",
    "            arrVel[i] = (-midPressure / -La - 1.) * Ka\n",
    "        else:\n",
    "            arrVel[i] = (-(dP - midPressure)/-Lb - 1.) * Kb\n",
    "\n",
    "    plt.plot( (arrVel) ,arrY,c=\"black\",label=\"Analytical\")\n",
    "\n",
    "    plt.ylim(-1,0.)\n",
    "    avAnVel = numpy.average(arrVel)\n",
    "    plt.xlim(-0.25*avAnVel + avAnVel,0.25*avAnVel+avAnVel)\n",
    "    plt.ticklabel_format(style='sci', axis='x', scilimits=(0,0))\n",
    "    plt.legend()\n",
    "    plt.xlabel('Vertical Velocity')\n",
    "    plt.ylabel('Depth')\n",
    "\n",
    "    plt.savefig(\"VelocitySolution.pdf\")\n"
   ]
  }
 ],
 "metadata": {
  "kernelspec": {
   "display_name": "Python 2",
   "language": "python",
   "name": "python2"
  },
  "language_info": {
   "codemirror_mode": {
    "name": "ipython",
    "version": 2
   },
   "file_extension": ".py",
   "mimetype": "text/x-python",
   "name": "python",
   "nbconvert_exporter": "python",
   "pygments_lexer": "ipython2",
   "version": "2.7.13"
  }
 },
 "nbformat": 4,
 "nbformat_minor": 0
}

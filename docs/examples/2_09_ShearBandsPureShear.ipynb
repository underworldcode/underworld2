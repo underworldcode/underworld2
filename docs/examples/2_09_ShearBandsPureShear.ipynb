{
 "cells": [
  {
   "cell_type": "markdown",
   "metadata": {},
   "source": [
    "## Pure shear experiment\n",
    "\n",
    "This notebook builds upon the simple shear model to show models for _pure shear_ in which shear bands form in response to extensional / compressional deformation of the domain boundary.\n",
    "\n",
    "We consider a rectangular, deforming domain with plastic-strain-softening, Drucker-Prager rheology which is subject to pure shear boundary conditions (the sides of the domain move in or out and the top moves to preserve the overall volume).\n",
    "\n",
    "As before, the rheology is described by:\n",
    "\n",
    "\\begin{equation}\n",
    "    \\eta =  \n",
    "        \\begin{cases}\n",
    "              \\eta_0 & |\\tau| < \\tau_\\textrm{yield} \\\\\n",
    "              {\\tau_\\textrm{yield}} / {2 \\left| \\, \\dot\\varepsilon \\, \\right|} & \\textrm{otherwise}\n",
    "        \\end{cases}\n",
    "\\end{equation}\n",
    "where the yield stress, $\\tau_\\textrm{yield}$ is given by\n",
    "\n",
    "\\begin{equation}\n",
    "    \\tau_\\textrm{yield} = C(\\varepsilon_p) + \\mu p \n",
    "\\end{equation}\n",
    "\n",
    "$ \\left| \\, \\dot\\varepsilon \\, \\right| $ is the second invariant of the strain rate tensor, $\\varepsilon$ is its integral over time in regions where the yield stress is reached, $C$ is a cohesion, $\\mu$ is a friction coefficient, and $p$ is the pressure.\n",
    "\n",
    "The cohesion weakens with accumulated plastic strain as follows:\n",
    "\n",
    "\\begin{equation}\n",
    "    C = c_0 + c_1 e^{ \\left( -\\varepsilon_\\textrm{p} / \\varepsilon_0 \\right)}\n",
    "\\end{equation}\n",
    "\n",
    "No healing of the cohesion is implemented in this example.\n",
    "\n",
    "### NOTES\n",
    "\n",
    "   1) This notebook also introduces Lagrangian integration with higher order elements. In this case it is necessary to  manually introduce the swarm population manager and explicitly call for the re-population of the elements after the particles have been advected.\n",
    "   \n",
    "   2) The mesh is deformed to follow the moving boundaries. This is an ALE problem in which the material history attached to the particles and the boundary-deformation history is attached to the mesh. \n",
    "   \n",
    "   3) There is no thermal component to this notebook and hence no ALE correction for the moving mesh applies to the advection term.\n"
   ]
  },
  {
   "cell_type": "code",
   "execution_count": null,
   "metadata": {
    "collapsed": false
   },
   "outputs": [],
   "source": [
    "import matplotlib.pyplot as pyplot\n",
    "import numpy as np\n",
    "import math\n",
    "import os\n",
    "\n",
    "import underworld as uw\n",
    "uw.matplotlib_inline()\n",
    "from underworld import function as fn\n",
    "import glucifer"
   ]
  },
  {
   "cell_type": "code",
   "execution_count": null,
   "metadata": {
    "collapsed": false
   },
   "outputs": [],
   "source": [
    "outputPath = os.path.join(os.path.abspath(\".\"),\"output/PureShear2D/\")\n",
    "if uw.rank() == 0:\n",
    "    if not os.path.exists(outputPath):\n",
    "        os.makedirs(outputPath)\n",
    "uw.barrier()"
   ]
  },
  {
   "cell_type": "markdown",
   "metadata": {},
   "source": [
    "Create mesh and finite element variables\n",
    "------\n",
    "\n",
    "Note: the use of a pressure-sensitive rheology suggests that it is important to use a Q2/dQ1 element "
   ]
  },
  {
   "cell_type": "code",
   "execution_count": null,
   "metadata": {
    "collapsed": false
   },
   "outputs": [],
   "source": [
    "minX  = -2.0\n",
    "maxX  =  2.0\n",
    "meshV =  1.0\n",
    "\n",
    "resX = 64\n",
    "resY = 16\n",
    "\n",
    "elementType=\"Q2/dPc1\"  # This is enough for a test but not to use the code in anger\n",
    "\n",
    "mesh = uw.mesh.FeMesh_Cartesian( elementType = (elementType), \n",
    "                                 elementRes  = ( resX, resY), \n",
    "                                 minCoord    = ( minX, 0.), \n",
    "                                 maxCoord    = ( maxX, 1.),\n",
    "                                 periodic    = [False, False]  ) \n",
    "\n",
    "\n",
    "\n",
    "velocityField    = mesh.add_variable(         nodeDofCount=mesh.dim )\n",
    "pressureField    = mesh.subMesh.add_variable( nodeDofCount=1 )\n",
    "\n",
    "velocityField.data[:] = [0.,0.]\n",
    "pressureField.data[:] = 0."
   ]
  },
  {
   "cell_type": "markdown",
   "metadata": {},
   "source": [
    "### Boundary conditions\n",
    "\n",
    "Pure shear with moving  walls — all boundaries are zero traction with "
   ]
  },
  {
   "cell_type": "code",
   "execution_count": null,
   "metadata": {
    "collapsed": false
   },
   "outputs": [],
   "source": [
    "iWalls = mesh.specialSets[\"MinI_VertexSet\"] + mesh.specialSets[\"MaxI_VertexSet\"]\n",
    "jWalls = mesh.specialSets[\"MinJ_VertexSet\"] + mesh.specialSets[\"MaxJ_VertexSet\"]\n",
    "base   = mesh.specialSets[\"MinJ_VertexSet\"]\n",
    "top    = mesh.specialSets[\"MaxJ_VertexSet\"]\n",
    "\n",
    "allWalls = iWalls + jWalls\n",
    "\n",
    "velocityBCs = uw.conditions.DirichletCondition( variable        = velocityField, \n",
    "                                                indexSetsPerDof = (iWalls, base) )\n",
    "\n",
    "for index in mesh.specialSets[\"MinI_VertexSet\"]:\n",
    "    velocityField.data[index] = [-meshV, 0.]\n",
    "for index in mesh.specialSets[\"MaxI_VertexSet\"]:\n",
    "    velocityField.data[index] = [ meshV, 0.]\n",
    "    "
   ]
  },
  {
   "cell_type": "markdown",
   "metadata": {},
   "source": [
    "### Setup the material swarm and passive tracers\n",
    "\n",
    "The material swarm is used for tracking deformation and history dependence of the rheology\n",
    "\n",
    "Passive swarms can track all sorts of things but lack all the machinery for integration and re-population"
   ]
  },
  {
   "cell_type": "code",
   "execution_count": null,
   "metadata": {
    "collapsed": false
   },
   "outputs": [],
   "source": [
    "swarm  = uw.swarm.Swarm( mesh=mesh )\n",
    "swarmLayout = uw.swarm.layouts.GlobalSpaceFillerLayout( swarm=swarm, particlesPerCell=50 )\n",
    "swarm.populate_using_layout( layout=swarmLayout )\n",
    "\n",
    "# create pop control object\n",
    "pop_control = uw.swarm.PopulationControl(swarm)\n",
    "\n",
    "surfaceSwarm = uw.swarm.Swarm( mesh=mesh )\n",
    "deformationSwarm = uw.swarm.Swarm ( mesh=mesh )"
   ]
  },
  {
   "cell_type": "markdown",
   "metadata": {},
   "source": [
    "### Create a particle advection system\n",
    "\n",
    "Note that we need to set up one advector systems for each particle swarm (our global swarm and a separate one if we add passive tracers)."
   ]
  },
  {
   "cell_type": "code",
   "execution_count": null,
   "metadata": {
    "collapsed": false
   },
   "outputs": [],
   "source": [
    "advector        = uw.systems.SwarmAdvector( swarm=swarm,            velocityField=velocityField, order=2 )\n",
    "advector2       = uw.systems.SwarmAdvector( swarm=surfaceSwarm,     velocityField=velocityField, order=2 )\n",
    "advector3       = uw.systems.SwarmAdvector( swarm=deformationSwarm, velocityField=velocityField, order=2 )"
   ]
  },
  {
   "cell_type": "markdown",
   "metadata": {},
   "source": [
    "### Add swarm variables\n",
    "\n",
    "We are using a single material with a single rheology. We need to track the plastic strain in order to have some manner of strain-related softening (e.g. of the cohesion or the friction coefficient). For visualisation of swarm data we need an actual swarm variable and not just the computation.\n",
    "\n",
    "Other variables are used to track deformation in the shear band etc.\n",
    "\n",
    "**NOTE**:  Underworld needs all the swarm variables defined before they are initialised or there will be / can be memory problems (at least it complains about them !). That means we need to add the monitoring variables now, even if we don't always need them."
   ]
  },
  {
   "cell_type": "code",
   "execution_count": null,
   "metadata": {
    "collapsed": false
   },
   "outputs": [],
   "source": [
    "plasticStrain  = swarm.add_variable( dataType=\"double\",  count=1 )\n",
    "\n",
    "# Tracking different materials\n",
    "\n",
    "materialVariable = swarm.add_variable( dataType=\"int\", count=1 )\n",
    "\n",
    "# These ones are for monitoring of the shear bands\n",
    "\n",
    "stretching = swarm.add_variable( dataType=\"double\", count=mesh.dim)\n",
    "orientation = swarm.add_variable( dataType=\"double\", count=1)\n",
    "\n",
    "# passive markers at the surface\n",
    "\n",
    "surfacePoints = np.zeros((1000,2))\n",
    "surfacePoints[:,0] = np.linspace(minX+0.01, maxX-0.01, 1000)\n",
    "surfacePoints[:,1] = 0.8\n",
    "\n",
    "surfaceSwarm.add_particles_with_coordinates( surfacePoints )\n",
    "\n",
    "deformationVariable = deformationSwarm.add_variable( dataType=\"double\", count=1)\n",
    "deformationPoints = np.array(np.meshgrid(np.linspace(minX+0.01, maxX-0.01, 500), np.linspace(0.1, 0.8, 15))).T.reshape(-1,2)\n",
    "deformationSwarm.add_particles_with_coordinates( deformationPoints )\n",
    "\n",
    "pass"
   ]
  },
  {
   "cell_type": "markdown",
   "metadata": {},
   "source": [
    "### Initialise swarm variables\n",
    "\n"
   ]
  },
  {
   "cell_type": "code",
   "execution_count": null,
   "metadata": {
    "collapsed": false
   },
   "outputs": [],
   "source": [
    "# Stretching - assume an initial orientation aligned with the x-axis\n",
    "\n",
    "stretching.data[:,0] = 1.0\n",
    "stretching.data[:,1] = 0.0\n",
    "\n",
    "# This is a work-variable for visualisation\n",
    "\n",
    "orientation.data[:] = 0.0\n",
    "\n",
    "# plastic strain - weaken a region at the base close to the boundary (a weak seed but through cohesion softening)\n",
    "\n",
    "def gaussian(xx, centre, width):\n",
    "    return ( np.exp( -(xx - centre)**2 / width ))\n",
    "\n",
    "def boundary(xx, minX, maxX, width, power):\n",
    "    zz = (xx - minX) / (maxX - minX)\n",
    "    return (np.tanh(zz*width) + np.tanh((1.0-zz)*width) - math.tanh(width))**power\n",
    "\n",
    "# weight = boundary(swarm.particleCoordinates.data[:,1], 10, 4) \n",
    "\n",
    "plasticStrain.data[:] = 0.1 * np.random.rand(*plasticStrain.data.shape[:])\n",
    "plasticStrain.data[:,0] *= gaussian(swarm.particleCoordinates.data[:,0], 0.0, 0.025) \n",
    "plasticStrain.data[:,0] *= gaussian(swarm.particleCoordinates.data[:,1], 0.0, 0.025) \n",
    "plasticStrain.data[:,0] *= boundary(swarm.particleCoordinates.data[:,0], minX, maxX, 10.0, 2) \n",
    "\n",
    "# \n",
    "\n",
    "deformationVariable.data[:,0] = deformationSwarm.particleCoordinates.data[:,1]\n"
   ]
  },
  {
   "cell_type": "code",
   "execution_count": null,
   "metadata": {
    "collapsed": false
   },
   "outputs": [],
   "source": [
    "if uw.nProcs() == 1:   # Serial\n",
    "    xx = np.arange(-20, 20, 0.01)\n",
    "    yy = boundary(xx, minX, maxX, 10, 2)\n",
    "    pyplot.scatter(xx,yy)"
   ]
  },
  {
   "cell_type": "markdown",
   "metadata": {},
   "source": [
    "### Material distribution in the domain.\n",
    "\n"
   ]
  },
  {
   "cell_type": "code",
   "execution_count": null,
   "metadata": {
    "collapsed": false
   },
   "outputs": [],
   "source": [
    "# Initialise the 'materialVariable' data to represent different materials. \n",
    "materialV = 1 # viscoplastic\n",
    "materialA = 0 # accommodation layer a.k.a. Sticky Air\n",
    "materialU = 2 # Under layer \n",
    "\n",
    "# The particle coordinates will be the input to the function evaluate (see final line in this cell).\n",
    "# We get proxy for this now using the input() function.\n",
    "\n",
    "coord = fn.input()\n",
    "\n",
    "# Setup the conditions list for the following conditional function. Where the\n",
    "# z coordinate (coordinate[1]) is less than the perturbation, set to lightIndex.\n",
    "\n",
    "conditions = [ (       coord[1] > 0.8 , materialA ),\n",
    "               (       coord[1] < 0.1 , materialU ),\n",
    "               (       True ,           materialV ) ]\n",
    "\n",
    "# The actual function evaluation. Here the conditional function is evaluated at the location\n",
    "# of each swarm particle. The results are then written to the materialVariable swarm variable.\n",
    "\n",
    "materialVariable.data[:] = fn.branching.conditional( conditions ).evaluate(swarm)"
   ]
  },
  {
   "cell_type": "markdown",
   "metadata": {},
   "source": [
    "### Define the viscosity function\n",
    "\n",
    "In this case, the viscosity of material which has not reached the yield criterion is simply going to be a constant. Nevertheless, it is useful to define it here as a function and write the remaining code such that it is not changed if we introduce additional materials or a dependence on another set of equations.\n",
    "\n"
   ]
  },
  {
   "cell_type": "code",
   "execution_count": null,
   "metadata": {
    "collapsed": true
   },
   "outputs": [],
   "source": [
    "# Interesting to test: very weak lower layer, very strong lower layer ... and something in the middle\n",
    "viscosityA = 0.01\n",
    "viscosityV = 1.0\n",
    "viscosityU = 0.1  \n",
    "\n",
    "\n",
    "viscosityMap = { materialA: viscosityA, materialV:viscosityV, materialU:viscosityU }\n",
    "\n",
    "backgroundViscosityFn  = fn.branching.map( fn_key = materialVariable, \n",
    "                                           mapping = viscosityMap )"
   ]
  },
  {
   "cell_type": "markdown",
   "metadata": {},
   "source": [
    "### Define a yield criterion (function)\n",
    "\n",
    "\\begin{equation}\n",
    "    \\tau_\\textrm{yield} = C(\\varepsilon_p) + \\mu p \n",
    "\\end{equation}\n",
    "\n",
    "The yield strength described above needs to be evaluated on the fly at the particles (integration points). It therefore needs to be a function composed of mesh variables, swarm variables, constants, and mathematical operations."
   ]
  },
  {
   "cell_type": "code",
   "execution_count": null,
   "metadata": {
    "collapsed": false
   },
   "outputs": [],
   "source": [
    "# Friction - in this form it could also be made to weaken with strain\n",
    "\n",
    "frictionInf     = fn.misc.constant(0.3)\n",
    "frictionFn      = frictionInf \n",
    "\n",
    "# Cohesion - a function of swarm variables\n",
    "\n",
    "cohesionInfMap = { materialA: 1000.0, materialV:0.25, materialU:1000.0 }\n",
    "cohesionInf     =  fn.branching.map( fn_key = materialVariable, \n",
    "                                     mapping = cohesionInfMap )\n",
    "\n",
    "cohesion0       = fn.misc.constant(0.75)\n",
    "referenceStrain = fn.misc.constant(0.5)\n",
    "\n",
    "cohesionFn =  cohesionInf + cohesion0 * fn.math.exp(-plasticStrain / referenceStrain )\n",
    "\n",
    "# Drucker-Prager yield criterion\n",
    "\n",
    "yieldStressFn   = cohesionFn + frictionFn * pressureField\n",
    "\n",
    "# Plot it and see (it will be the cohesion in the first run through) \n",
    "\n",
    "figYieldStress = glucifer.Figure( figsize=(1800,600), boundingBox=((-3.0, 0.0, 0.0), (3.0, 1.0, 0.0)) )\n",
    "figYieldStress.append( glucifer.objects.Points(swarm, fn.misc.max(0.0,fn.misc.min(yieldStressFn, 1.0)) , pointSize=3.0, fn_mask=materialVariable, \n",
    "                                                      colours=\"#00BBFF:0.5 #FF5500:0.5\") )\n",
    "figYieldStress.append( glucifer.objects.Points(surfaceSwarm, pointSize=5.0, colours=\"#440000:0.9 #440000:0.9\", colourBar=False) )\n",
    "figYieldStress.append( glucifer.objects.Points(deformationSwarm, deformationVariable, pointSize=4.0, colourBar=False,\n",
    "                                               colours=\"#BB4444:0.75 #6666BB:0.75\") )\n",
    "\n",
    "figYieldStress.show()"
   ]
  },
  {
   "cell_type": "markdown",
   "metadata": {},
   "source": [
    "### Define composite (yielding) rheology\n",
    "\n",
    "The actual constitutive behaviour is a composite of the behaviour below the yield strength and the reduced viscosity required to ensure that the stress remains bounded by the yield envelope.\n",
    "\n",
    "\\begin{equation}\n",
    "    \\eta =  \n",
    "        \\begin{cases}\n",
    "              \\eta_0 & |\\tau| < \\tau_\\textrm{yield} \\\\\n",
    "              {\\tau _ \\textrm{yield}} / {2 \\left| \\, \\dot\\varepsilon \\, \\right|} & \\textrm{otherwise}\n",
    "        \\end{cases}\n",
    "\\end{equation}\n",
    "\n",
    "**Note**: The $1.0^{-18}$ added to the strain-rate is supposed to be a small number preventing the rheology from blowing up if the velocity field is zero. Obviously this number should be much smaller than the expected strain rate !"
   ]
  },
  {
   "cell_type": "code",
   "execution_count": null,
   "metadata": {
    "collapsed": false
   },
   "outputs": [],
   "source": [
    "# first define strain rate tensor\n",
    "\n",
    "strainRateFn = fn.tensor.symmetric( velocityField.fn_gradient )\n",
    "strainRate_2ndInvariantFn = fn.tensor.second_invariant(strainRateFn)\n",
    "\n",
    "# now compute a viscosity assuming yielding\n",
    "\n",
    "min_viscosity = viscosityA  # same as the air ... \n",
    "\n",
    "yieldingViscosityFn =  0.5 * yieldStressFn / (strainRate_2ndInvariantFn+1.0e-18)\n",
    "\n",
    "viscosityFn = fn.exception.SafeMaths( fn.misc.max(fn.misc.min(yieldingViscosityFn, \n",
    "                                                              backgroundViscosityFn), \n",
    "                                                  min_viscosity))"
   ]
  },
  {
   "cell_type": "markdown",
   "metadata": {},
   "source": [
    "### Deviatoric stress \n",
    "\n",
    "The deviatoric stress is computed from the constitutive law based on the viscosity that\n",
    "results from the solution to the non-linear Stokes equation.\n",
    "\n",
    "**Note:** the deviatoric stress is defined in terms of functions we have defined already\n",
    "but the value will be meaningless if the viscosityFn is modified in any way after the \n",
    "solve is complete because evaluation is made only when the values at particular points are needed."
   ]
  },
  {
   "cell_type": "code",
   "execution_count": null,
   "metadata": {
    "collapsed": true
   },
   "outputs": [],
   "source": [
    "devStressFn = 2.0 * viscosityFn * strainRateFn"
   ]
  },
  {
   "cell_type": "markdown",
   "metadata": {},
   "source": [
    "### Buoyancy forces\n",
    "\n",
    "In this example, no buoyancy forces are considered. However, to establish an appropriate pressure gradient in the material, it would normally be useful to map density from material properties and create a buoyancy force."
   ]
  },
  {
   "cell_type": "code",
   "execution_count": null,
   "metadata": {
    "collapsed": false
   },
   "outputs": [],
   "source": [
    "densityMap = { materialA: 0.0, materialV:1.0, materialU:10.0 }\n",
    "\n",
    "densityFn = fn.branching.map( fn_key=materialVariable, mapping=densityMap )\n",
    "\n",
    "# And the final buoyancy force function.\n",
    "z_hat = ( 0.0, 1.0 )\n",
    "buoyancyFn = -densityFn * z_hat"
   ]
  },
  {
   "cell_type": "markdown",
   "metadata": {},
   "source": [
    "System setup\n",
    "-----\n",
    "\n",
    "Setup a Stokes equation system and connect a solver up to it.  \n",
    "\n",
    "In this example, no buoyancy forces are considered. However, to establish an appropriate pressure gradient in the material, it would normally be useful to map density from material properties and create a buoyancy force."
   ]
  },
  {
   "cell_type": "code",
   "execution_count": null,
   "metadata": {
    "collapsed": false
   },
   "outputs": [],
   "source": [
    "stokes = uw.systems.Stokes(    velocityField = velocityField, \n",
    "                               pressureField = pressureField,\n",
    "                               conditions    = velocityBCs,\n",
    "                               fn_viscosity  = viscosityFn, \n",
    "                               fn_bodyforce  = buoyancyFn )\n",
    "\n",
    "solver = uw.systems.Solver( stokes )\n",
    "\n",
    "## Initial solve (drop the non-linearity the very first solve only)\n",
    "\n",
    "\n",
    "# \"mumps\" is a good alternative for \"lu\" but \n",
    "# not every petsc installation has mumps !\n",
    "# It also works fine in parallel\n",
    "\n",
    "# use \"lu\" direct solve and large penalty (if running in serial)\n",
    "if(uw.nProcs()==1):\n",
    "    solver.set_inner_method(\"lu\")\n",
    "    solver.set_penalty(1.0e6) \n",
    "\n",
    "\n",
    "solver.options.scr.ksp_rtol = 1.0e-3\n",
    "\n",
    "# test it out\n",
    "\n",
    "solver.solve( nonLinearIterate=True )\n",
    "solver.print_stats()"
   ]
  },
  {
   "cell_type": "code",
   "execution_count": null,
   "metadata": {
    "collapsed": false
   },
   "outputs": [],
   "source": [
    "surfaceArea = uw.utils.Integral(fn=1.0,mesh=mesh, integrationType='surface', surfaceIndexSet=top)\n",
    "surfacePressureIntegral = uw.utils.Integral(fn=pressureField, mesh=mesh, integrationType='surface', surfaceIndexSet=top)\n",
    "\n",
    "(area,) = surfaceArea.evaluate()\n",
    "(p0,) = surfacePressureIntegral.evaluate() \n",
    "\n",
    "pressureField.data[:] -= p0 / area"
   ]
  },
  {
   "cell_type": "code",
   "execution_count": null,
   "metadata": {
    "collapsed": false
   },
   "outputs": [],
   "source": [
    "figVelocityPressure = glucifer.Figure( figsize=(1200,400), boundingBox=((-3.0, 0.0, 0.0), (3.0, 1.0, 0.0)) )\n",
    "figVelocityPressure.append( glucifer.objects.VectorArrows(mesh, velocityField, scaling=.1) )\n",
    "figVelocityPressure.append( glucifer.objects.Surface(mesh, pressureField) )\n",
    "figVelocityPressure.append( glucifer.objects.Points(surfaceSwarm, pointSize=5.0, colourBar=False, colours=\"#440000 #440000\") )\n",
    "figVelocityPressure.append( glucifer.objects.Mesh(mesh))\n",
    "figVelocityPressure.show()"
   ]
  },
  {
   "cell_type": "code",
   "execution_count": null,
   "metadata": {
    "collapsed": false
   },
   "outputs": [],
   "source": [
    "# The stress is only guaranteed to be accurate when integrated across an element. Fluctuations\n",
    "# within an element can be significant. Mapping to the mesh can help\n",
    "\n",
    "meshDevStress = mesh.add_variable( 1 )\n",
    "\n",
    "projectorStress = uw.utils.MeshVariable_Projection( meshDevStress, fn.tensor.second_invariant(devStressFn), type=0 )\n",
    "projectorStress.solve()\n",
    "\n",
    "figMeshStress = glucifer.Figure( figsize=(1200,400), boundingBox=((-3.0, 0.0, 0.0), (3.0, 1.0, 0.0)) )\n",
    "figMeshStress.append( glucifer.objects.Surface(mesh, meshDevStress  , colours=\"#0044BB, #777777, #FF9900\") )\n",
    "figMeshStress.append( glucifer.objects.Points(surfaceSwarm, pointSize=5.0, colours=\"#440000 #440000\", colourBar=False) )\n",
    "\n",
    "figMeshStress.show()"
   ]
  },
  {
   "cell_type": "code",
   "execution_count": null,
   "metadata": {
    "collapsed": false,
    "scrolled": true
   },
   "outputs": [],
   "source": [
    "curlV = velocityField.fn_gradient[1] - velocityField.fn_gradient[2]\n",
    "figStrain = glucifer.Figure( figsize=(1200,400), boundingBox=((-3.0, 0.0, 0.0), (3.0, 1.0, 0.0)) )\n",
    "figStrain.append( glucifer.objects.Surface(mesh, curlV) )\n",
    "figStrain.append( glucifer.objects.Points(swarm, plasticStrain, pointSize=4.0, \n",
    "                  fn_mask=materialVariable,  colours=\"#FF6600:0.5, #555555:0.25, Blue:0.5\") )\n",
    "figStrain.append( glucifer.objects.Points(surfaceSwarm, pointSize=5.0, colours=\"#440000 #440000\", colourBar=False) )\n",
    "\n",
    "\n",
    "figStrain.show()"
   ]
  },
  {
   "cell_type": "markdown",
   "metadata": {},
   "source": [
    "## Main simulation loop\n",
    "-----"
   ]
  },
  {
   "cell_type": "code",
   "execution_count": null,
   "metadata": {
    "collapsed": false
   },
   "outputs": [],
   "source": [
    "# create an array which will be used to advect/update the mesh\n",
    "mesh_vels = meshV*np.copy(mesh.data[:,0])/maxX\n",
    "# also create projection object\n",
    "projectorStress = uw.utils.MeshVariable_Projection( meshDevStress, fn.tensor.second_invariant(devStressFn), type=0 )"
   ]
  },
  {
   "cell_type": "code",
   "execution_count": null,
   "metadata": {
    "collapsed": false
   },
   "outputs": [],
   "source": [
    "def update():\n",
    "    # get timestep and advect particles\n",
    "    dt = advector.get_max_dt()\n",
    "    advector.integrate(dt, update_owners=False)\n",
    "    advector2.integrate(dt, update_owners=False)\n",
    "    advector3.integrate(dt, update_owners=False)\n",
    "    \n",
    "    # Stretch mesh to match boundary conditions\n",
    "    # Note that this also calls the update_particle_owners for the\n",
    "    # attached swarms\n",
    "    with mesh.deform_mesh( isRegular=True ):\n",
    "        mesh.data[:,0] += mesh_vels[:]*dt\n",
    "\n",
    "    newtime = time + dt\n",
    "    # recalc mesh exten\n",
    "    newminX = minX - meshV * newtime\n",
    "    newmaxX = maxX + meshV * newtime\n",
    "\n",
    "    # particle population control\n",
    "    pop_control.repopulate()\n",
    "    \n",
    "    # update stretching metric\n",
    "    swarmVgrad = velocityField.fn_gradient.evaluate(swarm)\n",
    "    stretching.data[:,0] += dt * (swarmVgrad[:,0] * stretching.data[:,0] + swarmVgrad[:,1] * stretching.data[:,1])\n",
    "    stretching.data[:,1] += dt * (swarmVgrad[:,2] * stretching.data[:,0] + swarmVgrad[:,3] * stretching.data[:,1])\n",
    "\n",
    "    # update plastic strain\n",
    "    swarmYield = viscosityFn.evaluate(swarm) < backgroundViscosityFn.evaluate(swarm)\n",
    "    swarmStrainRateInv = strainRate_2ndInvariantFn.evaluate(swarm)\n",
    "    weight = boundary(swarm.particleCoordinates.data[:,0], newminX, newmaxX, 10.0, 2) \n",
    "    plasticStrainIncrement = dt * np.where(swarmYield, swarmStrainRateInv , 0.0 )\n",
    "    plasticStrainIncrement[:,0] *= weight\n",
    "    plasticStrain.data[:] += plasticStrainIncrement\n",
    "\n",
    "    return newtime, step+1"
   ]
  },
  {
   "cell_type": "code",
   "execution_count": null,
   "metadata": {
    "collapsed": false,
    "scrolled": true
   },
   "outputs": [],
   "source": [
    "# Stepping. Initialise time and timestep.\n",
    "time = 0.\n",
    "step = 0\n",
    "nsteps = 50\n",
    "\n",
    "frictionValueAsString = str(frictionInf.evaluate([0.0,0.0])[0,0]) # For tagging in file names\n",
    "\n",
    "while step<nsteps:\n",
    "    # Obtain V,P and remove null-space / drift in pressure\n",
    "    solver.solve( nonLinearIterate=True )\n",
    "    (area,) = surfaceArea.evaluate()\n",
    "    (p0,) = surfacePressureIntegral.evaluate() \n",
    "    pressureField.data[:] -= p0 / area\n",
    "    \n",
    "    if (step%5 ==0):      \n",
    "        figYieldStress.save_image(     outputPath + \"figYield-\" +str(frictionInf.evaluate([0.0,0.0]))+\"-\" + str(step).zfill(4))\n",
    "        figVelocityPressure.save_image(     outputPath + \"figVP-\" +str(frictionInf.evaluate([0.0,0.0]))+\"-\" + str(step).zfill(4))\n",
    "        projectorStress.solve()\n",
    "        figStrain.save_image(      outputPath + \"figStrain-\"     +str(frictionInf.evaluate([0.0,0.0]))+\"-\" + str(step).zfill(4))\n",
    "        \n",
    "    if uw.rank()==0:   \n",
    "        print('step = {0:6d}; time = {1:.3e};'.format(step,time))\n",
    "        print(\"Plastic Strain - max = {}\".format(plasticStrain.evaluate(swarm).max()))\n",
    "\n",
    "    uw.barrier()\n",
    "    \n",
    "    # finished timestep, update all\n",
    "    time, step = update()"
   ]
  },
  {
   "cell_type": "markdown",
   "metadata": {},
   "source": [
    "Post simulation analysis\n",
    "-----\n",
    "\n",
    "**Note**: most of the figures (e.g. `figYieldStress`) are defined entirely in terms of StGermain functions. This will automatically plot the latest version of the function evaluated at each of the particle / mesh locations. However, if the figure requires `numpy` data evaluations then these evaluations will not be embedded in the figure itself and will have to be called beforehand. "
   ]
  },
  {
   "cell_type": "code",
   "execution_count": null,
   "metadata": {
    "collapsed": false,
    "scrolled": true
   },
   "outputs": [],
   "source": [
    "figYieldStress.show()"
   ]
  },
  {
   "cell_type": "code",
   "execution_count": null,
   "metadata": {
    "collapsed": false
   },
   "outputs": [],
   "source": [
    "figVelocityPressure.show()"
   ]
  },
  {
   "cell_type": "code",
   "execution_count": null,
   "metadata": {
    "collapsed": false
   },
   "outputs": [],
   "source": [
    "figStrain.show()"
   ]
  },
  {
   "cell_type": "code",
   "execution_count": null,
   "metadata": {
    "collapsed": false
   },
   "outputs": [],
   "source": [
    "projectorStress = uw.utils.MeshVariable_Projection( meshDevStress, fn.tensor.second_invariant(devStressFn), type=0 )\n",
    "projectorStress.solve()\n",
    "\n",
    "figMeshStress.show()"
   ]
  },
  {
   "cell_type": "markdown",
   "metadata": {},
   "source": [
    "### Particle shear-strain measure\n",
    "\n",
    "An initially horizontal line will be stretched along the direction of shear strain. This is one way to identify the shear bands but it's not particularly helpful for this example !"
   ]
  },
  {
   "cell_type": "code",
   "execution_count": null,
   "metadata": {
    "collapsed": false
   },
   "outputs": [],
   "source": [
    "swarmVgrad = velocityField.fn_gradient.evaluate(swarm)\n",
    "\n",
    "meshStretching = mesh.add_variable( 2 )\n",
    "\n",
    "orientation.data[:,0] = np.where( np.abs(swarmVgrad[:,0]) > 1.1, -180 * np.arctan2(stretching.data[:,1] / math.pi, stretching.data[:,0]) / math.pi, 0.0)\n",
    "\n",
    "projectStretching = uw.utils.MeshVariable_Projection( meshStretching, stretching, type=0 )\n",
    "projectStretching.solve()\n",
    "meshStretching.data[:,0] /= np.sqrt( meshStretching.data[:,0]**2 + meshStretching.data[:,1]**2 )\n",
    "meshStretching.data[:,1] /= np.sqrt( meshStretching.data[:,0]**2 + meshStretching.data[:,1]**2 )\n",
    "\n",
    "\n",
    "figMeshStretching = glucifer.Figure( figsize=(1200, 400))\n",
    "figMeshStretching.append( glucifer.objects.VectorArrows(mesh, meshStretching, scaling=0.1, arrowHead=0.00001, resolutionI=100, resolutionJ=25)) \n",
    "figMeshStretching.append( glucifer.objects.Points(swarm, orientation , pointSize=5.0, colours=\"#448800, #666666:0.0, #0099FF\") )\n",
    "figMeshStretching.show()\n"
   ]
  }
 ],
 "metadata": {
  "kernelspec": {
   "display_name": "Python 2",
   "language": "python",
   "name": "python2"
  },
  "language_info": {
   "codemirror_mode": {
    "name": "ipython",
    "version": 2
   },
   "file_extension": ".py",
   "mimetype": "text/x-python",
   "name": "python",
   "nbconvert_exporter": "python",
   "pygments_lexer": "ipython2",
   "version": "2.7.11"
  }
 },
 "nbformat": 4,
 "nbformat_minor": 0
}

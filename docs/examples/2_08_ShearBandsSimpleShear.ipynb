{
 "cells": [
  {
   "cell_type": "markdown",
   "metadata": {},
   "source": [
    "## Simple shear experiment\n",
    "\n",
    "The primary goal of this notebook is to demonstrate the formation of shear bands as a function of accumulating shear strain in a model with a softening frictional rheology. It also shows some strategies for visualising the shear bands.\n",
    "\n",
    "We consider a periodic domain with plastic-strain-softening, Drucker-Prager rheology which is subject to simple shear boundary conditions (the top and the bottom of the domain are driven at constant velocity in opposite directions.\n",
    "\n",
    "The rheology is described by:\n",
    "\n",
    "\\begin{equation}\n",
    "    \\eta =  \n",
    "        \\begin{cases}\n",
    "              \\eta_0 & |\\tau| < \\tau_\\textrm{yield} \\\\\n",
    "              {\\tau_\\textrm{yield}} / {2 \\left| \\, \\dot\\varepsilon \\, \\right|} & \\textrm{otherwise}\n",
    "        \\end{cases}\n",
    "\\end{equation}\n",
    "where the yield stress, $\\tau_\\textrm{yield}$ is given by\n",
    "\n",
    "\\begin{equation}\n",
    "    \\tau_\\textrm{yield} = C(\\varepsilon_p) + \\mu p \n",
    "\\end{equation}\n",
    "\n",
    "$ \\left| \\, \\dot\\varepsilon \\, \\right| $ is the second invariant of the strain rate tensor, $\\varepsilon$ is its integral over time in regions where the yield stress is reached, $C$ is a cohesion, $\\mu$ is a friction coefficient, and $p$ is the pressure.\n",
    "\n",
    "The cohesion weakens with accumulated plastic strain as follows:\n",
    "\n",
    "\\begin{equation}\n",
    "    C = c_0 + c_1 e^{ \\left( -\\varepsilon_\\textrm{p} / \\varepsilon_0 \\right)}\n",
    "\\end{equation}\n",
    "\n",
    "No healing of the cohesion is implemented in this example.\n",
    "\n",
    "\n"
   ]
  },
  {
   "cell_type": "code",
   "execution_count": null,
   "metadata": {
    "collapsed": false
   },
   "outputs": [],
   "source": [
    "import underworld as uw\n",
    "import numpy as np\n",
    "import math\n",
    "import os\n",
    "from underworld import function as fn\n",
    "import glucifer"
   ]
  },
  {
   "cell_type": "code",
   "execution_count": null,
   "metadata": {
    "collapsed": false
   },
   "outputs": [],
   "source": [
    "outputPath = os.path.join(os.path.abspath(\".\"),\"output/SimpleShear2D/\")\n",
    "\n",
    "if uw.rank()==0:\n",
    "    if not os.path.exists(outputPath):\n",
    "        os.makedirs(outputPath)\n",
    "uw.barrier()"
   ]
  },
  {
   "cell_type": "markdown",
   "metadata": {},
   "source": [
    "Create mesh and finite element variables\n",
    "------\n",
    "\n",
    "Note: the use of a pressure-sensitive rheology suggests that it is important to use a Q2/dQ1 element "
   ]
  },
  {
   "cell_type": "code",
   "execution_count": null,
   "metadata": {
    "collapsed": false
   },
   "outputs": [],
   "source": [
    "minX = 0.0\n",
    "maxX = 4.0\n",
    "resX = 192\n",
    "resY = 48\n",
    "elementType=\"Q1/dQ0\"\n",
    "\n",
    "mesh = uw.mesh.FeMesh_Cartesian( elementType = (elementType), \n",
    "                                 elementRes  = ( resX, resY), \n",
    "                                 minCoord    = ( minX, 0.), \n",
    "                                 maxCoord    = ( maxX, 1.),\n",
    "                                 periodic    = [True, False]  ) \n",
    "\n",
    "\n",
    "velocityField    = mesh.add_variable(         nodeDofCount=mesh.dim )\n",
    "pressureField    = mesh.subMesh.add_variable( nodeDofCount=1 )\n",
    "\n",
    "velocityField.data[:] = [0.,0.]\n",
    "pressureField.data[:] = 0."
   ]
  },
  {
   "cell_type": "markdown",
   "metadata": {},
   "source": [
    "### Boundary conditions\n",
    "\n",
    "Simple shear with periodic (wrap-around) walls in the _x_ direction"
   ]
  },
  {
   "cell_type": "code",
   "execution_count": null,
   "metadata": {
    "collapsed": false
   },
   "outputs": [],
   "source": [
    "iWalls = mesh.specialSets[\"MinI_VertexSet\"] + mesh.specialSets[\"MaxI_VertexSet\"]\n",
    "jWalls = mesh.specialSets[\"MinJ_VertexSet\"] + mesh.specialSets[\"MaxJ_VertexSet\"]\n",
    "\n",
    "#velocityField.data[mesh.specialSets[\"MinJ_VertexSet\"]] = 0.\n",
    "for index in mesh.specialSets[\"MinJ_VertexSet\"]:\n",
    "    velocityField.data[index] = [-0.5, 0.]\n",
    "for index in mesh.specialSets[\"MaxJ_VertexSet\"]:\n",
    "    velocityField.data[index] = [0.5, 0.]\n",
    "    \n",
    "BCs = uw.conditions.DirichletCondition( variable        = velocityField, \n",
    "                                        indexSetsPerDof = ( jWalls, jWalls) ) "
   ]
  },
  {
   "cell_type": "markdown",
   "metadata": {},
   "source": [
    "### Setup the material swarm\n",
    "\n",
    "This is used for tracking deformation and history dependence of the rheology"
   ]
  },
  {
   "cell_type": "code",
   "execution_count": null,
   "metadata": {
    "collapsed": true
   },
   "outputs": [],
   "source": [
    "swarm         = uw.swarm.Swarm( mesh=mesh )\n",
    "swarmLayout   = uw.swarm.layouts.GlobalSpaceFillerLayout( swarm=swarm, particlesPerCell=30 )\n",
    "swarm.populate_using_layout( layout=swarmLayout )\n",
    "\n",
    "deformationSwarm = uw.swarm.Swarm ( mesh=mesh )"
   ]
  },
  {
   "cell_type": "markdown",
   "metadata": {},
   "source": [
    "### Create a particle advection system\n",
    "\n",
    "Note that we need to set up one advector systems for each particle swarm (our global swarm and a separate one if we add passive tracers)."
   ]
  },
  {
   "cell_type": "code",
   "execution_count": null,
   "metadata": {
    "collapsed": false
   },
   "outputs": [],
   "source": [
    "advector  = uw.systems.SwarmAdvector( swarm=swarm,            velocityField=velocityField, order=2 )\n",
    "advector2 = uw.systems.SwarmAdvector( swarm=deformationSwarm, velocityField=velocityField, order=2 )"
   ]
  },
  {
   "cell_type": "markdown",
   "metadata": {},
   "source": [
    "### Add swarm variables\n",
    "\n",
    "We are using a single material with a single rheology. We need to track the plastic strain in order to have some manner of strain-related softening (e.g. of the cohesion or the friction coefficient). For visualisation of swarm data we need an actual swarm variable and not just the computation.\n",
    "\n",
    "Other variables are used to track deformation in the shear band etc.\n",
    "\n",
    "**NOTE**:  Underworld needs all the swarm variables defined before they are initialised or there will be / can be memory problems (at least it complains about them !). That means we need to add the monitoring variables now, even if we don't always need them."
   ]
  },
  {
   "cell_type": "code",
   "execution_count": null,
   "metadata": {
    "collapsed": true
   },
   "outputs": [],
   "source": [
    "plasticStrain  = swarm.add_variable( dataType=\"double\",  count=1 )\n",
    "\n",
    "# These ones are for monitoring of the shear bands\n",
    "\n",
    "stretching = swarm.add_variable( dataType=\"double\", count=mesh.dim)\n",
    "orientation = swarm.add_variable( dataType=\"double\", count=1)\n",
    "\n",
    "deformationVariable = deformationSwarm.add_variable( dataType=\"double\", count=1)"
   ]
  },
  {
   "cell_type": "markdown",
   "metadata": {},
   "source": [
    "### Initialise swarm variables\n",
    "\n"
   ]
  },
  {
   "cell_type": "code",
   "execution_count": null,
   "metadata": {
    "collapsed": false
   },
   "outputs": [],
   "source": [
    "# Stretching - assume an initial orientation aligned with the x-axis\n",
    "\n",
    "stretching.data[:,0] = 1.0\n",
    "stretching.data[:,1] = 0.0\n",
    "\n",
    "# This is a work-variable for visualisation\n",
    "\n",
    "orientation.data[:] = 0.0\n",
    "\n",
    "# plastic strain - random initial value with an envelope to ensure the \n",
    "# localisation stays clear of the boundary = the same function will be used\n",
    "# later to suppress the plastic strain weakening close to the boundaries. \n",
    "\n",
    "def boundary(xx, width, power):\n",
    "    return (np.tanh(xx*width) + np.tanh((1.0-xx)*width) - math.tanh(width))**power\n",
    "\n",
    "weight = boundary(swarm.particleCoordinates.data[:,1], 10, 4)\n",
    "\n",
    "plasticStrain.data[:] = 0.05 * np.random.rand(*plasticStrain.data.shape[:])\n",
    "plasticStrain.data[:,0] *= weight\n",
    "\n",
    "deformationPoints = np.array(np.meshgrid(np.linspace(minX+0.01, maxX-0.01, 50), np.linspace(0.1, 0.8, 100))).T.reshape(-1,2)\n",
    "deformationSwarm.add_particles_with_coordinates( deformationPoints )\n",
    "\n",
    "pass"
   ]
  },
  {
   "cell_type": "markdown",
   "metadata": {},
   "source": [
    "### Define the viscosity function\n",
    "\n",
    "In this case, the viscosity of material which has not reached the yield criterion is simply going to be a constant. Nevertheless, it is useful to define it here as a function and write the remaining code such that it is not changed if we introduce additional materials or a dependence on another set of equations.\n",
    "\n"
   ]
  },
  {
   "cell_type": "code",
   "execution_count": null,
   "metadata": {
    "collapsed": true
   },
   "outputs": [],
   "source": [
    "viscosity0  = 1.0\n",
    "\n",
    "backgroundViscosityFn = fn.misc.constant(viscosity0)"
   ]
  },
  {
   "cell_type": "markdown",
   "metadata": {},
   "source": [
    "### Define a yield criterion (function)\n",
    "\n",
    "\\begin{equation}\n",
    "    \\tau_\\textrm{yield} = C(\\varepsilon_p) + \\mu p \n",
    "\\end{equation}\n",
    "\n",
    "The yield strength described above needs to be evaluated on the fly at the particles (integration points). It therefore needs to be a function composed of mesh variables, swarm variables, constants, and mathematical operations."
   ]
  },
  {
   "cell_type": "code",
   "execution_count": null,
   "metadata": {
    "collapsed": false
   },
   "outputs": [],
   "source": [
    "# Cohesion - a function of swarm variables\n",
    "\n",
    "cohesionInf     = fn.misc.constant(0.25)\n",
    "cohesion0       = fn.misc.constant(0.75)\n",
    "referenceStrain = fn.misc.constant(1.0)\n",
    "\n",
    "cohesionFn =  cohesionInf + cohesion0 * fn.math.exp(-plasticStrain / referenceStrain )\n",
    "\n",
    "# Friction - in this form it could also be made to weaken with strain\n",
    "\n",
    "frictionInf     = fn.misc.constant(0.5)\n",
    "frictionFn      = frictionInf \n",
    "\n",
    "\n",
    "# Drucker-Prager yield criterion\n",
    "\n",
    "yieldStressFn   = cohesionFn + frictionFn * pressureField\n",
    "\n",
    "\n",
    "# Plot it and see (it will be the cohesion in the first run through) \n",
    "\n",
    "figYieldStress = glucifer.Figure( figsize=(1200,400) )\n",
    "figYieldStress.append( glucifer.objects.Points(swarm, yieldStressFn , pointSize=3.0) )\n",
    "figYieldStress.show()"
   ]
  },
  {
   "cell_type": "markdown",
   "metadata": {},
   "source": [
    "### Define composite (yielding) rheology\n",
    "\n",
    "The actual constitutive behaviour is a composite of the behaviour below the yield strength and the reduced viscosity required to ensure that the stress remains bounded by the yield envelope.\n",
    "\n",
    "\\begin{equation}\n",
    "    \\eta =  \n",
    "        \\begin{cases}\n",
    "              \\eta_0 & |\\tau| < \\tau_\\textrm{yield} \\\\\n",
    "              {\\tau _ \\textrm{yield}} / {2 \\left| \\, \\dot\\varepsilon \\, \\right|} & \\textrm{otherwise}\n",
    "        \\end{cases}\n",
    "\\end{equation}\n",
    "\n",
    "**Note**: The $1.0^{-18}$ added to the strain-rate is supposed to be a small number preventing the rheology from blowing up if the velocity field is zero. Obviously this number should be much smaller than the expected strain rate !"
   ]
  },
  {
   "cell_type": "code",
   "execution_count": null,
   "metadata": {
    "collapsed": false
   },
   "outputs": [],
   "source": [
    "# first define strain rate tensor\n",
    "\n",
    "strainRateFn = fn.tensor.symmetric( velocityField.fn_gradient )\n",
    "strainRate_2ndInvariantFn = fn.tensor.second_invariant(strainRateFn)\n",
    "\n",
    "# now compute a viscosity assuming yielding\n",
    "\n",
    "min_viscosity = 0.001\n",
    "\n",
    "yieldingViscosityFn =  0.5 * yieldStressFn / (strainRate_2ndInvariantFn+1.0e-18)\n",
    "\n",
    "viscosityFn = fn.exception.SafeMaths( fn.misc.max(fn.misc.min(yieldingViscosityFn, \n",
    "                                                              backgroundViscosityFn), \n",
    "                                                  min_viscosity))\n"
   ]
  },
  {
   "cell_type": "markdown",
   "metadata": {},
   "source": [
    "### Deviatoric stress \n",
    "\n",
    "The deviatoric stress is computed from the constitutive law based on the viscosity that\n",
    "results from the solution to the non-linear Stokes equation.\n",
    "\n",
    "**Note:** the deviatoric stress is defined in terms of functions we have defined already\n",
    "but the value will be meaningless if the viscosityFn is modified in any way after the \n",
    "solve is complete because evaluation is made only when the values at particular points are needed."
   ]
  },
  {
   "cell_type": "code",
   "execution_count": null,
   "metadata": {
    "collapsed": true
   },
   "outputs": [],
   "source": [
    "devStressFn = 2.0 * viscosityFn * strainRateFn"
   ]
  },
  {
   "cell_type": "markdown",
   "metadata": {},
   "source": [
    "### Buoyancy forces\n",
    "\n",
    "In this example, no buoyancy forces are considered. However, to establish an appropriate pressure gradient in the material, it would normally be useful to map density from material properties and create a buoyancy force."
   ]
  },
  {
   "cell_type": "code",
   "execution_count": null,
   "metadata": {
    "collapsed": false
   },
   "outputs": [],
   "source": [
    "z_hat   = ( 0.0, 0.0 )\n",
    "buoyancyFn = z_hat "
   ]
  },
  {
   "cell_type": "markdown",
   "metadata": {},
   "source": [
    "System setup\n",
    "-----\n",
    "\n",
    "Setup a Stokes equation system and connect a solver up to it.  \n",
    "\n",
    "In this example, no buoyancy forces are considered. However, to establish an appropriate pressure gradient in the material, it would normally be useful to map density from material properties and create a buoyancy force."
   ]
  },
  {
   "cell_type": "code",
   "execution_count": null,
   "metadata": {
    "collapsed": false
   },
   "outputs": [],
   "source": [
    "stokes = uw.systems.Stokes(    velocityField = velocityField, \n",
    "                               pressureField = pressureField,\n",
    "                               voronoi_swarm = swarm, \n",
    "                               conditions    = BCs,\n",
    "                               fn_viscosity  = viscosityFn, \n",
    "                               fn_bodyforce  = None )\n",
    "\n",
    "\n",
    "solver = uw.systems.Solver( stokes )\n",
    "\n",
    "# \"mumps\" is a good alternative for \"lu\" but \n",
    "# not every petsc installation has mumps !\n",
    "# It also works fine in parallel\n",
    "\n",
    "# use \"lu\" direct solve and large penalty (if running in serial)\n",
    "if(uw.nProcs()==1):\n",
    "    solver.set_inner_method(\"lu\")\n",
    "    solver.set_penalty(1.0e6) \n",
    "    \n",
    "    \n",
    "solver.options.scr.ksp_rtol = 1.0e-3\n",
    "\n",
    "# Test to see if these setting are OK\n",
    "\n",
    "solver.solve( nonLinearIterate=True )\n",
    "solver.print_stats()\n"
   ]
  },
  {
   "cell_type": "code",
   "execution_count": null,
   "metadata": {
    "collapsed": false
   },
   "outputs": [],
   "source": [
    "velocityFieldAnomaly = velocityField.copy()\n",
    "velocityFieldAnomaly = velocityField - ( 1.0, 0.0 ) * (fn.input()[1] - 0.5)\n",
    "\n",
    "curlV = velocityField.fn_gradient[1] - velocityField.fn_gradient[2]\n",
    "\n",
    "figStrainRate2 = glucifer.Figure(figsize=(1200, 400))\n",
    "figStrainRate2.append( glucifer.objects.VectorArrows(mesh, velocityFieldAnomaly, scaling=.1) )\n",
    "figStrainRate2.append( glucifer.objects.Surface(mesh, curlV) )\n",
    "figStrainRate2.show()\n"
   ]
  },
  {
   "cell_type": "code",
   "execution_count": null,
   "metadata": {
    "collapsed": false
   },
   "outputs": [],
   "source": [
    "# The stress is only guaranteed to be accurate when integrated across an element. Fluctuations\n",
    "# within an element can be significant. Mapping to the mesh can help for visualisation purposes\n",
    "\n",
    "meshDevStress = mesh.add_variable( 1 )\n",
    "\n",
    "projectorStress = uw.utils.MeshVariable_Projection( meshDevStress, fn.tensor.second_invariant(devStressFn), type=0 )\n",
    "projectorStress.solve()\n",
    "\n",
    "figMeshStress = glucifer.Figure( figsize=(1200, 400))\n",
    "figMeshStress.append( glucifer.objects.Surface(mesh, pressureField  , colours=\"#0044BB, #777777, #FF9900\") )\n",
    "figMeshStress.show()"
   ]
  },
  {
   "cell_type": "code",
   "execution_count": null,
   "metadata": {
    "collapsed": false
   },
   "outputs": [],
   "source": [
    "figStrain = glucifer.Figure( figsize=(1200, 400))\n",
    "figStrain.append( glucifer.objects.Points(swarm, cohesionFn, pointSize=5.0, colours=\"white:0.5 black:0.5\") )\n",
    "figStrain.append( glucifer.objects.Points(swarm, plasticStrain, pointSize=4.0,  colours=\"#FF6600:0.5, #555555:0.25, Blue:0.5\") )\n",
    "figStrain.show()"
   ]
  },
  {
   "cell_type": "markdown",
   "metadata": {},
   "source": [
    "## Main simulation loop\n",
    "-----"
   ]
  },
  {
   "cell_type": "code",
   "execution_count": null,
   "metadata": {
    "collapsed": true
   },
   "outputs": [],
   "source": [
    "def update():\n",
    "    # get timestep\n",
    "    dt = advector.get_max_dt()\n",
    "    \n",
    "    # advect particles\n",
    "    advector.integrate(dt)\n",
    "    advector2.integrate(dt)\n",
    "\n",
    "    # update stretching metric\n",
    "    swarmVgrad = velocityField.fn_gradient.evaluate(swarm)\n",
    "    stretching.data[:,0] += dt * (swarmVgrad[:,0] * stretching.data[:,0] + swarmVgrad[:,1] * stretching.data[:,1])\n",
    "    stretching.data[:,1] += dt * (swarmVgrad[:,2] * stretching.data[:,0] + swarmVgrad[:,3] * stretching.data[:,1])\n",
    "        \n",
    "    # plastic strain update\n",
    "    swarmViscosity = viscosityFn.evaluate(swarm)\n",
    "    swarmStrainRateInv = strainRate_2ndInvariantFn.evaluate(swarm)\n",
    "    weight = boundary(swarm.particleCoordinates.data[:,1], 10, 4)\n",
    "    plasticStrainIncrement = dt * np.where( swarmViscosity < viscosity0, swarmStrainRateInv , 0.0 )\n",
    "    plasticStrainIncrement[:,0] *= weight\n",
    "    plasticStrain.data[:] += plasticStrainIncrement\n",
    "    \n",
    "    return time+dt, step+1"
   ]
  },
  {
   "cell_type": "code",
   "execution_count": null,
   "metadata": {
    "collapsed": false,
    "scrolled": true
   },
   "outputs": [],
   "source": [
    "# Stepping. Initialise time and timestep.\n",
    "time = 0.\n",
    "step = 0\n",
    "nsteps = 10\n",
    "frictionValueAsString = str(frictionInf.evaluate([0.0,0.0])[0,0]) # \n",
    "\n",
    "while step<nsteps:\n",
    "    solver.solve( nonLinearIterate=True )\n",
    "\n",
    "    if (step%5 ==0):\n",
    "               \n",
    "        figStrainRate2.save_image( outputPath + \"figStrainRate-\" +\n",
    "                                   frictionValueAsString + \"-\" + str(step).zfill(4))\n",
    "        \n",
    "        figYieldStress.save_image( outputPath + \"figStrength-\" +                \n",
    "                                   frictionValueAsString + \"-\" + str(step).zfill(4))\n",
    "        \n",
    "    if uw.rank()==0:\n",
    "        print('step = {0:6d}; time = {1:.3e};'.format(step,time))\n",
    "        print(\"Plastic Strain - max = {}\".format(plasticStrain.evaluate(swarm).max()))\n",
    "\n",
    "    # finished with timestep, let's update\n",
    "    time, step = update()"
   ]
  },
  {
   "cell_type": "markdown",
   "metadata": {},
   "source": [
    "Post simulation analysis\n",
    "-----\n",
    "\n",
    "**Note**: Because `figCohesion` is defined entirely in terms of StGermain functions, it will automatically plot the latest version of the cohesion evaluated at each of the particle locations. This is not true of the figure which has to compute the velocity anomaly. The reason for this is that the function interface does not (yet) have the capacity to manipulate the velocity as required."
   ]
  },
  {
   "cell_type": "code",
   "execution_count": null,
   "metadata": {
    "collapsed": false,
    "scrolled": true
   },
   "outputs": [],
   "source": [
    "figYieldStress.show()"
   ]
  },
  {
   "cell_type": "code",
   "execution_count": null,
   "metadata": {
    "collapsed": false
   },
   "outputs": [],
   "source": [
    "figStrainRate2.show()"
   ]
  },
  {
   "cell_type": "code",
   "execution_count": null,
   "metadata": {
    "collapsed": false
   },
   "outputs": [],
   "source": [
    "projectorStress = uw.utils.MeshVariable_Projection( meshDevStress, fn.tensor.second_invariant(devStressFn), type=1 )\n",
    "projectorStress.solve()\n",
    "\n",
    "figMeshStress.show()"
   ]
  },
  {
   "cell_type": "code",
   "execution_count": null,
   "metadata": {
    "collapsed": false
   },
   "outputs": [],
   "source": [
    "figPressure = glucifer.Figure(figsize=(1200, 400))\n",
    "figPressure.append( glucifer.objects.Surface(mesh, pressureField, colours=\"#BBCCCC, #FF4400\") )\n",
    "figPressure.show()"
   ]
  },
  {
   "cell_type": "markdown",
   "metadata": {},
   "source": [
    "### Particle shear-strain measure\n",
    "\n",
    "An initially horizontal line will be stretched along the direction of shear strain. This is one way to identify the shear bands but it's not particularly helpful for this example !"
   ]
  },
  {
   "cell_type": "code",
   "execution_count": null,
   "metadata": {
    "collapsed": false
   },
   "outputs": [],
   "source": [
    "swarmVgrad = velocityField.fn_gradient.evaluate(swarm)\n",
    "\n",
    "meshStretching = mesh.add_variable( 2 )\n",
    "\n",
    "orientation.data[:,0] = np.where( np.abs(swarmVgrad[:,0]) > 1.1, -180 * np.arctan2(stretching.data[:,1] / math.pi, stretching.data[:,0]) / math.pi, 0.0)\n",
    "\n",
    "projectStretching = uw.utils.MeshVariable_Projection( meshStretching, stretching, type=0 )\n",
    "projectStretching.solve()\n",
    "meshStretching.data[:,0] /= np.sqrt( meshStretching.data[:,0]**2 + meshStretching.data[:,1]**2 )\n",
    "meshStretching.data[:,1] /= np.sqrt( meshStretching.data[:,0]**2 + meshStretching.data[:,1]**2 )\n",
    "\n",
    "figMeshStretching = glucifer.Figure( figsize=(1200, 400))\n",
    "figMeshStretching.append( glucifer.objects.VectorArrows(mesh, meshStretching, scaling=0.1, arrowHead=0.00001, resolutionI=100, resolutionJ=25)) \n",
    "figMeshStretching.append( glucifer.objects.Points(swarm, orientation , pointSize=5.0, colours=\"#448800, #666666:0.0, #0099FF\") )\n",
    "figMeshStretching.show()\n"
   ]
  },
  {
   "cell_type": "code",
   "execution_count": null,
   "metadata": {
    "collapsed": true
   },
   "outputs": [],
   "source": []
  }
 ],
 "metadata": {
  "kernelspec": {
   "display_name": "Python 2",
   "language": "python",
   "name": "python2"
  },
  "language_info": {
   "codemirror_mode": {
    "name": "ipython",
    "version": 2
   },
   "file_extension": ".py",
   "mimetype": "text/x-python",
   "name": "python",
   "nbconvert_exporter": "python",
   "pygments_lexer": "ipython2",
   "version": "2.7.11"
  }
 },
 "nbformat": 4,
 "nbformat_minor": 0
}

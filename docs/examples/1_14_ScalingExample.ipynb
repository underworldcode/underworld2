{
 "cells": [
  {
   "cell_type": "markdown",
   "metadata": {},
   "source": [
    "A thermal convection example illustrating scaling in Underworld2\n",
    "====== "
   ]
  },
  {
   "cell_type": "markdown",
   "metadata": {},
   "source": [
    "I have written a small python module which leverages [Pint](https://pint.readthedocs.io), a python package used to define and manipulate physical units. Pint uses a system of unit registries to define a large set of units and most of their prefixes. A Pint Quantity object is a physical value with a specific unit attached to itself. Quantity objects can be used in mathematical expressions and return Quantities in appropriate units.\n",
    "\n",
    "Romain Beucher\n",
    "[mailto:romain.beucher@unimelb.edu.au]"
   ]
  },
  {
   "cell_type": "markdown",
   "metadata": {},
   "source": [
    "First of all make sure that you have Pint installed on your system. \n",
    "The easiest is to use *pip* in a terminal:\n",
    "\n",
    "```\n",
    "[sudo] pip install pint\n",
    "```\n"
   ]
  },
  {
   "cell_type": "markdown",
   "metadata": {},
   "source": [
    "The scaling submodule can then be imported as follow:"
   ]
  },
  {
   "cell_type": "code",
   "execution_count": null,
   "metadata": {
    "collapsed": true
   },
   "outputs": [],
   "source": [
    "import unsupported.geodynamics.scaling as sca"
   ]
  },
  {
   "cell_type": "markdown",
   "metadata": {},
   "source": [
    "The module gives you access to a Pint UnitRegistry which is basically a registry of all units available through Pint."
   ]
  },
  {
   "cell_type": "markdown",
   "metadata": {},
   "source": [
    "Lets create an alias to make the following steps easier to read:"
   ]
  },
  {
   "cell_type": "code",
   "execution_count": null,
   "metadata": {
    "collapsed": true
   },
   "outputs": [],
   "source": [
    "u = sca.UnitRegistry"
   ]
  },
  {
   "cell_type": "markdown",
   "metadata": {},
   "source": [
    "You can now define quantities as follow:"
   ]
  },
  {
   "cell_type": "code",
   "execution_count": null,
   "metadata": {
    "collapsed": true
   },
   "outputs": [],
   "source": [
    "length = 1.0 * u.nautical_mile\n",
    "length = 1.0 * u.parsec\n",
    "length = 1.0 * u.kilometer\n",
    "\n",
    "width  = 2.0 * u.kilometer"
   ]
  },
  {
   "cell_type": "markdown",
   "metadata": {},
   "source": [
    "The *length* and *width* objects are Pint Quantities. I strongly encourage you to explore their different attributes and methods. Use <kbd>tab</kbd> + <kbd>tab</kbd> after the <kbd>.</kbd> to get a list of all the options available.\n"
   ]
  },
  {
   "cell_type": "code",
   "execution_count": null,
   "metadata": {
    "collapsed": true
   },
   "outputs": [],
   "source": [
    "print length.dimensionality\n",
    "print length.magnitude\n",
    "print length.units"
   ]
  },
  {
   "cell_type": "markdown",
   "metadata": {},
   "source": [
    "Units are not important here. You can use whatever you want, you can even define your own:"
   ]
  },
  {
   "cell_type": "code",
   "execution_count": null,
   "metadata": {
    "collapsed": true
   },
   "outputs": [],
   "source": [
    "u.define('distance_to_coffee_machine = 57.34 * meters = dtcm')"
   ]
  },
  {
   "cell_type": "code",
   "execution_count": null,
   "metadata": {
    "collapsed": true
   },
   "outputs": [],
   "source": [
    "length = 3.2 * u.distance_to_coffee_machine\n",
    "print length"
   ]
  },
  {
   "cell_type": "markdown",
   "metadata": {},
   "source": [
    "And you can of course convert between units:"
   ]
  },
  {
   "cell_type": "code",
   "execution_count": null,
   "metadata": {
    "collapsed": true
   },
   "outputs": [],
   "source": [
    "length = length.to(u.meter)\n",
    "print length"
   ]
  },
  {
   "cell_type": "markdown",
   "metadata": {},
   "source": [
    "Pint Quantities can be used to calculate derived quantities:"
   ]
  },
  {
   "cell_type": "code",
   "execution_count": null,
   "metadata": {
    "collapsed": true
   },
   "outputs": [],
   "source": [
    "area = length * width\n",
    "print \"area = {0}\".format(area) "
   ]
  },
  {
   "cell_type": "markdown",
   "metadata": {},
   "source": [
    "Using Pint with Underworld\n",
    "====="
   ]
  },
  {
   "cell_type": "markdown",
   "metadata": {},
   "source": [
    "Note Underworld does not accept pint Quantities as input (yet).\n",
    "That is where the scaling comes to play."
   ]
  },
  {
   "cell_type": "markdown",
   "metadata": {},
   "source": [
    "Lets assume that you want a build a simple thermal convection model but with some physical units instead of dimensionless values. The example solves 2D dimensionless isoviscous thermal convection with a Rayleigh number of $10^4$, see Blankenbach *et al.* 1989 for details. "
   ]
  },
  {
   "cell_type": "markdown",
   "metadata": {},
   "source": [
    "Here are the physical dimension of our model."
   ]
  },
  {
   "cell_type": "code",
   "execution_count": null,
   "metadata": {
    "collapsed": true
   },
   "outputs": [],
   "source": [
    "# Set simulation box size.\n",
    "boxHeight = 1000. * u.kilometer\n",
    "boxLength = 2000. * u.kilometer\n",
    "# Set min/max temperatures.\n",
    "tempMin   =  273.15 * u.degK\n",
    "tempMax   = 1273.15 * u.degK\n",
    "viscosity = 2.5e19  * u.pascal   * u.second\n",
    "gravity   = 9.81    * u.metre / u.second**2"
   ]
  },
  {
   "cell_type": "markdown",
   "metadata": {},
   "source": [
    "By default the scaling module gives you a set of scaling coefficients to normalize your values. \n",
    "It can be accessed as follow:"
   ]
  },
  {
   "cell_type": "code",
   "execution_count": null,
   "metadata": {
    "collapsed": true
   },
   "outputs": [],
   "source": [
    "sca.scaling"
   ]
  },
  {
   "cell_type": "markdown",
   "metadata": {},
   "source": [
    "You can see that 5 fundamental dimensions have been defined in terms of [Length], [Mass], [Temperature], [Time] and [Substance], following Pint convention."
   ]
  },
  {
   "cell_type": "markdown",
   "metadata": {},
   "source": [
    "The scaling coefficients are all equal to 1 by default. \n",
    "Now you can redefine the models physical dimensions to be used by Underworld. The nonDimensinalize function ensures all units are converted into the SI unit system. "
   ]
  },
  {
   "cell_type": "code",
   "execution_count": null,
   "metadata": {
    "collapsed": true
   },
   "outputs": [],
   "source": [
    "boxHeight = sca.nonDimensionalize(boxHeight)\n",
    "boxLength = sca.nonDimensionalize(boxLength)\n",
    "tempMin   = sca.nonDimensionalize(tempMin) \n",
    "tempMax   = sca.nonDimensionalize(tempMax)\n",
    "viscosity = sca.nonDimensionalize(viscosity)\n",
    "gravity   = sca.nonDimensionalize(gravity)"
   ]
  },
  {
   "cell_type": "code",
   "execution_count": null,
   "metadata": {
    "collapsed": true
   },
   "outputs": [],
   "source": [
    "print \"boxHeight = {0}\".format(boxHeight)\n",
    "print \"boxLength = {0}\".format(boxLength)\n",
    "print \"tempMin   = {0}\".format(tempMin)\n",
    "print \"tempMax   = {0}\".format(tempMax)\n",
    "print \"viscosity = {0}\".format(viscosity)\n",
    "print \"gravity   = {0}\".format(gravity)"
   ]
  },
  {
   "cell_type": "markdown",
   "metadata": {},
   "source": [
    "All the values above are dimensionless. \n",
    "They have been normalized using the values from the scaling dictionary and uniformised into the SI system."
   ]
  },
  {
   "cell_type": "markdown",
   "metadata": {},
   "source": [
    "We can use this same process to define a different scaling, with length, the temperature gradient and the viscosity are all equal to one. Let's start by redefining the model parameters."
   ]
  },
  {
   "cell_type": "code",
   "execution_count": null,
   "metadata": {
    "collapsed": true
   },
   "outputs": [],
   "source": [
    "# re-defining the parameters as above\n",
    "boxHeight = 1000.   * u.kilometer\n",
    "boxLength = 2000.   * u.kilometer\n",
    "tempMin   =  273.15 * u.degK\n",
    "tempMax   = 1273.15 * u.degK\n",
    "viscosity = 2.5e19  * u.pascal   * u.second\n",
    "gravity   = 9.81    * u.metre / u.second**2"
   ]
  },
  {
   "cell_type": "markdown",
   "metadata": {},
   "source": [
    "We can know define some scaling cooefficients"
   ]
  },
  {
   "cell_type": "code",
   "execution_count": null,
   "metadata": {
    "collapsed": true
   },
   "outputs": [],
   "source": [
    "# define scaling coefficients\n",
    "KL = boxHeight\n",
    "KT = tempMax - tempMin\n",
    "Kt = (gravity**-1 * KL)**0.5\n",
    "KM = viscosity * KL * Kt"
   ]
  },
  {
   "cell_type": "markdown",
   "metadata": {},
   "source": [
    "Let's check the scaling coefficients"
   ]
  },
  {
   "cell_type": "code",
   "execution_count": null,
   "metadata": {
    "collapsed": true
   },
   "outputs": [],
   "source": [
    "sca.scaling[\"[length]\"]      = KL.to_base_units()\n",
    "sca.scaling[\"[temperature]\"] = KT.to_base_units()\n",
    "sca.scaling[\"[time]\"]        = Kt.to_base_units()\n",
    "sca.scaling[\"[mass]\"]        = KM.to_base_units()\n",
    "\n",
    "sca.scaling"
   ]
  },
  {
   "cell_type": "markdown",
   "metadata": {},
   "source": [
    "We can now nondimensionalize the model parameters"
   ]
  },
  {
   "cell_type": "code",
   "execution_count": null,
   "metadata": {
    "collapsed": true
   },
   "outputs": [],
   "source": [
    "boxHeight = sca.nonDimensionalize(boxHeight)\n",
    "boxLength = sca.nonDimensionalize(boxLength)\n",
    "tempMin   = sca.nonDimensionalize(tempMin) \n",
    "tempMax   = sca.nonDimensionalize(tempMax)\n",
    "viscosity = sca.nonDimensionalize(viscosity)\n",
    "gravity   = sca.nonDimensionalize(gravity)"
   ]
  },
  {
   "cell_type": "code",
   "execution_count": null,
   "metadata": {
    "collapsed": true
   },
   "outputs": [],
   "source": [
    "print \"boxHeight = {0}\".format(boxHeight)\n",
    "print \"boxLength = {0}\".format(boxLength)\n",
    "print \"tempMin   = {0}\".format(tempMin)\n",
    "print \"tempMax   = {0}\".format(tempMax)\n",
    "print \"viscosity = {0}\".format(viscosity)\n",
    "print \"gravity   = {0}\".format(gravity)"
   ]
  },
  {
   "cell_type": "markdown",
   "metadata": {},
   "source": [
    "To go back to dimension units, call the Dimensionalize function:"
   ]
  },
  {
   "cell_type": "code",
   "execution_count": null,
   "metadata": {
    "collapsed": true
   },
   "outputs": [],
   "source": [
    "print \"boxHeight in Kilometers: {0}\".format(sca.Dimensionalize(boxHeight, units=u.kilometer))\n",
    "print \"boxHeight in dtcm: {0}\".format(sca.Dimensionalize(boxHeight, units=u.dtcm))"
   ]
  },
  {
   "cell_type": "markdown",
   "metadata": {},
   "source": [
    "From now on, any new quantity must be scaled using a call to sca.nonDimenionalize, this makes sure that the value is properly scaled."
   ]
  },
  {
   "cell_type": "code",
   "execution_count": null,
   "metadata": {
    "collapsed": true
   },
   "outputs": [],
   "source": [
    "thermal_conductivity =  sca.nonDimensionalize(3.0 * u.watt / u.meter / u.degK)\n",
    "print \"Thermal Conductivity = {0}\".format(thermal_conductivity)"
   ]
  },
  {
   "cell_type": "markdown",
   "metadata": {},
   "source": [
    "# Thermal Convection Model"
   ]
  },
  {
   "cell_type": "markdown",
   "metadata": {},
   "source": [
    "Back to our thermal convection example, using the previously defined model parameters"
   ]
  },
  {
   "cell_type": "code",
   "execution_count": null,
   "metadata": {
    "collapsed": true
   },
   "outputs": [],
   "source": [
    "import underworld as uw\n",
    "from underworld import function as fn\n",
    "import glucifer\n",
    "import math"
   ]
  },
  {
   "cell_type": "code",
   "execution_count": null,
   "metadata": {
    "collapsed": true
   },
   "outputs": [],
   "source": [
    "nd = sca.nonDimensionalize"
   ]
  },
  {
   "cell_type": "code",
   "execution_count": null,
   "metadata": {
    "collapsed": true
   },
   "outputs": [],
   "source": [
    "conductivity = nd(3.    * u.watt / u.meter / u.delta_degC)\n",
    "density      = nd(3300. * u.kilogram * u.meter**3)\n",
    "capacity     = nd(914.  * u.joules / u.kelvin / u.kilogram)\n",
    "\n",
    "diffusivity  = conductivity / (density * capacity)"
   ]
  },
  {
   "cell_type": "code",
   "execution_count": null,
   "metadata": {
    "collapsed": true
   },
   "outputs": [],
   "source": [
    "# Set the resolution.\n",
    "resx = 32\n",
    "resy = 16"
   ]
  },
  {
   "cell_type": "markdown",
   "metadata": {},
   "source": [
    "We create the mesh"
   ]
  },
  {
   "cell_type": "code",
   "execution_count": null,
   "metadata": {
    "collapsed": true
   },
   "outputs": [],
   "source": [
    "mesh = uw.mesh.FeMesh_Cartesian( elementType = (\"Q1/dQ0\"), \n",
    "                                 elementRes  = (resx, resy), \n",
    "                                 minCoord    = (0., 0.), \n",
    "                                 maxCoord    = (boxLength, boxHeight))"
   ]
  },
  {
   "cell_type": "code",
   "execution_count": null,
   "metadata": {
    "collapsed": true
   },
   "outputs": [],
   "source": [
    "velocityField       = mesh.add_variable(         nodeDofCount=2 )\n",
    "pressureField       = mesh.subMesh.add_variable( nodeDofCount=1 )\n",
    "temperatureField    = mesh.add_variable(         nodeDofCount=1 )\n",
    "temperatureDotField = mesh.add_variable(         nodeDofCount=1 )\n",
    "\n",
    "# Initialise values\n",
    "velocityField.data[...]       = nd(0. * u.meter / u.second)\n",
    "pressureField.data[...]       = nd(0. * u.megapascal)\n",
    "temperatureDotField.data[...] = nd(0.)"
   ]
  },
  {
   "cell_type": "code",
   "execution_count": null,
   "metadata": {
    "collapsed": true
   },
   "outputs": [],
   "source": [
    "# Rayleigh number.\n",
    "Ra = 1.0e4\n",
    "\n",
    "# Construct our density function.\n",
    "densityFn = Ra * temperatureField\n",
    "\n",
    "# Define our vertical unit vector using a python tuple (this will be automatically converted to a function).\n",
    "z_hat = ( 0.0, gravity )\n",
    "\n",
    "# Now create a buoyancy force vector using the density and the vertical unit vector. \n",
    "buoyancyFn = densityFn * z_hat"
   ]
  },
  {
   "cell_type": "markdown",
   "metadata": {},
   "source": [
    "Create initial & boundary conditions\n",
    "----------\n",
    "\n",
    "Set a sinusoidal perturbation in the temperature field to seed the onset of convection."
   ]
  },
  {
   "cell_type": "code",
   "execution_count": null,
   "metadata": {
    "collapsed": true
   },
   "outputs": [],
   "source": [
    "pertStrength = 0.2\n",
    "deltaTemp = tempMax - tempMin\n",
    "for index, coord in enumerate(mesh.data):\n",
    "    pertCoeff = math.cos( math.pi * coord[0] ) * math.sin( math.pi * coord[1] )\n",
    "    temperatureField.data[index] = tempMin + deltaTemp*(boxHeight - coord[1]) + pertStrength * pertCoeff\n",
    "    temperatureField.data[index] = max(tempMin, min(tempMax, temperatureField.data[index]))"
   ]
  },
  {
   "cell_type": "markdown",
   "metadata": {},
   "source": [
    "Set top and bottom wall temperature boundary values."
   ]
  },
  {
   "cell_type": "code",
   "execution_count": null,
   "metadata": {
    "collapsed": true
   },
   "outputs": [],
   "source": [
    "for index in mesh.specialSets[\"MinJ_VertexSet\"]:\n",
    "    temperatureField.data[index] = tempMax\n",
    "for index in mesh.specialSets[\"MaxJ_VertexSet\"]:\n",
    "    temperatureField.data[index] = tempMin"
   ]
  },
  {
   "cell_type": "markdown",
   "metadata": {},
   "source": [
    "Construct sets for ``I`` (vertical) and ``J`` (horizontal) walls."
   ]
  },
  {
   "cell_type": "code",
   "execution_count": null,
   "metadata": {
    "collapsed": true
   },
   "outputs": [],
   "source": [
    "iWalls = mesh.specialSets[\"MinI_VertexSet\"] + mesh.specialSets[\"MaxI_VertexSet\"]\n",
    "jWalls = mesh.specialSets[\"MinJ_VertexSet\"] + mesh.specialSets[\"MaxJ_VertexSet\"]"
   ]
  },
  {
   "cell_type": "markdown",
   "metadata": {},
   "source": [
    "Create Direchlet, or fixed value, boundary conditions. More information on setting boundary conditions can be found in the **Systems** section of the user guide."
   ]
  },
  {
   "cell_type": "code",
   "execution_count": null,
   "metadata": {
    "collapsed": true
   },
   "outputs": [],
   "source": [
    "# 2D velocity vector can have two Dirichlet conditions on each vertex, \n",
    "# v_x is fixed on the iWalls (vertical), v_y is fixed on the jWalls (horizontal)\n",
    "velBC  = uw.conditions.DirichletCondition( variable        = velocityField, \n",
    "                                           indexSetsPerDof = (iWalls, jWalls) )\n",
    "\n",
    "# Temperature is held constant on the jWalls\n",
    "tempBC = uw.conditions.DirichletCondition( variable        = temperatureField, \n",
    "                                           indexSetsPerDof = (jWalls,) )"
   ]
  },
  {
   "cell_type": "markdown",
   "metadata": {},
   "source": [
    "**Render initial conditions for temperature**"
   ]
  },
  {
   "cell_type": "code",
   "execution_count": null,
   "metadata": {
    "collapsed": true
   },
   "outputs": [],
   "source": [
    "figtemp = glucifer.Figure( figsize=(800,400) )\n",
    "figtemp.append( glucifer.objects.Surface(mesh, sca.Dimensionalize(temperatureField, u.degC), colours=\"blue white red\") )\n",
    "figtemp.append( glucifer.objects.Mesh(mesh) )\n",
    "figtemp.show()"
   ]
  },
  {
   "cell_type": "markdown",
   "metadata": {},
   "source": [
    "System setup\n",
    "-----\n",
    "\n",
    "**Setup a Stokes system**\n",
    "\n",
    "Underworld uses the Stokes system to solve the incompressible Stokes equations.  "
   ]
  },
  {
   "cell_type": "code",
   "execution_count": null,
   "metadata": {
    "collapsed": true
   },
   "outputs": [],
   "source": [
    "stokes = uw.systems.Stokes( velocityField = velocityField, \n",
    "                            pressureField = pressureField,\n",
    "                            conditions    = velBC,\n",
    "                            fn_viscosity  = viscosity, \n",
    "                            fn_bodyforce  = buoyancyFn )\n",
    "\n",
    "# get the default stokes equation solver\n",
    "solver = uw.systems.Solver( stokes )"
   ]
  },
  {
   "cell_type": "markdown",
   "metadata": {},
   "source": [
    "**Set up the advective diffusive system**\n",
    "\n",
    "Underworld uses the AdvectionDiffusion system to solve the temperature field given heat transport through the velocity field. More information on the advection diffusion equation can be found [here](https://en.wikipedia.org/wiki/Convection%E2%80%93diffusion_equation)."
   ]
  },
  {
   "cell_type": "code",
   "execution_count": null,
   "metadata": {
    "collapsed": true
   },
   "outputs": [],
   "source": [
    "advDiff = uw.systems.AdvectionDiffusion( phiField       = temperatureField, \n",
    "                                         phiDotField    = temperatureDotField, \n",
    "                                         velocityField  = velocityField, \n",
    "                                         fn_diffusivity = diffusivity, \n",
    "                                         conditions     = tempBC )"
   ]
  },
  {
   "cell_type": "markdown",
   "metadata": {},
   "source": [
    "Main time stepping loop\n",
    "-----"
   ]
  },
  {
   "cell_type": "code",
   "execution_count": null,
   "metadata": {
    "collapsed": true
   },
   "outputs": [],
   "source": [
    "surfaceArea = uw.utils.Integral(fn=1.0,mesh=mesh, integrationType='surface', surfaceIndexSet=mesh.specialSets[\"MaxJ_VertexSet\"])\n",
    "surfacePressureIntegral = uw.utils.Integral(fn=pressureField, mesh=mesh, integrationType='surface', surfaceIndexSet=mesh.specialSets[\"MaxJ_VertexSet\"])"
   ]
  },
  {
   "cell_type": "code",
   "execution_count": null,
   "metadata": {
    "collapsed": true
   },
   "outputs": [],
   "source": [
    "# define an update function\n",
    "def update():\n",
    "    # Retrieve the maximum possible timestep for the advection-diffusion system.\n",
    "    dt = advDiff.get_max_dt()\n",
    "    # Advect using this timestep size.\n",
    "    advDiff.integrate(dt)\n",
    "    \n",
    "    # pressure correction\n",
    "    (area,) = surfaceArea.evaluate()\n",
    "    (p0,) = surfacePressureIntegral.evaluate() \n",
    "    pressureField.data[:] = pressureField.data[:] -(p0 / area)   \n",
    "    \n",
    "    return time+dt, step+1"
   ]
  },
  {
   "cell_type": "code",
   "execution_count": null,
   "metadata": {
    "collapsed": true
   },
   "outputs": [],
   "source": [
    "# init these guys\n",
    "time = 0.\n",
    "step = 0\n",
    "steps_end = 20\n",
    "\n",
    "# perform timestepping\n",
    "while step < steps_end:\n",
    "    # Solve for the velocity field given the current temperature field.\n",
    "    solver.solve()\n",
    "    time, step = update()"
   ]
  },
  {
   "cell_type": "markdown",
   "metadata": {},
   "source": [
    "**Plot final temperature and velocity field**"
   ]
  },
  {
   "cell_type": "code",
   "execution_count": null,
   "metadata": {
    "collapsed": true
   },
   "outputs": [],
   "source": [
    "# plot figure\n",
    "figtemp = glucifer.Figure( figsize=(800,400) )\n",
    "figtemp.append( glucifer.objects.Surface(mesh, sca.Dimensionalize(temperatureField, u.degC), colours=\"blue white red\") )\n",
    "figtemp.append( glucifer.objects.VectorArrows(mesh, velocityField/20.0, arrowHead=0.2, scaling=0.1) )\n",
    "figtemp.show()"
   ]
  }
 ],
 "metadata": {
  "kernelspec": {
   "display_name": "Python 2",
   "language": "python",
   "name": "python2"
  },
  "language_info": {
   "codemirror_mode": {
    "name": "ipython",
    "version": 2
   },
   "file_extension": ".py",
   "mimetype": "text/x-python",
   "name": "python",
   "nbconvert_exporter": "python",
   "pygments_lexer": "ipython2",
   "version": "2.7.13"
  }
 },
 "nbformat": 4,
 "nbformat_minor": 2
}

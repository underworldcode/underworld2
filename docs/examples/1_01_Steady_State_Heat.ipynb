{
 "cells": [
  {
   "cell_type": "markdown",
   "metadata": {},
   "source": [
    "Steady state heat equation\n",
    "======\n",
    "\n",
    "This notebook will setup and solve the steady state heat equation:\n",
    "\n",
    "\\\\[\n",
    "\\nabla(k\\nabla)T = h\n",
    "\\\\]\n",
    "\n",
    "where $k$ is the diffusivity, T the temperature field and $h$ the source term.\n",
    "\n",
    "**Keywords:** initial conditions, boundary conditions, heat equation"
   ]
  },
  {
   "cell_type": "code",
   "execution_count": 1,
   "metadata": {},
   "outputs": [],
   "source": [
    "import underworld as uw\n",
    "import glucifer"
   ]
  },
  {
   "cell_type": "markdown",
   "metadata": {},
   "source": [
    "Setup parameters\n",
    "-----"
   ]
  },
  {
   "cell_type": "code",
   "execution_count": 2,
   "metadata": {},
   "outputs": [],
   "source": [
    "# Set box size.\n",
    "boxHeight = 1.0\n",
    "boxLength = 2.0\n",
    "# Set the resolution.\n",
    "resx = 16\n",
    "resy = 8"
   ]
  },
  {
   "cell_type": "markdown",
   "metadata": {},
   "source": [
    "Create mesh and variables\n",
    "------"
   ]
  },
  {
   "cell_type": "code",
   "execution_count": 3,
   "metadata": {},
   "outputs": [],
   "source": [
    "mesh = uw.mesh.FeMesh_Cartesian( elementType = (\"Q1/dQ0\"), \n",
    "                                 elementRes  = (resx, resy), \n",
    "                                 minCoord    = (0., 0.), \n",
    "                                 maxCoord    = (boxLength, boxHeight))"
   ]
  },
  {
   "cell_type": "code",
   "execution_count": 4,
   "metadata": {},
   "outputs": [
    {
     "data": {
      "text/html": [
       "<img src='data:image/png;base64,iVBORw0KGgoAAAANSUhEUgAAAyAAAAGQAQAAAAB+XjmZAAABBklEQVR4Ae3QsU3AQAyGUW/gkTMao+ANQkcRQVAojiKtg5B5X3HSycWT/jh/IQgEAoFAIBAIBAL5n0hFe3lD9us5rufj+79dz8u6vK/L57kur+ty/Fy2ddkhEAgEAoFAIBAIBAKBPINUtJeD54JAIBAIBAKBQCAQCATSglS0l4PngkAgEAgEAoFAIBAIZD5S0V4OngsCgUAgEAgEAoFAIBBIC1LRXg6eCwKBQCAQCAQCgUAgkPlIRXs5eC4IBAKBQCAQCAQCgUAgLUhFezl4LggEAoFAIBAIBAKBQOYjFe3l4LkgEAgEAoFAIBAIBAKBtCBv0V7ekCeDQCAQCAQCgUAgkL+CfAHXFio+uQx97QAAAABJRU5ErkJggg=='>"
      ],
      "text/plain": [
       "<IPython.core.display.HTML object>"
      ]
     },
     "metadata": {},
     "output_type": "display_data"
    }
   ],
   "source": [
    "# gLucifer visualisation of mesh\n",
    "fig = glucifer.Figure( figsize=(800,400) )\n",
    "fig.append(glucifer.objects.Mesh( mesh ))\n",
    "fig.show()"
   ]
  },
  {
   "cell_type": "code",
   "execution_count": 5,
   "metadata": {},
   "outputs": [],
   "source": [
    "# Create mesh variables for the temperature field & initialise. \n",
    "temperatureField = mesh.add_variable( nodeDofCount=1 )\n",
    "temperatureField.data[:] = 0."
   ]
  },
  {
   "cell_type": "markdown",
   "metadata": {},
   "source": [
    "Create boundary conditions\n",
    "----------"
   ]
  },
  {
   "cell_type": "markdown",
   "metadata": {},
   "source": [
    "We first wish to determine which vertices will be flagged as boundary conditions. To do this, we create set objects which contain the vertex indices for which the condition will apply. The *specialSets* dictionary (on the mesh object) contains the sets we usually require. Note however that you may construct sets which contain indices for **any** vertex on the mesh."
   ]
  },
  {
   "cell_type": "code",
   "execution_count": 6,
   "metadata": {},
   "outputs": [
    {
     "data": {
      "text/plain": [
       "['MaxI_VertexSet',\n",
       " 'MinI_VertexSet',\n",
       " 'AllWalls_VertexSet',\n",
       " 'MinJ_VertexSet',\n",
       " 'MaxJ_VertexSet',\n",
       " 'Empty']"
      ]
     },
     "execution_count": 6,
     "metadata": {},
     "output_type": "execute_result"
    }
   ],
   "source": [
    "mesh.specialSets.keys()"
   ]
  },
  {
   "cell_type": "markdown",
   "metadata": {},
   "source": [
    "The vertices along the bottom wall is given by  'MinJ_VertexSet', the top wall given by the 'MaxJ_VertexSet'."
   ]
  },
  {
   "cell_type": "markdown",
   "metadata": {},
   "source": [
    "Construct sets for the horizontal walls:"
   ]
  },
  {
   "cell_type": "code",
   "execution_count": 7,
   "metadata": {},
   "outputs": [],
   "source": [
    "jWalls = mesh.specialSets[\"MinJ_VertexSet\"] + mesh.specialSets[\"MaxJ_VertexSet\"]"
   ]
  },
  {
   "cell_type": "markdown",
   "metadata": {},
   "source": [
    "Create Dirichlet boundary conditions for the `jWalls` and provide values."
   ]
  },
  {
   "cell_type": "code",
   "execution_count": 8,
   "metadata": {
    "collapsed": true
   },
   "outputs": [],
   "source": [
    "tempBC = uw.conditions.DirichletCondition( variable=temperatureField, indexSetsPerDof=(jWalls,) )"
   ]
  },
  {
   "cell_type": "code",
   "execution_count": 9,
   "metadata": {},
   "outputs": [],
   "source": [
    "# set bottom wall temperature bc\n",
    "for index in mesh.specialSets[\"MinJ_VertexSet\"]:\n",
    "    temperatureField.data[index] = 1.0\n",
    "# set top wall temperature bc\n",
    "for index in mesh.specialSets[\"MaxJ_VertexSet\"]:\n",
    "    temperatureField.data[index] = 0.0"
   ]
  },
  {
   "cell_type": "code",
   "execution_count": 10,
   "metadata": {
    "scrolled": false
   },
   "outputs": [
    {
     "data": {
      "text/html": [
       "<img src='data:image/png;base64,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'>"
      ],
      "text/plain": [
       "<IPython.core.display.HTML object>"
      ]
     },
     "metadata": {},
     "output_type": "display_data"
    }
   ],
   "source": [
    "# gLucifer visualisation of temperature field & mesh\n",
    "fig.append( glucifer.objects.Surface( mesh, temperatureField, colours=\"blue white red\" ) )\n",
    "fig.show()"
   ]
  },
  {
   "cell_type": "markdown",
   "metadata": {},
   "source": [
    "Heat Equation System setup & solve\n",
    "-----\n",
    "\n",
    "Temperature field, diffusivity and boundary conditions are passed to the SteadyStateHeat system function."
   ]
  },
  {
   "cell_type": "code",
   "execution_count": 11,
   "metadata": {},
   "outputs": [],
   "source": [
    "heatequation = uw.systems.SteadyStateHeat(temperatureField = temperatureField, \n",
    "                                            fn_diffusivity = 1.0, \n",
    "                                                conditions = tempBC)"
   ]
  },
  {
   "cell_type": "markdown",
   "metadata": {},
   "source": [
    "Solve the heat equation."
   ]
  },
  {
   "cell_type": "code",
   "execution_count": 12,
   "metadata": {},
   "outputs": [],
   "source": [
    "# get the default heat equation solver\n",
    "heatsolver = uw.systems.Solver(heatequation)\n",
    "# solve\n",
    "heatsolver.solve()"
   ]
  },
  {
   "cell_type": "code",
   "execution_count": 13,
   "metadata": {},
   "outputs": [
    {
     "data": {
      "text/html": [
       "<img src='data:image/png;base64,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'>"
      ],
      "text/plain": [
       "<IPython.core.display.HTML object>"
      ]
     },
     "metadata": {},
     "output_type": "display_data"
    }
   ],
   "source": [
    "# gLucifer visualisation of temperature field & mesh\n",
    "fig.show()"
   ]
  }
 ],
 "metadata": {
  "kernelspec": {
   "display_name": "Python 2",
   "language": "python",
   "name": "python2"
  },
  "language_info": {
   "codemirror_mode": {
    "name": "ipython",
    "version": 2
   },
   "file_extension": ".py",
   "mimetype": "text/x-python",
   "name": "python",
   "nbconvert_exporter": "python",
   "pygments_lexer": "ipython2",
   "version": "2.7.13"
  }
 },
 "nbformat": 4,
 "nbformat_minor": 1
}

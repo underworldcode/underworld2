{
 "cells": [
  {
   "cell_type": "markdown",
   "metadata": {},
   "source": [
    "# Utilities\n",
    "\n",
    "Overview:\n",
    "\n",
    "1. Integrals.\n",
    "3. Checkpointing.\n",
    "4. Generating XDMF files.\n",
    "\n",
    "**Keywords:** checkpointing, utilities, volume integrals, surface integrals, xdmf\n",
    "\n"
   ]
  },
  {
   "cell_type": "markdown",
   "metadata": {},
   "source": [
    "## Integral Class\n",
    "\n",
    "The `Integral` class constructs the volume integral\n",
    "\n",
    "$$\n",
    "F_{i}  =   \\int_V \\, f_i(\\mathbf{x}) \\, \\mathrm{d} V  \n",
    "$$\n",
    "\n",
    "for some function $f_i$ (specified by a `Function` object), over some domain $V$ (specified by an `FeMesh` object), or the surface integral\n",
    "\n",
    "$$\n",
    "F_{i}  =   \\oint_{\\Gamma} \\,  f_i(\\mathbf{x})  \\,  \\mathrm{d}\\Gamma  \n",
    "$$\n",
    "\n",
    "for some surface $\\Gamma$ (specified via an `IndexSet` object on the mesh). "
   ]
  },
  {
   "cell_type": "code",
   "execution_count": 1,
   "metadata": {},
   "outputs": [
    {
     "data": {
      "text/html": [
       "<img src='data:image/png;base64,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'>"
      ],
      "text/plain": [
       "<IPython.core.display.HTML object>"
      ]
     },
     "metadata": {},
     "output_type": "display_data"
    }
   ],
   "source": [
    "# setup some objects for demonstration\n",
    "import underworld as uw\n",
    "from underworld import function as fn\n",
    "import underworld.visualisation as vis\n",
    "import math\n",
    "\n",
    "# setup required objects\n",
    "mesh             = uw.mesh.FeMesh_Cartesian(minCoord=(-1,-1), elementRes=(32,32))\n",
    "temperatureField = mesh.add_variable( 1 )\n",
    "velocityField    = mesh.add_variable( 2 )\n",
    "\n",
    "# init\n",
    "temperatureField.data[:,0] = -mesh.data[:,1]/2. + 0.5\n",
    "velocityField.data[:,0]    =  -mesh.data[:,1]\n",
    "velocityField.data[:,1]    =   mesh.data[:,0]\n",
    "\n",
    "# viz\n",
    "fig1 = vis.Figure()\n",
    "velmagfield = uw.function.math.sqrt( uw.function.math.dot( velocityField, velocityField ) )\n",
    "fig1.append( vis.objects.VectorArrows(mesh, velocityField, arrowHead=0.2, scaling=0.1) )\n",
    "fig1.append( vis.objects.Surface( mesh, temperatureField ) )\n",
    "fig1.show()"
   ]
  },
  {
   "cell_type": "markdown",
   "metadata": {},
   "source": [
    "In the following example, we will calculate a root mean square velocity defined as:\n",
    "$$\n",
    "v_{rms}  =  \\sqrt{ \\frac{ \\int_V (\\mathbf{v}.\\mathbf{v}) \\, \\mathrm{d}V } {\\int_V \\, \\mathrm{d}V} }\n",
    "$$\n"
   ]
  },
  {
   "cell_type": "markdown",
   "metadata": {},
   "source": [
    "The same result can be achieved through a number of paths. \n",
    "\n",
    "1. Call the `integrate()` method on a `Function` object.\n",
    "2. Call the `integrate()` method on an `FeMesh` object.\n",
    "3. Create an `Integral` class object, and call its `integrate()` method. \n",
    "\n",
    "Note that all three methods result in identical calculations. "
   ]
  },
  {
   "cell_type": "code",
   "execution_count": 2,
   "metadata": {},
   "outputs": [
    {
     "name": "stdout",
     "output_type": "stream",
     "text": [
      "RMS velocity = 0.408\n",
      "RMS velocity = 0.408\n"
     ]
    }
   ],
   "source": [
    "# note that the previous cell needs to have been executed before this one. \n",
    "# define required function\n",
    "vdotv = fn.math.dot( velocityField, velocityField )\n",
    "\n",
    "# evaluate area (domain) integrals on the function\n",
    "v2sum =  mesh.integrate( vdotv ) # ... option 2\n",
    "volume = mesh.integrate( 1.0 )\n",
    "\n",
    "# finally, calculate RMS\n",
    "v_rms  = math.sqrt( v2sum[0] /volume[0] )\n",
    "print('RMS velocity = {0:.3f}'.format(v_rms))\n",
    "\n",
    "# option 3\n",
    "# create integral objects, passing in functions\n",
    "v2sum_integral  = uw.utils.Integral( mesh=mesh, fn=vdotv )\n",
    "volume_integral = uw.utils.Integral( mesh=mesh, fn=1. )\n",
    "\n",
    "# evaluate integrals\n",
    "v2sum  = v2sum_integral.evaluate()\n",
    "volume = volume_integral.evaluate()\n",
    "\n",
    "# finally, calculate RMS\n",
    "v_rms  = math.sqrt( v2sum[0] /volume[0] )\n",
    "print('RMS velocity = {0:.3f}'.format(v_rms))"
   ]
  },
  {
   "cell_type": "markdown",
   "metadata": {},
   "source": [
    "To evaluate an integral over a subdomain the ``fn.branching.conditional`` class may be useful:"
   ]
  },
  {
   "cell_type": "code",
   "execution_count": 3,
   "metadata": {},
   "outputs": [
    {
     "name": "stdout",
     "output_type": "stream",
     "text": [
      "Area from integral = 3.14559221e+00\n"
     ]
    },
    {
     "data": {
      "text/html": [
       "<img src='data:image/png;base64,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'>"
      ],
      "text/plain": [
       "<IPython.core.display.HTML object>"
      ]
     },
     "metadata": {},
     "output_type": "display_data"
    }
   ],
   "source": [
    "import underworld as uw\n",
    "from underworld import function as fn\n",
    "import underworld.visualisation as vis\n",
    "mesh = uw.mesh.FeMesh_Cartesian(minCoord=(-1,-1), elementRes=(32,32))\n",
    "\n",
    "# create circle function\n",
    "radius = 1.\n",
    "coord    = fn.coord() \n",
    "fn_sphere = fn.math.dot( coord, coord ) < radius**2\n",
    "\n",
    "# setup a function that is 1 if the coordinates, are inside the circle, and zero otherwise.\n",
    "conditions     = [ ( fn_sphere , 1.0), \n",
    "                   ( True      , 0.0) ]\n",
    "kernelFunction = fn.branching.conditional( conditions )\n",
    "\n",
    "# create and evaluate integral\n",
    "volume = mesh.integrate( kernelFunction )\n",
    "print('Area from integral = {0:6.8e}'.format(volume[0]))\n",
    "fig = vis.Figure()\n",
    "fig.append( vis.objects.Mesh(mesh) )\n",
    "fig.append( vis.objects.Surface(mesh, kernelFunction))\n",
    "fig.show()"
   ]
  },
  {
   "cell_type": "markdown",
   "metadata": {},
   "source": [
    "In the following example, we will calculate the Nusselt number defined by\n",
    "\n",
    "$$\n",
    "Nu = -h \\frac{ \\oint_{\\Gamma_{t}} \\partial_z T (\\mathbf{x}) \\, \\mathrm{d}\\Gamma}{ \\int_{\\Gamma_{b}} T (\\mathbf{x}) \\,  \\mathrm{d}\\Gamma}\n",
    "$$\n",
    "\n",
    "where $h$ is the height of the domain, and $\\Gamma_t$ and $\\Gamma_b$ are the top and bottom surfaces respectively.\n",
    "\n",
    "NB. Surface integrals must still be implemented using the old implementation mesh of creating a `uw.utils.Integral` object\n"
   ]
  },
  {
   "cell_type": "code",
   "execution_count": 4,
   "metadata": {},
   "outputs": [
    {
     "name": "stdout",
     "output_type": "stream",
     "text": [
      "Nusselt number = 0.500000\n"
     ]
    }
   ],
   "source": [
    "import underworld as uw\n",
    "from underworld import function as fn\n",
    "import underworld.visualisation as vis\n",
    "import math\n",
    "mesh = uw.mesh.FeMesh_Cartesian(minCoord=(-1,-1), elementRes=(32,32))\n",
    "temperatureField = mesh.add_variable( 1 )\n",
    "temperatureField.data[:,0] = -mesh.data[:,1]/2. + 0.5\n",
    "\n",
    "\n",
    "nuTop    = uw.utils.Integral( fn=temperatureField.fn_gradient[1], \n",
    "                              mesh=mesh, integrationType='Surface', \n",
    "                              surfaceIndexSet=mesh.specialSets[\"MaxJ_VertexSet\"])\n",
    "\n",
    "nuBottom = uw.utils.Integral( fn=temperatureField,               \n",
    "                              mesh=mesh, integrationType='Surface', \n",
    "                              surfaceIndexSet=mesh.specialSets[\"MinJ_VertexSet\"])\n",
    "\n",
    "nu = - nuTop.evaluate()[0]/nuBottom.evaluate()[0]\n",
    "print('Nusselt number = {0:.6f}'.format(nu))"
   ]
  },
  {
   "cell_type": "markdown",
   "metadata": {},
   "source": [
    "## Checkpointing \n",
    "\n",
    "Checkpointing is the process of saving sufficient data to facilitate restarting your simulations at a later stage. Note that we do not provide explicit checkpointing functionality, but instead provide the tools required for the loading and saving of heavy data. Which data items are required for restart will depend on the systems you have used and how you have constructed your models.\n",
    "\n",
    "The following Underworld data structures have load/save functionality: \n",
    " * `SwarmVariables` \n",
    " * `Swarm`\n",
    " * `MeshVariables`\n",
    " * `Mesh`\n",
    "\n",
    "All files are saved in HDF5 format.\n",
    "\n",
    "*Note*: When saving a `SwarmVariable`, if you wish to reload the `SwarmVariable` data at a later stage, you must also save the `Swarm` for the corresponding state (generally, the same timestep). This requirement is due to the population control mechanisms swarms generally used for swarms, and also due to particles crossing process boundaries. When you come to reload the `Swarm` and `SwarmVariable`, you must load the `Swarm` **first**. Note again that the `Swarm` and `SwarmVariable` must be of corresponding state for successful reload.\n"
   ]
  },
  {
   "cell_type": "markdown",
   "metadata": {},
   "source": [
    "### Swarms and Swarm Variables\n",
    "\n",
    "Below a `Swarm` and a `SwarmVariable`, are created and saved to disk, then a new swarm loads the data from disk.\n",
    "\n",
    "\n",
    "* Save the swarm data to disk using the `save()` method on the `Swarm` and `SwarmVariable` objects.  \n",
    "   Note the handle object that is returned from the `save()` method. This is currently used for `xdmf()` operation, see below.\n",
    "* Load the swarm data from disk using the `load()` method on the `Swarm` and `SwarmVariable` objects\n"
   ]
  },
  {
   "cell_type": "code",
   "execution_count": 5,
   "metadata": {},
   "outputs": [],
   "source": [
    "import underworld as uw\n",
    "from underworld import function as fn\n",
    "import underworld.visualisation as vis\n",
    "import numpy as np\n",
    "mesh = uw.mesh.FeMesh_Cartesian(minCoord=(-1,-1), elementRes=(32,32))\n",
    "swarm1    = uw.swarm.Swarm(mesh)\n",
    "swarm1var = swarm1.add_variable(dataType='int', count=1)\n",
    "layout    = uw.swarm.layouts.PerCellSpaceFillerLayout(swarm1,particlesPerCell=5)\n",
    "swarm1.populate_using_layout(layout)\n",
    "\n",
    "# set random data to save\n",
    "swarm1var.data[:,0] = np.random.rand(len(swarm1var.data))\n",
    "\n",
    "ignore = swarm1.save('swarm.h5')\n",
    "ignore = swarm1var.save('swarmvar.h5')\n",
    "\n",
    "# new swarm\n",
    "swarm2    = uw.swarm.Swarm(mesh)\n",
    "swarm2var = swarm2.add_variable(dataType='int', count=1)\n",
    "swarm2.load('swarm.h5')\n",
    "swarm2var.load('swarmvar.h5')\n",
    "\n",
    "if not np.allclose( swarm2var.data[:], swarm1var.data[:] ):\n",
    "    raise RuntimeError(\"Something went wrong, the swarms are not identical.\")\n",
    "if not np.allclose( swarm2.particleCoordinates.data[:], swarm1.particleCoordinates.data[:]):\n",
    "    raise RuntimeError(\"Something went wrong, the swarms variables are not identical.\")\n",
    "    \n",
    "if uw.mpi.rank == 0:\n",
    "    import os\n",
    "    os.remove('swarm.h5')\n",
    "    os.remove('swarmvar.h5')"
   ]
  },
  {
   "cell_type": "markdown",
   "metadata": {},
   "source": [
    "### Mesh and Mesh Variables"
   ]
  },
  {
   "cell_type": "markdown",
   "metadata": {},
   "source": [
    "The `MeshVariable` object behaves similarly to `SwarmVariable` object with the `save()` and `load()` functionality."
   ]
  },
  {
   "cell_type": "code",
   "execution_count": 6,
   "metadata": {},
   "outputs": [],
   "source": [
    "import underworld as uw\n",
    "from underworld import function as fn\n",
    "import underworld.visualisation as vis\n",
    "import numpy as np\n",
    "mesh = uw.mesh.FeMesh_Cartesian(minCoord=(-1,-1), elementRes=(32,32))\n",
    "\n",
    "# create var and set random data\n",
    "meshvar = mesh.add_variable(1)\n",
    "meshvar.data[:,0] = np.random.rand(len(meshvar.data))\n",
    "\n",
    "ignore = mesh.save('mesh.h5')\n",
    "ignore = meshvar.save('meshvar.h5')\n",
    "\n",
    "newvar = mesh.add_variable(1)\n",
    "newvar.load('meshvar.h5')\n",
    "\n",
    "# ensure expected result\n",
    "if not np.allclose( newvar.data, meshvar.data ):\n",
    "    raise RuntimeError(\"Something went wrong, the mesh variables are not identical.\")\n",
    "\n",
    "if uw.mpi.rank == 0:\n",
    "    import os\n",
    "    os.remove('mesh.h5')\n",
    "    os.remove('meshvar.h5')"
   ]
  },
  {
   "cell_type": "markdown",
   "metadata": {},
   "source": [
    "Writing to XDMF files\n",
    "-----\n",
    "The `XDMF` file specifies how your model *data* (`MeshVariable` and/or `SwarmVariable` objects) and *geometry* (`Mesh` and/or `Swarm` objects) is layed out within the HDF5 files you have saved to disk. It is a light (or sidecar) file written in XML which accompanies your heavy HDF5 files to allow applications such as [ParaView](http://www.paraview.org/) to visualise your models.\n",
    "\n",
    "In Underworld, whenever you call a `save()` operation, we return *handler* objects which specify the information required to create the `XDMF` files. If you do not wish to create XDMF files, you can ignore these handler objects. Otherwise, you need to retain them, and then pass them into the `xdmf()` methods so that it has the information it requires. Note that any object that has a `save()` method, will also have an `xdmf()` method.\n",
    "\n",
    "We generate XDMF files in the following example. We will also print an XDMF file, but note that you generally should not need to manually view or modify these files. For details on writing XDMF files in a dynamical context, please see the Rayleigh-Taylor example.\n",
    "\n",
    "Tensors ordering and ParaView.\n",
    "------\n",
    "For _symmetric_ tensor `MeshVariables` or `SwarmVariables` Underworld stores the tensors as follows:\n",
    "* 2D fields - `00 11 01`\n",
    "* 3D fields - `00 11 22 01 02 12`\n",
    "\n",
    "Upon `save()` the tensor field `.h5` file will be in this order.\\\n",
    " The XDMF files will save the 2D symmetric tensor as a 3 dimension `Vector`, and the 3D tensor in `Tensor6` format.\\\n",
    "See [here](https://xdmf.org/index.php/XDMF_Model_and_Format#Attribute) for more information on XDMF.\n",
    "\n",
    "For ParaView this means the ordering of a 3D symmetric tensor is `00 01 02 10 11 12 20 21 22`.\n"
   ]
  },
  {
   "cell_type": "code",
   "execution_count": 30,
   "metadata": {},
   "outputs": [
    {
     "name": "stdout",
     "output_type": "stream",
     "text": [
      "<?xml version=\"1.0\" ?>\n",
      "<Xdmf xmlns:xi=\"http://www.w3.org/2001/XInclude\" Version=\"2.0\">\n",
      "<Domain>\n",
      "<Grid Name=\"TheSwarm\" GridType=\"Uniform\">\n",
      "\n",
      "\t<Time Value=\"0.1\" />\n",
      "\n",
      "\t<Topology Type=\"POLYVERTEX\" NodesPerElement=\"80\"> </Topology>\n",
      "\t\t<Geometry Type=\"XY\">\n",
      "\t\t\t<DataItem Format=\"HDF\" NumberType=\"Float\" Precision=\"8\" Dimensions=\"80 2\">swarm.h5:/data</DataItem>\n",
      "\t\t</Geometry>\n",
      "\t<Attribute Type=\"Scalar\" Center=\"Node\" Name=\"SwarmVariable\">\n",
      "\t\t\t<DataItem Format=\"HDF\" NumberType=\"Float\" Precision=\"8\" Dimensions=\"80 1\">swarmvar.h5:/data</DataItem>\n",
      "\t</Attribute>\n",
      "</Grid>\n",
      "</Domain>\n",
      "</Xdmf>\n",
      "\n"
     ]
    }
   ],
   "source": [
    "import underworld as uw\n",
    "from underworld import function as fn\n",
    "import underworld.visualisation as vis\n",
    "import numpy as np\n",
    "\n",
    "# mesh\n",
    "mesh = uw.mesh.FeMesh_Cartesian(elementType='Q1', elementRes=(4,4))               # 16 elements total\n",
    "meshvar = mesh.add_variable(1)                                                    # 25 meshvar nodes total\n",
    "xdmf_info_mesh    = mesh.save('mesh.h5')\n",
    "xdmf_info_meshvar = meshvar.save('meshvar.h5')\n",
    "\n",
    "# swarm\n",
    "swarm1    = uw.swarm.Swarm(mesh)\n",
    "swarm1var = swarm1.add_variable(dataType='int', count=1)\n",
    "layout    = uw.swarm.layouts.PerCellSpaceFillerLayout(swarm1,particlesPerCell=5)  # 80 particles total\n",
    "swarm1.populate_using_layout(layout)\n",
    "xdmf_info_swarm    = swarm1.save('swarm.h5')\n",
    "xdmf_info_swarmvar = swarm1var.save('swarmvar.h5')\n",
    "\n",
    "# xdmf\n",
    "meshvar.xdmf('meshvar.xdmf', xdmf_info_meshvar, \"MyField\", xdmf_info_mesh, \"TheMesh\", modeltime=0.0)\n",
    "swarm1var.xdmf('swarmvar.xdmf', xdmf_info_swarmvar, \"SwarmVariable\", xdmf_info_swarm, \"TheSwarm\", modeltime=0.1)\n",
    "\n",
    "# print an xdmf file\n",
    "# printfile = 'meshvar.xdmf'\n",
    "printfile = 'swarmvar.xdmf'\n",
    "with open(printfile, 'r') as f:\n",
    "    print(f.read())\n",
    "\n",
    "if uw.mpi.rank == 0:\n",
    "    import os\n",
    "    os.remove('mesh.h5')\n",
    "    os.remove('meshvar.h5')\n",
    "    os.remove('swarm.h5')\n",
    "    os.remove('swarmvar.h5')\n",
    "    os.remove('meshvar.xdmf')\n",
    "    os.remove('swarmvar.xdmf')"
   ]
  }
 ],
 "metadata": {
  "kernelspec": {
   "display_name": "Python 3 (ipykernel)",
   "language": "python",
   "name": "python3"
  },
  "language_info": {
   "codemirror_mode": {
    "name": "ipython",
    "version": 3
   },
   "file_extension": ".py",
   "mimetype": "text/x-python",
   "name": "python",
   "nbconvert_exporter": "python",
   "pygments_lexer": "ipython3",
   "version": "3.10.4"
  }
 },
 "nbformat": 4,
 "nbformat_minor": 4
}

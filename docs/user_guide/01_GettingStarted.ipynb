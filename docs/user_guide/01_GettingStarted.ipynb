{
 "cells": [
  {
   "cell_type": "markdown",
   "metadata": {},
   "source": [
    "Getting started\n",
    "======\n",
    "\n",
    "**Keywords:** import, IPython notebooks\n",
    "\n",
    "Welcome to using Underworld! \n",
    "-----\n",
    "\n",
    "[_Underworld 2_](http://www.underworldcode.org) provides a Python user interface to the Underworld code providing a programmable and flexible front end to the code running in a parallel HPC environment. This gives signficant advantages to the user, allowing them to leverage third party Python libraries for model configuration, analysis at runtime, coupling of multiple physics, etc. The Python interface was partly funded by the NeCTAR [eResearch_tools](http://www.nectar.org.au/eresearch-tools) program.\n",
    "\n",
    "The Python interface allows users to make use of Jupyter notebooks. This allows for an interactive approach to the development and analysis of models.\n",
    "\n",
    "Documentation\n",
    "----\n",
    "Underworld documentation is broken down into: \n",
    "\n",
    "1. **examples**: These notebooks go through the entire workflow for geophysics type problems.\n",
    "2. **user guide**: A more focused look at particular aspects of Underworld (e.g. swarm particles).\n",
    "3. **publications**: Notebooks which replicate models and results from the literature. \n",
    "4. **docstrings**: The Underworld API includes Python docstring type documentation.\n",
    "\n",
    "Underworld requires basic knowledge of Python; constructs such as lists, tuples, modules, for-loops, printing and simple functions. This guide covers the basics of how to load modules for Underworld and how to use Jupyter notebooks. A short overview of a typical Underworld model with plots is given at the end of this guide.\n",
    "\n",
    "The purpose of the user guide is to give users a more detailed understanding of the various aspects of modelling with Underworld. For those interested in getting moving as quickly as possible, the examples are perhaps a better place to start.\n",
    "\n",
    "Underworld objects utilise Python docstrings to provide documentation inline. You may access this documentation directly by using the native Python ``help()`` function. Quick help information in the form of a pop-up window can be obtained by using a question mark after the object within IPython/Jupyter notebooks; e.g. ``uw?``.\n",
    "\n",
    "\n",
    "Notebooks\n",
    "----\n",
    "\n",
    "If you are new to the Jupyter Notebook, you may wish to familiarise yourself with the notebook environment first. There are many useful examples available online. Also, when using the notebook interactively, the **Help** menu bar option provides handy references. \n"
   ]
  },
  {
   "cell_type": "markdown",
   "metadata": {},
   "source": [
    "Installation\n",
    "----\n",
    "\n",
    "This guide assumes that you have already installed Underworld. Details on how to install Underworld may be found at the project github page:\n",
    "https://github.com/underworldcode/underworld2"
   ]
  },
  {
   "cell_type": "markdown",
   "metadata": {},
   "source": [
    "How to get help\n",
    "----\n",
    "\n",
    "If you encounter issues or suspect a bug, please create a ticket using the [issue tracker on github](https://github.com/underworldcode/underworld2/issues)."
   ]
  },
  {
   "cell_type": "markdown",
   "metadata": {},
   "source": [
    "Importing\n",
    "----\n",
    "\n",
    "Run the following cell (either the ``run button`` on the menu above or press ``shift+enter``) to load the Underworld module:"
   ]
  },
  {
   "cell_type": "code",
   "execution_count": 1,
   "metadata": {
    "collapsed": false
   },
   "outputs": [],
   "source": [
    "import underworld as uw"
   ]
  },
  {
   "cell_type": "markdown",
   "metadata": {
    "collapsed": true
   },
   "source": [
    "A quick demo\n",
    "-----\n",
    "\n",
    "Let's do a quick run through of setting up some basic Underworld objects."
   ]
  },
  {
   "cell_type": "code",
   "execution_count": 2,
   "metadata": {
    "collapsed": true
   },
   "outputs": [],
   "source": [
    "# First, create a mesh:\n",
    "mesh = uw.mesh.FeMesh_Cartesian( elementType = (\"Q1\"), \n",
    "                                 elementRes  = (8, 8), \n",
    "                                 minCoord    = (0., 0.), \n",
    "                                 maxCoord    = (2., 1.))"
   ]
  },
  {
   "cell_type": "code",
   "execution_count": 3,
   "metadata": {
    "collapsed": true
   },
   "outputs": [],
   "source": [
    "# Next we create a mesh variable:\n",
    "temperatureField = mesh.add_variable( nodeDofCount=1 )"
   ]
  },
  {
   "cell_type": "code",
   "execution_count": 4,
   "metadata": {
    "collapsed": true
   },
   "outputs": [],
   "source": [
    "# Let's initialise the variable with some data:\n",
    "for index, coord in enumerate(mesh.data):\n",
    "    temperatureField.data[index] = coord[1]  # set the temperature to be the vertical (y) coordinate"
   ]
  },
  {
   "cell_type": "code",
   "execution_count": 5,
   "metadata": {
    "collapsed": false
   },
   "outputs": [
    {
     "data": {
      "text/html": [
       "<img src='data:image/png;base64,iVBORw0KGgoAAAANSUhEUgAAAyAAAAGQCAIAAADZR5NjAAAVKElEQVR4nO3dwaod1QJF0SrxtwTF7xIRv0sU/C1J2fM1XxJ2LLPmGKRzOsmenANZ7Drcez/PcwEAcM43bx8AAGCNgQUAcJiBBQBwmIEFAHCYgQUAcJiBBQBwmIEFAHCYgQUAcJiBBQBwmIEFAHCYgQUAcJiBBQBwmIEFAHCYgQUAcJiBBQBwmIEFAHCYgQUAcJiBBQBwmIEFAHCYgQUAcJiBBQBwmIEFAHCYgQUAcJiBBQBwmIEFAHCYgQUAcJiBBQBwmIEFAHCYgQUAcJiBBQBwmIEFAHCYgQUAcJiBBQBw2LdvH+CY+77fPgIA8Pme53n7CMfsDKzrup5vihdy94cPwlOE1wivKYe/fYSTpgbWlfxEXh8+CG8RXiO8phw+ZGtgZZ8SCq8RXiO8Jhs+ZGtgNSf/JbxHeI3wmmz4kK2BlZ38wmuE1wivyYYP2RpY2ckvvEZ4jfCabPiQrYGVnfzCa4TXCK/Jhg/ZGljZyS+8RniN8Jps+JCtgZWd/MJrhNcIr8mGD9kaWNnJL7xGeI3wmmz4kK2BlZ38wmuE1wivyYYP2RpY2ckvvEZ4jfCabPiQrYGVnfzCa4TXCK/Jhg/ZGljZyS+8RniN8Jps+JCtgZWd/MJrhNcIr8mGD9kaWNnJL7xGeI3wmmz4kK2BlZ38wmuE1wivyYYP2RpY2ckvvEZ4jfCabPgQA2uC8BrhNcJrsuFDDKwJwmuE1wivyYYP2RpY2YfWwmuE1wivyYYP2RpY2ckvvEZ4jfCabPiQrYGVnfzCa4TXCK/Jhg/ZGljZyS+8RniN8Jps+JCtgZWd/MJrhNcIr8mGD9kaWNnJL7xGeI3wmmz4kK2BlZ38wmuE1wivyYYPMbAmCK8RXiO8Jhs+ZGtgZe9UhdcIrxFekw0fsjWwspNfeI3wGuE12fAhWwMrO/mF1wivEV6TDR+yNbCyk194jfAa4TXZ8CFbAys7+YXXCK8RXpMNH7I1sLKTX3iN8BrhNdnwIVsDKzv5hdcIrxFekw0fsjWwspNfeI3wGuE12fAhWwMrO/mF1wivEV6TDR+yNbCyk194jfAa4TXZ8CFbAys7+YXXCK8RXpMNH7I1sLKTX3iN8BrhNdnwIffzPG+f4YzbxxEAvmYzm+Qau8F6fvjh7SO84P79d+EpwmuE15TD3z7CSVMDq/vQWniN8BrhNdnwIVsDK/uUUHiN8BrhNdnwIVsDKzv5hdcIrxFekw0fsjWwspNfeI3wGuE12fAhWwMrO/mF1wivEV6TDR+yNbCyk194jfAa4TXZ8CFbAys7+YXXCK8RXpMNH7I1sLKTX3iN8BrhNdnwIVsDKzv5hdcIrxFekw0fsjWwspNfeI3wGuE12fAhWwMrO/mF1wivEV6TDR+yNbCyk194jfAa4TXZ8CFbAys7+YXXCK8RXpMNH7I1sLKTX3iN8BrhNdnwIVsDKzv5hdcIrxFekw0fsjWwspNfeI3wGuE12fAhWwMrO/mF1wivEV6TDR+yNbCyk194jfAa4TXZ8CFbAys7+YXXCK8RXpMNH7I1sLKTX3iN8BrhNdnwIVsDKzv5hdcIrxFekw0fsjWwspNfeI3wGuE12fAhWwMrO/mF1wivEV6TDR9iYE0QXiO8RnhNNnyIgTVBeI3wGuE12fAhWwMr+9BaeI3wGuE12fAhWwMrO/mF1wivEV6TDR+yNbCyk194jfAa4TXZ8CFbAys7+YXXCK8RXpMNH7I1sLKTX3iN8BrhNdnwIVsDKzv5hdcIrxFekw0fsjWwspNfeI3wGuE12fAhWwMrO/mF1wivEV6TDR+yNbCyk194jfAa4TXZ8CFbAys7+YXXCK8RXpMNH7I1sLKTX3iN8BrhNdnwIVsDKzv5hdcIrxFekw0fsjWwspNfeI3wGuE12fAhWwMrO/mF1wivEV6TDR+yNbCyk194jfAa4TXZ8CH38zxvn+GM28cRAL5mM5vkGrvBen755e0jvOD++WfhKcJrhNeUw98+wklTA6v70Fp4jfAa4TXZ8CEG1gThNcJrhNdkw4dsDazs17CE1wivEV6TDR+yNbCyk194jfAa4TXZ8CFbAys7+YXXCK8RXpMNH7I1sLKTX3iN8BrhNdnwIVsDKzv5hdcIrxFekw0fsjWwspNfeI3wGuE12fAhWwMrO/mF1wivEV6TDR+yNbCyk194jfAa4TXZ8CFbAys7+YXXCK8RXpMNH7I1sLKTX3iN8BrhNdnwIVsDKzv5hdcIrxFekw0fsjWwspNfeI3wGuE12fAhWwMrO/mF1wivEV6TDR+yNbCyk194jfAa4TXZ8CFbAys7+YXXCK8RXpMNH7I1sLKTX3iN8BrhNdnwIVsDKzv5hdcIrxFekw0fsjWwspNfeI3wGuE12fAhWwMrO/mF1wivEV6TDR+yNbCyk194jfAa4TXZ8CFbAys7+YXXCK8RXpMNH7I1sLKTX3iN8BrhNdnwIQbWBOE1wmuE12TDhxhYE4TXCK8RXpMNH7I1sLIPrYXXCK8RXpMNH7I1sLKTX3iN8BrhNdnwIVsDKzv5hdcIrxFekw0fsjWwspNfeI3wGuE12fAhWwMrO/mF1wivEV6TDR+yNbCyk194jfAa4TXZ8CFbAys7+YXXCK8RXpMNH7I1sLKTX3iN8BrhNdnwIVsDKzv5hdcIrxFekw0fsjWwspNfeI3wGuE12fAhWwMrO/mF1wivEV6TDR+yNbCyk194jfAa4TXZ8CFbAys7+YXXCK8RXpMNH3I/z/P2Gc64fRwB4Gs2s0musRus548/3j7CC+7vvxeeIrxGeE05/O0jnDQ1sLoPrYXXCK8RXpMNH7I1sLJPCYXXCK8RXpMNH7I1sLKTX3iN8BrhNdnwIQbWBOE1wmuE12TDh2wNrOydqvAa4TXCa7LhQ7YGVnbyC68RXiO8Jhs+xMCaILxGeI3wmmz4kK2Blb1TFV4jvEZ4TTZ8yNbAyk5+4TXCa4TXZMOHbA2s7OQXXiO8RnhNNnzI1sDKTn7hNcJrhNdkw4dsDazs5BdeI7xGeE02fIiBNUF4jfAa4TXZ8CFbAyt7pyq8RniN8Jps+JCtgZWd/MJrhNcIr8mGD9kaWNnJL7xGeI3wmmz4kK2BlZ38wmuE1wivyYYP2RpY2ckvvEZ4jfCabPiQrYGVnfzCa4TXCK/Jhg/ZGljZyS+8RniN8Jps+JCtgZWd/MJrhNcIr8mGD9kaWNnJL7xGeI3wmmz4kK2BlZ38wmuE1wivyYYP2RpY2ckvvEZ4jfCabPiQrYGVnfzCa4TXCK/Jhg/ZGljZyS+8RniN8Jps+BADa4LwGuE1wmuy4UMMrAnCa4TXCK/Jhg/ZGljZh9bCa4TXCK/Jhg/ZGljZyS+8RniN8Jps+JCtgZWd/MJrhNcIr8mGD9kaWNnJL7xGeI3wmmz4kK2BlZ38wmuE1wivyYYP2RpY2ckvvEZ4jfCabPiQrYGVnfzCa4TXCK/Jhg/ZGljZyS+8RniN8Jps+JCtgZWd/MJrhNcIr8mGD9kaWNnJL7xGeI3wmmz4kK2BlZ38wmuE1wivyYYPmRpYzxX9RAqvEV4jvCYbvuR+nuftM5xx2/sA8DWb2STX2A3WX3/tvDEf79tvb+EpwmuE15TD3z7CSVMDa2j4fhrhNcJrhNdkw5dMDawPH94+wUuE1wivEV6TDV8yNbCyk194jfAa4TXZ8CVTAys7+YXXCK8RXpMNXzI1sLKTX3iN8BrhNdnwJVMDKzv5hdcIrxFekw1fMjWwspNfeI3wGuE12fAlUwMrO/mF1wivEV6TDV9iYC0QXiO8RnhNNnyJgbVAeI3wGuE12fAlUwMr+9BaeI3wGuE12fAlUwMrO/mF1wivEV6TDV8yNbCyk194jfAa4TXZ8CVTAys7+YXXCK8RXpMNXzI1sLKTX3iN8BrhNdnwJVMDKzv5hdcIrxFekw1fMjWwspNfeI3wGuE12fAlUwMrO/mF1wivEV6TDV8yNbCyk194jfAa4TXZ8CVTAys7+YXXCK8RXpMNXzI1sLKTX3iN8BrhNdnwJVMDKzv5hdcIrxFekw1fMjWwspNfeI3wGuE12fAlUwMrO/mF1wivEV6TDV8yNbCyk194jfAa4TXZ8CVTAys7+YXXCK8RXpMNXzI1sLKTX3iN8BrhNdnwJVMDKzv5hdcIrxFekw1fYmAtEF4jvEZ4TTZ8ydTAyt6pCq8RXiO8Jhu+ZGpgZSe/8BrhNcJrsuFLpgZWdvILrxFeI7wmG75kamBlJ7/wGuE1wmuy4UumBlZ28guvEV4jvCYbvmRqYGUnv/Aa4TXCa7LhS6YGVnbyC68RXiO8Jhu+ZGpgZSe/8BrhNcJrsuFLpgZWdvILrxFeI7wmG75kamBlJ7/wGuE1wmuy4UvuZ2Un3/f99hEAgM83s0musRus337beWM+3o8/3sJThNcIrymHv32Ek6YG1tDw/TTCa4TXCK/Jhi+ZGljZh9bCa4TXCK/Jhi+ZGljZyS+8RniN8Jps+JKpgZWd/MJrhNcIr8mGL5kaWNnJL7xGeI3wmmz4kqmBlZ38wmuE1wivyYYvmRpY2ckvvEZ4jfCabPiSqYGVnfzCa4TXCK/Jhi+ZGljZyS+8RniN8Jps+JKpgZWd/MJrhNcIr8mGL5kaWNnJL7xGeI3wmmz4kqmBlZ38wmuE1wivyYYvmRpY2ckvvEZ4jfCabPiSqYGVnfzCa4TXCK/Jhi8xsBYIrxFeI7wmG77EwFogvEZ4jfCabPiSqYGVfWgtvEZ4jfCabPiSqYGVnfzCa4TXCK/Jhi+ZGljZyS+8RniN8Jps+JKpgZWd/MJrhNcIr8mGL5kaWNnJL7xGeI3wmmz4kqmBlZ38wmuE1wivyYYvmRpY2ckvvEZ4jfCabPiSqYGVnfzCa4TXCK/Jhi+ZGljZyS+8RniN8Jps+JKpgZWd/MJrhNcIr8mGL5kaWNnJL7xGeI3wmmz4kqmBlZ38wmuE1wivyYYvmRpY2ckvvEZ4jfCabPiSqYGVnfzCa4TXCK/Jhi8xsBYIrxFeI7wmG75kamBl71SF1wivEV6TDV8yNbCyk194jfAa4TXZ8CUG1gLhNcJrhNdkw5dMDazsnarwGuE1wmuy4UumBlZ28guvEV4jvCYbvmRqYGUnv/Aa4TXCa7LhS6YGVnbyC68RXiO8Jhu+ZGpgZSe/8BrhNcJrsuFLpgZWdvILrxFeI7wmG77kflZ28n3fbx8BAPh8M5vkGrvB+umnnTfm4/366y08RXiN8Jpy+NtHOGlqYGXvVIXXCK8RXpMNXzI1sIZuFj+N8BrhNcJrsuFLpgZWdvILrxFeI7wmG75kamBlJ7/wGuE1wmuy4UumBlZ28guvEV4jvCYbvmRqYGUnv/Aa4TXCa7LhS6YGVnbyC68RXiO8Jhu+ZGpgZSe/8BrhNcJrsuFLpgZWdvILrxFeI7wmG75kamBlJ7/wGuE1wmuy4UumBlZ28guvEV4jvCYbvsTAWiC8RniN8Jps+JKpgZW9UxVeI7xGeE02fMnUwMpOfuE1wmuE12TDlxhYC4TXCK8RXpMNXzI1sLJ3qsJrhNcIr8mGL5kaWNnJL7xGeI3wmmz4kqmBlZ38wmuE1wivyYYvmRpY2ckvvEZ4jfCabPiSqYGVnfzCa4TXCK/Jhi+ZGljZyS+8RniN8Jps+JKpgZWd/MJrhNcIr8mGL5kaWNnJL7xGeI3wmmz4kqmBlZ38wmuE1wivyYYvmRpY2ckvvEZ4jfCabPiSqYGVnfzCa4TXCK/Jhi+ZGljZyS+8RniN8Jps+JKpgZWd/MJrhNcIr8mGL5kaWNnJL7xGeI3wmmz4kqmBlZ38wmuE1wivyYYvmRpY2ckvvEZ4jfCabPiSqYGVnfzCa4TXCK/Jhi+ZGljZyS+8RniN8Jps+JKpgZWd/MJrhNcIr8mGL5kaWNnJL7xGeI3wmmz4EgNrgfAa4TXCa7LhS6YGVvZOVXiN8BrhNdnwJVMDKzv5hdcIrxFekw1fYmAtEF4jvEZ4TTZ8yf2sXETe9/32EQCAzzezSa6xG6zvvtt5Yz7en3/ewlOE1wivKYe/fYSTpgbW0PD9NMJrhNcIr8mGL5kaWNmH1sJrhNcIr8mGL5kaWNnJL7xGeI3wmmz4kqmBlZ38wmuE1wivyYYvmRpY2ckvvEZ4jfCabPiSqYGVnfzCa4TXCK/Jhi+ZGljZyS+8RniN8Jps+JKpgZWd/MJrhNcIr8mGL5kaWNnJL7xGeI3wmmz4kqmBlZ38wmuE1wivyYYvmRpY2ckvvEZ4jfCabPiSqYGVnfzCa4TXCK/Jhi+ZGljZyS+8RniN8Jps+JKpgZWd/MJrhNcIr8mGL5kaWNnJL7xGeI3wmmz4kqmBlZ38wmuE1wivyYYvMbAWCK8RXiO8Jhu+ZGpgZe9UhdcIrxFekw1fMjWwspNfeI3wGuE12fAlUwMrO/mF1wivEV6TDV8yNbCyk194jfAa4TXZ8CVTAys7+YXXCK8RXpMNXzI1sLKTX3iN8BrhNdnwJVMDKzv5hdcIrxFekw1fMjWwspNfeI3wGuE12fAlUwMrO/mF1wivEV6TDV8yNbCyk194jfAa4TXZ8CVTAys7+YXXCK8RXpMNXzI1sLKTX3iN8BrhNdnwJVMDKzv5hdcIrxFekw1fMjWwspNfeI3wGuE12fAlUwMrO/mF1wivEV6TDV8yNbCyk194jfAa4TXZ8CVTAys7+YXXCK8RXpMNXzI1sLKTX3iN8BrhNdnwJVMDKzv5hdcIrxFekw1fMjWwspNfeI3wGuE12fAlUwMrO/mF1wivEV6TDV8yNbCyk194jfAa4TXZ8CVTAys7+YXXCK8RXpMNX3I/Q2/jfd9vHwEA+ExTm2QpBgDgv+Cbtw8AALDGwAIAOGzqS+7/ly9pAcAral9Jag2s67qu67nv658/13V9iZdf6K/9117+F87g/F/vyy/6r1zP878/X+jlv/OvOL/z/zdffpm/9n5a6+ryiBAA4DgDCwDgMAMLAOAwAwsA4DADCwDgMAMLAOAwAwsA4DADCwDgsOAPGr3/+flnAABfQm5g1X5UPwC8Lvir6jwiBAA4zMACADjMwAIAOOz2nSQAgLNaN1j3fQe/ZwcAr6v9/xsaWPd9P8/zPE/tPQaAdwX/5w0NLADgFcHvIxlYAACHGVgAAIcZWAAAh4V+Vc4/X28PPgkGAP5Nfg4WAMBhHhECABxmYAEAHGZgAQAcZmABABxmYAEAHGZgAQAc9jeMXRT7ZLa6bAAAAABJRU5ErkJggg=='>"
      ],
      "text/plain": [
       "<IPython.core.display.HTML object>"
      ]
     },
     "metadata": {},
     "output_type": "display_data"
    }
   ],
   "source": [
    "# Finally we will plot the temperature field using ``gLucifer`` after importing the gLucifer module.\n",
    "import glucifer\n",
    "fig = glucifer.Figure(figsize=(800,400))\n",
    "fig.append( glucifer.objects.Surface(mesh, temperatureField, colours=\"blue white red\") )\n",
    "fig.append( glucifer.objects.Mesh(mesh) )\n",
    "fig.show()"
   ]
  },
  {
   "cell_type": "markdown",
   "metadata": {},
   "source": [
    "Typically we might then setup boundary conditions, particle swarms, rheology and systems to be solved.\n",
    "\n",
    "All of these topics are discussed in the following sections of the user guide."
   ]
  }
 ],
 "metadata": {
  "kernelspec": {
   "display_name": "Python 2",
   "language": "python",
   "name": "python2"
  },
  "language_info": {
   "codemirror_mode": {
    "name": "ipython",
    "version": 2
   },
   "file_extension": ".py",
   "mimetype": "text/x-python",
   "name": "python",
   "nbconvert_exporter": "python",
   "pygments_lexer": "ipython2",
   "version": "2.7.10"
  }
 },
 "nbformat": 4,
 "nbformat_minor": 0
}

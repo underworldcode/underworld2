{
 "cells": [
  {
   "cell_type": "markdown",
   "metadata": {},
   "source": [
    "Visualisation\n",
    "==============\n",
    "\n",
    "The glucifer module provides a dynamic visualisation tool for Underworld data, similar in style to matplotlib.\n",
    "\n",
    "**This notebook demonstrates:**\n",
    "\n",
    "1. setting up figure objects\n",
    "2. drawing meshes, surfaces, points and vector arrows\n",
    "3. saving figures to file\n",
    "4. publication ready figures\n",
    "5. interactive viewer\n",
    "\n",
    "**Keywords:** visualisation, glucifer, 3D plots, interactive plots\n",
    "\n",
    "**Note** All classes and functions have corresponding docstrings which are available via the python `help()` function."
   ]
  },
  {
   "cell_type": "markdown",
   "metadata": {},
   "source": [
    "Import underworld and the glucifer modules."
   ]
  },
  {
   "cell_type": "code",
   "execution_count": null,
   "metadata": {
    "collapsed": false
   },
   "outputs": [],
   "source": [
    "import underworld as uw\n",
    "import glucifer"
   ]
  },
  {
   "cell_type": "markdown",
   "metadata": {},
   "source": [
    "The Figure\n",
    "----------\n",
    "\n",
    "The Figure class is a container object essential for glucifer visualisations."
   ]
  },
  {
   "cell_type": "code",
   "execution_count": null,
   "metadata": {
    "collapsed": false
   },
   "outputs": [],
   "source": [
    "newfigure = glucifer.Figure()"
   ]
  },
  {
   "cell_type": "markdown",
   "metadata": {},
   "source": [
    "Figures remain active while they are in scope, or while some object retains a reference to them. "
   ]
  },
  {
   "cell_type": "markdown",
   "metadata": {},
   "source": [
    "Drawing Objects\n",
    "---------------\n",
    "\n",
    "Drawing objects are the items that are rendered within a `Figure`. \n",
    "Currently supported drawing objects:\n",
    " * `Mesh()`, renders a element mesh's geometry\n",
    " * `Suface()`, renders the scalar field over the mesh or a cross section thereof.\n",
    " * `Points()`, renders a Swarm \n",
    " * `VectorArrows()`, renders vector arrows across a vector field (such as a VelocityField). \n",
    " * `Volume()`, volume renders a scalar field\n",
    " * `IsoSurface()`, renders an isosurface of a scalar field\n",
    " * `Contours()`, renders contours of a scalar field. \n",
    "\n",
    "See `help(Drawing)` for options applicable to all drawing objects. "
   ]
  },
  {
   "cell_type": "markdown",
   "metadata": {},
   "source": [
    "**Mesh**\n",
    "\n",
    "Render mesh geometry and node indices. Note, the `append()` method is used to attach this drawing object to a figure object lists of drawing objects. "
   ]
  },
  {
   "cell_type": "code",
   "execution_count": null,
   "metadata": {
    "collapsed": false
   },
   "outputs": [],
   "source": [
    "# create mesh and display it\n",
    "mesh  = uw.mesh.FeMesh_Cartesian( 'Q1', (2,2), (0.,0.), (1.,1.) )\n",
    "fig = glucifer.Figure ( edgecolour=\"black\")\n",
    "fig.Mesh( mesh, nodeNumbers=True ) \n",
    "fig.show()"
   ]
  },
  {
   "cell_type": "markdown",
   "metadata": {},
   "source": [
    "**Surface**\n",
    "\n",
    "This object will draw the desired faces of a scalar field. Check `help(Surface)` for the full options of the Surface drawing object."
   ]
  },
  {
   "cell_type": "code",
   "execution_count": null,
   "metadata": {
    "collapsed": false
   },
   "outputs": [],
   "source": [
    "# create an object with a single value at each mesh point\n",
    "fevar = mesh.add_variable( 1 )\n",
    "# give the variable some values\n",
    "fevar.data[:] = 0.\n",
    "fevar.data[0] = 10.\n",
    "fevar.data[4] = 30.\n",
    "fevar.data[8] = 10.\n",
    "\n",
    "fig = glucifer.Figure ( edgecolour=\"black\" )\n",
    "fig.Surface( mesh, fevar, colours=\"red yellow green\" )\n",
    "\n",
    "fig.show()"
   ]
  },
  {
   "cell_type": "markdown",
   "metadata": {},
   "source": [
    "**VectorArrows**\n",
    "\n",
    "This object will draw an array of vector arrows across the image using the provided vector field to determine their direction. Check `help(VectorArrows)` for the full options of the VectorArrows drawing object."
   ]
  },
  {
   "cell_type": "code",
   "execution_count": null,
   "metadata": {
    "collapsed": false
   },
   "outputs": [],
   "source": [
    "# create a new meshvariable (note that it has 2 values at each mesh point)\n",
    "fevarVec = mesh.add_variable( 2 )\n",
    "# initialise the vector field to something\n",
    "fevarVec.data[:] = [ 0., 0.]\n",
    "fevarVec.data[0] = [ 1., 1.]\n",
    "fevarVec.data[1] = [ 0., 1.]\n",
    "fevarVec.data[2] = [-1., 1.]\n",
    "fevarVec.data[3] = [ 1., 0.]\n",
    "fevarVec.data[5] = [-1., 0.]\n",
    "fevarVec.data[6] = [ 1.,-1.]\n",
    "fevarVec.data[7] = [ 0.,-1.]\n",
    "fevarVec.data[8] = [-1.,-1.]"
   ]
  },
  {
   "cell_type": "markdown",
   "metadata": {},
   "source": [
    "Create and show vector arrow figure."
   ]
  },
  {
   "cell_type": "code",
   "execution_count": null,
   "metadata": {
    "collapsed": false
   },
   "outputs": [],
   "source": [
    "fig = glucifer.Figure( edgecolour=\"black\" )\n",
    "fig.VectorArrows( mesh, fevarVec, scaling=0.1, arrowHead=0.2 )\n",
    "fig.show()"
   ]
  },
  {
   "cell_type": "markdown",
   "metadata": {},
   "source": [
    "**Points**\n",
    "\n",
    "This object will draw a swarm of points using the provided Underworld swarm for the point locations and an Underworld swarm variable for the point colours (or size or opacity). Check `help(Points)` for the full options of the Points drawing object.\n",
    "\n",
    "Firstly, create a swarm over the whole mesh with 200 particles per cell."
   ]
  },
  {
   "cell_type": "code",
   "execution_count": null,
   "metadata": {
    "collapsed": false
   },
   "outputs": [],
   "source": [
    "swarm  = uw.swarm.Swarm( mesh=mesh )\n",
    "layout = uw.swarm.layouts.GlobalSpaceFillerLayout( swarm=swarm, particlesPerCell=200 )\n",
    "swarm.populate_using_layout( layout )"
   ]
  },
  {
   "cell_type": "markdown",
   "metadata": {},
   "source": [
    "Plot the swarm particle distribution."
   ]
  },
  {
   "cell_type": "code",
   "execution_count": null,
   "metadata": {
    "collapsed": false
   },
   "outputs": [],
   "source": [
    "fig = glucifer.Figure( edgecolour=\"blue\" )\n",
    "fig.Points( swarm=swarm, pointSize=5, colourBar = False )\n",
    "fig.show()"
   ]
  },
  {
   "cell_type": "markdown",
   "metadata": {},
   "source": [
    "Now add a swarm variable to define the colour."
   ]
  },
  {
   "cell_type": "code",
   "execution_count": null,
   "metadata": {
    "collapsed": false
   },
   "outputs": [],
   "source": [
    "swarmVar = swarm.add_variable(\"double\",1)\n",
    "swarmVar.data[:]       = 0.\n",
    "swarmVar.data[200:400] = 1.\n",
    "swarmVar.data[400:600] = 2.\n",
    "swarmVar.data[600:800] = 3."
   ]
  },
  {
   "cell_type": "code",
   "execution_count": null,
   "metadata": {
    "collapsed": false
   },
   "outputs": [],
   "source": [
    "someFn = uw.function.coord()[0]"
   ]
  },
  {
   "cell_type": "markdown",
   "metadata": {},
   "source": [
    "Since there are 4 cells and 200 per cell we can divide the swarm up into 4 equal sections and give each a different colour. These will be randomly distributed around the figure. The ``fn_colour`` argument in the ``points`` object asigns colours to each swarm particle depending on the variable ``swarmVar``.  \n",
    "`fn_colour` accepts `Function` objects too and is a powerful tool to quickly visualise a model setup. Set useVar to `False` to see the particle's coloured by there x coordinate"
   ]
  },
  {
   "cell_type": "code",
   "execution_count": null,
   "metadata": {
    "collapsed": false
   },
   "outputs": [],
   "source": [
    "useVar = True\n",
    "fig = glucifer.Figure( edgecolour=\"black\" )\n",
    "\n",
    "if useVar:\n",
    "    fig.Points(swarm=swarm, fn_colour=swarmVar, pointSize=10, colours='black red green blue')\n",
    "else:\n",
    "    someFn = uw.function.coord()[0]\n",
    "    fig.Points(swarm=swarm, fn_colour=someFn, pointSize=10, colours='black red green blue')\n",
    "fig.show()"
   ]
  },
  {
   "cell_type": "markdown",
   "metadata": {},
   "source": [
    "Image Layering\n",
    "--------------\n",
    "Multiple drawing objects can, of course, be layered upon each other to build up complex images. This is achieved by making multiple calls `append()`"
   ]
  },
  {
   "cell_type": "code",
   "execution_count": null,
   "metadata": {
    "collapsed": false
   },
   "outputs": [],
   "source": [
    "fig = glucifer.Figure( edgecolour=\"black\" )\n",
    "fig.VectorArrows( mesh, fevarVec, scaling=0.1, arrowHead=0.2, opacity=0.6 )\n",
    "fig.Surface( mesh, fevar, colours=\"red yellow green\" )\n",
    "fig.show()"
   ]
  },
  {
   "cell_type": "markdown",
   "metadata": {},
   "source": [
    "Saving Results\n",
    "==========\n",
    "To output results to raster files (such as PNG), simply use the `savefig()` method."
   ]
  },
  {
   "cell_type": "code",
   "execution_count": null,
   "metadata": {
    "collapsed": false
   },
   "outputs": [],
   "source": [
    "figfile = fig.save_image(\"savedfigure\")\n",
    "import glob\n",
    "import os\n",
    "if figfile: print(glob.glob( figfile ))"
   ]
  },
  {
   "cell_type": "markdown",
   "metadata": {},
   "source": [
    "Let's clean up the directory by deleting this output figure file."
   ]
  },
  {
   "cell_type": "code",
   "execution_count": null,
   "metadata": {
    "collapsed": false
   },
   "outputs": [],
   "source": [
    "if figfile: os.remove( figfile )"
   ]
  },
  {
   "cell_type": "markdown",
   "metadata": {},
   "source": [
    "Likewise, for those who wish to utilise the native viewer, the database object can be saved using the `saveDB()` method:"
   ]
  },
  {
   "cell_type": "code",
   "execution_count": null,
   "metadata": {
    "collapsed": false
   },
   "outputs": [],
   "source": [
    "fig.save_database(\"dbFile.gldb\")\n",
    "print(glob.glob(\"dbFile.gldb\"))"
   ]
  },
  {
   "cell_type": "markdown",
   "metadata": {},
   "source": [
    "Again, let's clean up the local directory."
   ]
  },
  {
   "cell_type": "code",
   "execution_count": null,
   "metadata": {
    "collapsed": false
   },
   "outputs": [],
   "source": [
    "os.remove( \"dbFile.gldb\" )"
   ]
  },
  {
   "cell_type": "markdown",
   "metadata": {},
   "source": [
    "Publication quality figures\n",
    "=====\n",
    "\n",
    "With minor modifications gLucifer figures are easily made publication ready.\n",
    "\n",
    "Firstly, let's increase the image quality with the \"quality\" parameter. Values can be 1 (low) to 3 (high), but note that higher values can take longer to render, especially for large images.\n",
    "\n",
    "Here we also set the margin around the edges of the plot and apply rulers with tick labels."
   ]
  },
  {
   "cell_type": "code",
   "execution_count": null,
   "metadata": {
    "collapsed": false
   },
   "outputs": [],
   "source": [
    "fig = glucifer.Figure(title=\"Test Plot\", quality=3, margin=50, rulers=True, rulerticks=5)"
   ]
  },
  {
   "cell_type": "markdown",
   "metadata": {},
   "source": [
    "**Modifying surface plots**\n",
    "\n",
    "Setup surface plot with colour gradient contrast bias towards more red (fix red as the colour for the value 25.0 by preceding the colour with this value in brackets) and some transparency (append a colon and the transparency value to the colour)."
   ]
  },
  {
   "cell_type": "code",
   "execution_count": null,
   "metadata": {
    "collapsed": true
   },
   "outputs": [],
   "source": [
    "surf = fig.Surface( mesh, fevar, colours=\"red (25.0)yellow:0.8 green:0.5\")"
   ]
  },
  {
   "cell_type": "markdown",
   "metadata": {},
   "source": [
    "Alter the properties of the colour bar associated with the surface plot. Here we set the number of tick marks to 3 and the values of the first and third ticks, modify the margin and width and set the alignment to right (available values: left/right [vertical], bottom/top [horizontal])."
   ]
  },
  {
   "cell_type": "code",
   "execution_count": null,
   "metadata": {
    "collapsed": false
   },
   "outputs": [],
   "source": [
    "surf.colourBar[\"ticks\"] = 3\n",
    "surf.colourBar[\"position\"] = 0.1\n",
    "surf.colourBar[\"size\"] = [0.8,0.04]\n",
    "surf.colourBar[\"tickvalues\"] = [10, 25]\n",
    "surf.colourBar[\"align\"] = \"right\""
   ]
  },
  {
   "cell_type": "markdown",
   "metadata": {},
   "source": [
    "**Adding floating labels**\n",
    "\n",
    "Labels can be added by specifying the label text and position.\n",
    "\n",
    "Font size can also be set with the \"scaling\" parameter.\n",
    "\n",
    "A single font size applies to all labels on an object, so changing the font scaling of the default object will change all labels already added - to add a different sized label we attach it to a the surface object instead."
   ]
  },
  {
   "cell_type": "code",
   "execution_count": null,
   "metadata": {
    "collapsed": true
   },
   "outputs": [],
   "source": [
    "#Plot a label to the default figure object (fig.draw)\n",
    "fig.draw.label(\"Label1 @ Centre\", (0.2,0.7,0))\n",
    "#Plot a lable to a previously added object\n",
    "surf.label(\"Label2 @ Centre\", (0.2,0.3,0), scaling=1.25)"
   ]
  },
  {
   "cell_type": "markdown",
   "metadata": {},
   "source": [
    "Plot final figure to screen. This can also be saved to PNG/JPEG or a WebGL visualisation."
   ]
  },
  {
   "cell_type": "code",
   "execution_count": null,
   "metadata": {
    "collapsed": false
   },
   "outputs": [],
   "source": [
    "fig.show()"
   ]
  },
  {
   "cell_type": "markdown",
   "metadata": {},
   "source": [
    "**Save a high resolution image**\n",
    "\n",
    "The save image function takes an optional output width and height parameter (if width is provided without height, it will be calculated automatically)"
   ]
  },
  {
   "cell_type": "code",
   "execution_count": null,
   "metadata": {
    "collapsed": false
   },
   "outputs": [],
   "source": [
    "fig.save_image(\"highdef.png\", (1600,0))"
   ]
  },
  {
   "cell_type": "markdown",
   "metadata": {
    "collapsed": true
   },
   "source": [
    "Interactivity & Scripting\n",
    "==========\n",
    "An interactive viewer can be opened from inside the notebook by importing the \"lavavu\" module and using the figure's window() method:"
   ]
  },
  {
   "cell_type": "code",
   "execution_count": null,
   "metadata": {
    "collapsed": false
   },
   "outputs": [],
   "source": [
    "fig = glucifer.Figure( edgecolour=\"black\", quality=3 )\n",
    "fig.Surface( mesh, fevar, colours=\"red yellow green\", colourBar = False )\n",
    "fig.VectorArrows( mesh, fevarVec, scaling=0.1, arrowHead=0.2)"
   ]
  },
  {
   "cell_type": "markdown",
   "metadata": {},
   "source": [
    "Once this interactive viewer is open we can either shift the view using the mouse, or we can send commands to shift the view from inside the notebook."
   ]
  },
  {
   "cell_type": "code",
   "execution_count": null,
   "metadata": {
    "collapsed": false,
    "scrolled": false
   },
   "outputs": [],
   "source": [
    "if not glucifer.lavavu: raise KeyboardInterrupt #Stop notebook here if no vis enabled\n",
    "lv = fig.window()\n",
    "lv.rotate('y', 45)\n",
    "lv.redisplay()"
   ]
  },
  {
   "cell_type": "markdown",
   "metadata": {},
   "source": [
    "We can retrieve a list of objects from a viewer by inspecting the \"objects\" property.\n",
    "References to these objects can be used to modify the object appearance, either directly or using controls."
   ]
  },
  {
   "cell_type": "code",
   "execution_count": null,
   "metadata": {
    "collapsed": false
   },
   "outputs": [],
   "source": [
    "lv.reset() #Restore camera to default view\n",
    "print lv.objects\n",
    "surf = lv.objects[\"ScalarField_0\"]\n",
    "surf[\"opacity\"] = 0.75\n",
    "lv.redisplay()"
   ]
  },
  {
   "cell_type": "markdown",
   "metadata": {},
   "source": [
    "Interactive controls can be created to adjust visualisation parameters, here we control the opacity of the previously retrieved \"surf\" object and the global vector scaling parameter, changes will be reflected in the viewer window above:"
   ]
  },
  {
   "cell_type": "code",
   "execution_count": null,
   "metadata": {
    "collapsed": false
   },
   "outputs": [],
   "source": [
    "surf.control.Range(property=\"opacity\", range=(0,1), command=\"reload\")\n",
    "lv.control.Range(\"scalevectors\", value=1., range=(0.1, 2.5), step=0.1, label=\"Scale Arrows\")\n",
    "lv.control.show()"
   ]
  }
 ],
 "metadata": {
  "kernelspec": {
   "display_name": "Python 2",
   "language": "python",
   "name": "python2"
  },
  "language_info": {
   "codemirror_mode": {
    "name": "ipython",
    "version": 2
   },
   "file_extension": ".py",
   "mimetype": "text/x-python",
   "name": "python",
   "nbconvert_exporter": "python",
   "pygments_lexer": "ipython2",
   "version": "2.7.10"
  }
 },
 "nbformat": 4,
 "nbformat_minor": 0
}

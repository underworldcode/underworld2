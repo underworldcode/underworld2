{
 "cells": [
  {
   "cell_type": "markdown",
   "metadata": {},
   "source": [
    "Stokes Solver\n",
    "=======\n",
    "\n",
    "We want to solve the following Stokes block system.\n",
    "\n",
    "$$\n",
    "\\begin{bmatrix}\n",
    " K & G \\\\\n",
    " G^T & C\n",
    "\\end{bmatrix}\n",
    "\\begin{bmatrix}\n",
    "  u\\\\\n",
    "  p\n",
    "\\end{bmatrix}\n",
    "=\n",
    "\\begin{bmatrix}\n",
    " f\\\\ \n",
    " h\n",
    "\\end{bmatrix}.\n",
    "$$\n",
    "\n",
    "If we apply Gaussian elimination to the above as a 2x2 block matrix system\n",
    "we can write this as:\n",
    "\n",
    "$$\n",
    "\\begin{bmatrix}\n",
    "  K & G\\\\\n",
    "  0 & S\n",
    "\\end{bmatrix}\n",
    "\\begin{bmatrix}\n",
    "  u\\\\\n",
    "  p\n",
    "\\end{bmatrix}\n",
    "=\n",
    "\\begin{bmatrix}\n",
    " f\\\\ \n",
    " \\hat{h}\n",
    "\\end{bmatrix},\n",
    "$$\n",
    "\n",
    "where $S=G^{T}K^{-1}G-C$ is the Schur complement and $\\hat{h}=G^{T}K^{-1}f -h$.\n",
    "\n",
    "This system is now solved first for the pressure using the Schur complement matrix, $S$. Then a backsolve for the\n",
    "velocity gives the complete solution.\n",
    "\n",
    "Note that wherever $K^{-1}$ appears, the inverse is never explicitly calculated but is achieved via\n",
    "a [PETSc](http://www.mcs.anl.gov/petsc/) solve method. While solving for the pressure, there are necessarily solves using $K$ inside of the matrix $S$.\n",
    "We often refer to these as 'inner' solves.\n",
    "\n",
    "Basic usage of the Stokes solver class involves being able to easily set up the inner solves in a few different ways\n",
    "(Setting up the pressure solve is more advanced).\n",
    "\n",
    "To illustrate some basic usage let's set up a simple problem to solve."
   ]
  },
  {
   "cell_type": "code",
   "execution_count": 1,
   "metadata": {},
   "outputs": [],
   "source": [
    "import underworld as uw\n",
    "from underworld import function as fn\n",
    "\n",
    "res=128\n",
    "mesh = uw.mesh.FeMesh_Cartesian(elementRes=(res,res))\n",
    "velocityField = mesh.add_variable(2)\n",
    "pressureField = mesh.subMesh.add_variable(1)\n",
    "velocityField.data[:] = (0.,0.)\n",
    "pressureField.data[:] = 0.\n",
    "\n",
    "# We are going to make use of one of the existing analytic solutions so that we may easily\n",
    "# obtain functions for a viscosity profile and forcing terms.\n",
    "# Exact solution solCx with defaults\n",
    "sol = fn.analytic.SolCx()\n",
    "stokesSystem = uw.systems.Stokes(velocityField,pressureField,sol.fn_viscosity,sol.fn_bodyforce,conditions=sol.get_bcs(velocityField))\n",
    "\n",
    "# Now we create a solver.\n",
    "solver=uw.systems.Solver(stokesSystem)\n",
    "\n",
    "# The Stokes solver will use multigrid as a preconditioner along with\n",
    "# PETSc's 'fgmres' Krylov method by default for the 'inner' solve.\n",
    "solver.solve()\n",
    "\n",
    "# Now let's set up the inner solve to do a direct solve.\n",
    "# Note that the `lu` direct solver will not work in parallel.\n",
    "solver.set_inner_method(\"lu\")\n",
    "solver.solve()"
   ]
  },
  {
   "cell_type": "markdown",
   "metadata": {},
   "source": [
    "Let's run underworld's help function on the solver.configure function."
   ]
  },
  {
   "cell_type": "code",
   "execution_count": 2,
   "metadata": {},
   "outputs": [
    {
     "name": "stdout",
     "output_type": "stream",
     "text": [
      "Help on method set_inner_method in module underworld.systems._bsscr:\n",
      "\n",
      "set_inner_method(self, solve_type='mg') method of underworld.systems._bsscr.StokesSolver instance\n",
      "    Configure velocity/inner solver (A11 PETSc prefix).\n",
      "    \n",
      "    Available options below. Note that associated solver software\n",
      "    (for example `mumps`) must be installed.\n",
      "    \n",
      "    - mg          : Geometric multigrid (default).\n",
      "    - nomg        : Disables multigrid.\n",
      "    - lu          : LU direct solver (serial only).\n",
      "    - mumps       : MUMPS parallel direct solver.\n",
      "    - superludist : SuperLU parallel direct solver.\n",
      "    - superlu     : SuperLU direct solver (serial only).\n",
      "\n"
     ]
    }
   ],
   "source": [
    "help(solver.set_inner_method)"
   ]
  },
  {
   "cell_type": "markdown",
   "metadata": {},
   "source": [
    "We can see all the of the options that are configured in the solver using the `list()` functions for each component of the solver. These are the most useful ones."
   ]
  },
  {
   "cell_type": "code",
   "execution_count": 3,
   "metadata": {},
   "outputs": [
    {
     "name": "stdout",
     "output_type": "stream",
     "text": [
      "System Level Options:\n",
      "('remove_constant_pressure_null_space', False)\n",
      "('ksp_k2_type', 'NULL')\n",
      "('change_backsolve', False)\n",
      "('penalty', 0.0)\n",
      "('pc_type', 'none')\n",
      "('force_correction', True)\n",
      "('k_scale_only', True)\n",
      "('Q22_pc_type', 'uw')\n",
      "('change_A11rhspresolve', False)\n",
      "('ksp_type', 'bsscr')\n",
      "('rescale_equations', False)\n",
      "('restore_K', False)\n",
      "\n",
      "Schur Complement Solve Options:\n",
      "('ksp_type', 'fgmres')\n",
      "('ksp_rtol', 1e-05)\n",
      "\n",
      "Inner (velocity) Solve Options:\n",
      "('pc_type', 'lu')\n",
      "('_mg_active', False)\n",
      "('ksp_type', 'preonly')\n",
      "\n",
      "Multigrid (where enabled) Options:\n",
      "('active', False)\n",
      "('levels', 8)\n"
     ]
    }
   ],
   "source": [
    "print(\"System Level Options:\")\n",
    "solver.options.main.list()\n",
    "print(\"\")\n",
    "print(\"Schur Complement Solve Options:\")\n",
    "solver.options.scr.list()   # Specifics for the \n",
    "print(\"\")\n",
    "print(\"Inner (velocity) Solve Options:\")\n",
    "solver.options.A11.list()   # Specifics for the inner (velocity) solve\n",
    "print(\"\")\n",
    "print(\"Multigrid (where enabled) Options:\")\n",
    "solver.options.mg.list()    # Options relevant to multigrid (if chosen)"
   ]
  },
  {
   "cell_type": "markdown",
   "metadata": {},
   "source": [
    "Further information about options is available via the `help()` Python function:\n",
    "\n",
    "```\n",
    "help(solver.options.A11)\n",
    "```\n",
    "\n",
    "The options generally follow `PETSc` naming conventions. \n",
    "\n",
    "A useful trick is to be able to imitate the classic _\"penalty method\"_ which can be very efficient with modest-sized (2D) problems.  \n",
    "\n",
    "In the penalty method, we add a term to the weak form of the Stokes equation which penalises $\\lambda | \\nabla \\cdot \\mathbf{u}| > 0$ and where $\\lambda$ is a sufficiently large constant to enforce the constraint. Typically $10^7$ is considered sufficient. \n",
    "\n",
    "The problem with this method is that the condition number of the system is severely compromised by adding the penalty term and standard iterative methods do not work well. \n",
    "\n",
    "Our solvers have been configured with the penalty term and, for sufficiently robust choices of the inner solver, this can help solve problems faster (by improving pressure convergence). \n",
    "\n",
    "An indestructible solver like `lu` or `mumps` (Mumps is a direct solve that will work in parallel) can use very large penalties. Hence we can recreate the penalty method as follows (though it still follows the pattern of the Schur complement solver, while the classical method takes some shortcuts)."
   ]
  },
  {
   "cell_type": "code",
   "execution_count": 4,
   "metadata": {},
   "outputs": [
    {
     "name": "stdout",
     "output_type": "stream",
     "text": [
      "\u001b[1;35m\n",
      " \n",
      "Pressure iterations:   4\n",
      "Velocity iterations:   1 (presolve)      \n",
      "Velocity iterations:   4 (pressure solve)\n",
      "Velocity iterations:   1 (backsolve)     \n",
      "Velocity iterations:   6 (total solve)   \n",
      " \n",
      "SCR RHS  setup time: 4.8789e-01\n",
      "SCR RHS  solve time: 5.6970e-03\n",
      "Pressure setup time: 1.0583e-03\n",
      "Pressure solve time: 2.6979e-02\n",
      "Velocity setup time: 8.5831e-06 (backsolve)\n",
      "Velocity solve time: 5.4877e-03 (backsolve)\n",
      "Total solve time   : 5.7443e-01\n",
      " \n",
      "Velocity solution min/max: 0.0000e+00/0.0000e+00\n",
      "Pressure solution min/max: 0.0000e+00/0.0000e+00\n",
      " \n",
      "\u001b[00m\n"
     ]
    }
   ],
   "source": [
    "try:\n",
    "    solver.set_inner_method(\"mumps\")\n",
    "    solver.options.scr.ksp_type=\"cg\"\n",
    "    solver.set_penalty(1.0e7)\n",
    "    solver.solve()\n",
    "    solver.print_stats()\n",
    "except RuntimeError:\n",
    "    # If the above fails, \"mumps\" probably isn't installed\n",
    "    pass"
   ]
  },
  {
   "cell_type": "markdown",
   "metadata": {},
   "source": [
    "Now let's go back to using multigrid. We can use a penalty here too, but the gigantic numbers won't work."
   ]
  },
  {
   "cell_type": "code",
   "execution_count": 5,
   "metadata": {},
   "outputs": [
    {
     "name": "stdout",
     "output_type": "stream",
     "text": [
      "\u001b[1;35m\n",
      " \n",
      "Pressure iterations:  17\n",
      "Velocity iterations:   6 (presolve)      \n",
      "Velocity iterations:  88 (pressure solve)\n",
      "Velocity iterations:   5 (backsolve)     \n",
      "Velocity iterations:  99 (total solve)   \n",
      " \n",
      "SCR RHS  setup time: 2.8383e-02\n",
      "SCR RHS  solve time: 8.8551e-02\n",
      "Pressure setup time: 1.5616e-03\n",
      "Pressure solve time: 8.6988e-01\n",
      "Velocity setup time: 9.5367e-06 (backsolve)\n",
      "Velocity solve time: 3.8740e-02 (backsolve)\n",
      "Total solve time   : 1.1070e+00\n",
      " \n",
      "Velocity solution min/max: 0.0000e+00/0.0000e+00\n",
      "Pressure solution min/max: 0.0000e+00/0.0000e+00\n",
      " \n",
      "\u001b[00m\n"
     ]
    }
   ],
   "source": [
    "solver.set_inner_method(\"mg\")\n",
    "solver.set_penalty(1.0)\n",
    "solver.solve()\n",
    "solver.print_stats()"
   ]
  }
 ],
 "metadata": {
  "kernelspec": {
   "display_name": "Python 3",
   "language": "python",
   "name": "python3"
  },
  "language_info": {
   "codemirror_mode": {
    "name": "ipython",
    "version": 3
   },
   "file_extension": ".py",
   "mimetype": "text/x-python",
   "name": "python",
   "nbconvert_exporter": "python",
   "pygments_lexer": "ipython3",
   "version": "3.8.10"
  }
 },
 "nbformat": 4,
 "nbformat_minor": 1
}

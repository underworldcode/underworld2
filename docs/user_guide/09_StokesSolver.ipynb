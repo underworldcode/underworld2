{
 "cells": [
  {
   "cell_type": "markdown",
   "metadata": {},
   "source": [
    "Stokes Solver\n",
    "=======\n",
    "\n",
    "We want to solve the following Stokes block system.\n",
    "\\\\[\n",
    "\\begin{bmatrix}\n",
    " K & G \\\\\n",
    " G^T & C\n",
    "\\end{bmatrix}\n",
    "\\begin{bmatrix}\n",
    "  u\\\\\n",
    "  p\n",
    "\\end{bmatrix}\n",
    "=\n",
    "\\begin{bmatrix}\n",
    " f\\\\ \n",
    " h\n",
    "\\end{bmatrix}.\n",
    "\\\\]\n",
    "\n",
    "If we apply Gaussian elimination to the above as a 2x2 block matrix system\n",
    "we can write this as:\n",
    "\n",
    "\\\\[\n",
    "\\begin{bmatrix}\n",
    "  K & G\\\\\n",
    "  0 & S\n",
    "\\end{bmatrix}\n",
    "\\begin{bmatrix}\n",
    "  u\\\\\n",
    "  p\n",
    "\\end{bmatrix}\n",
    "=\n",
    "\\begin{bmatrix}\n",
    " f\\\\ \n",
    " \\hat{h}\n",
    "\\end{bmatrix},\n",
    "\\\\]\n",
    "\n",
    "where $S=G^{T}K^{-1}G-C$ is the Schur complement and $\\hat{h}=G^{T}K^{-1}f -h$.\n",
    "\n",
    "This system is now solved first for the pressure using the Schur complement matrix, $S$. Then a backsolve for the\n",
    "velocity gives the complete solution.\n",
    "\n",
    "Note that wherever $K^{-1}$ appears, the inverse is never explicitly calculated but is achieved via\n",
    "a [PETSc](http://www.mcs.anl.gov/petsc/) solve method. While solving for the pressure, there are necessarily solves using $K$ inside of the matrix $S$.\n",
    "We often refer to these as 'inner' solves.\n",
    "\n",
    "Basic usage of the Stokes solver class involves being able to easily set up the inner solves in a few different ways\n",
    "(Setting up the pressure solve is more advanced).\n",
    "\n",
    "To illustrate some basic usage let's set up a simple problem to solve."
   ]
  },
  {
   "cell_type": "code",
   "execution_count": 1,
   "metadata": {
    "collapsed": false
   },
   "outputs": [],
   "source": [
    "import underworld as uw\n",
    "import math\n",
    "from underworld import function as fn\n",
    "\n",
    "res=128\n",
    "mesh = uw.mesh.FeMesh_Cartesian(\"Q1/DQ0\", (res,res), (0.,0.), (1.,1.))\n",
    "velocityField = mesh.add_variable(2)\n",
    "velocityField.data[:] = (0.,0.)\n",
    "\n",
    "pressureField = mesh.subMesh.add_variable(1)\n",
    "pressureField.data[:] = 0.\n",
    "\n",
    "# Freeslip bc's\n",
    "IWalls = mesh.specialSets[\"MinI_VertexSet\"] + mesh.specialSets[\"MaxI_VertexSet\"]\n",
    "JWalls = mesh.specialSets[\"MinJ_VertexSet\"] + mesh.specialSets[\"MaxJ_VertexSet\"]\n",
    "freeslip = uw.conditions.DirichletCondition(velocityField, (IWalls, JWalls))\n",
    "# We are going to make use of one of the existing analytic solutions so that we may easily\n",
    "# obtain functions for a viscosity profile and forcing terms.\n",
    "# Exact solution solCx with defaults\n",
    "sol = fn.analytic.SolCx()\n",
    "stokesSystem = uw.systems.Stokes(velocityField,pressureField,sol.fn_viscosity,sol.fn_bodyforce,conditions=freeslip)\n"
   ]
  },
  {
   "cell_type": "markdown",
   "metadata": {},
   "source": [
    "Now we create a solver.\n",
    "The Solver class will automatically return a Stokes solver given a Stokes system."
   ]
  },
  {
   "cell_type": "code",
   "execution_count": 2,
   "metadata": {
    "collapsed": false
   },
   "outputs": [],
   "source": [
    "solver=uw.systems.Solver(stokesSystem)"
   ]
  },
  {
   "cell_type": "markdown",
   "metadata": {},
   "source": [
    "The Stokes solver will use multigrid as a preconditioner along with PETSc's\n",
    "'fgmres' Krylov method by default for the 'inner' solve.\n",
    "\n",
    "Let's run the solver now."
   ]
  },
  {
   "cell_type": "code",
   "execution_count": 3,
   "metadata": {
    "collapsed": false
   },
   "outputs": [],
   "source": [
    "solver.solve()"
   ]
  },
  {
   "cell_type": "markdown",
   "metadata": {},
   "source": [
    "Now let's set up the inner solve to do a direct solve (this will not work in parallel)."
   ]
  },
  {
   "cell_type": "code",
   "execution_count": 4,
   "metadata": {
    "collapsed": true
   },
   "outputs": [],
   "source": [
    "solver.set_inner_method(\"lu\")"
   ]
  },
  {
   "cell_type": "code",
   "execution_count": 5,
   "metadata": {
    "collapsed": false
   },
   "outputs": [],
   "source": [
    "solver.solve()"
   ]
  },
  {
   "cell_type": "markdown",
   "metadata": {},
   "source": [
    "Let's run underworld's help function on the solver.configure function."
   ]
  },
  {
   "cell_type": "code",
   "execution_count": 6,
   "metadata": {
    "collapsed": false
   },
   "outputs": [
    {
     "name": "stdout",
     "output_type": "stream",
     "text": [
      "Help on method set_inner_method in module underworld.systems._bsscr:\n",
      "\n",
      "set_inner_method(self, solve_type='mg') method of underworld.systems._bsscr.StokesSolver instance\n",
      "    Configure velocity/inner solver (A11 PETSc prefix).\n",
      "    \n",
      "    solve_type can be one of:\n",
      "    \n",
      "    mg          : Geometric multigrid (default).\n",
      "    mumps       : MUMPS parallel direct solver.\n",
      "    superludist : SuperLU parallel direct solver.\n",
      "    superlu     : SuperLU direct solver (serial only).\n",
      "    lu          : LU direct solver (serial only).\n",
      "\n"
     ]
    }
   ],
   "source": [
    "help(solver.set_inner_method)"
   ]
  },
  {
   "cell_type": "markdown",
   "metadata": {},
   "source": [
    "We can see all the of the options that are configured in the solver using the `list()` functions for each component of the solver. These are the most useful ones."
   ]
  },
  {
   "cell_type": "code",
   "execution_count": 7,
   "metadata": {
    "collapsed": false
   },
   "outputs": [
    {
     "name": "stdout",
     "output_type": "stream",
     "text": [
      "('remove_constant_pressure_null_space', False)\n",
      "('ksp_k2_type', 'NULL')\n",
      "('change_backsolve', False)\n",
      "('penalty', 0.0)\n",
      "('pc_type', 'none')\n",
      "('force_correction', True)\n",
      "('k_scale_only', True)\n",
      "('Q22_pc_type', 'uw')\n",
      "('change_A11rhspresolve', False)\n",
      "('ksp_type', 'bsscr')\n",
      "('rescale_equations', False)\n",
      "('restore_K', True)\n",
      "---\n",
      "('ksp_type', 'fgmres')\n",
      "('ksp_rtol', 1e-05)\n",
      "---\n",
      "('pc_type', 'lu')\n",
      "('_mg_active', False)\n",
      "('ksp_type', 'preonly')\n",
      "---\n",
      "('active', False)\n",
      "('levels', 8)\n"
     ]
    }
   ],
   "source": [
    "solver.options.main.list()  # System level options\n",
    "print( \"---\" )\n",
    "solver.options.scr.list()   # Specifics for the schur complement solve\n",
    "print( \"---\" )\n",
    "solver.options.A11.list()   # Specifics for the inner (velocity) solve\n",
    "print( \"---\" )\n",
    "solver.options.mg.list()    # Options relevant to multigrid (if chosen)\n"
   ]
  },
  {
   "cell_type": "markdown",
   "metadata": {},
   "source": [
    "To learn more about the possible options, you can first take a look at \n",
    "\n",
    "```\n",
    "uw.help(solver.options.A11) # for example\n",
    "```\n",
    "\n",
    "The options are cryptic because they follow the conventions established by `PETSc` which we use for the linear algebra and we allow you to pass any valid option through to that system. To understand this better, you will have to look at the [Petsc documentation](www.mcs.anl.gov/petsc/documentation/). To begin with, the examples in this notebook should be ok to get going. \n"
   ]
  },
  {
   "cell_type": "code",
   "execution_count": 8,
   "metadata": {
    "collapsed": false
   },
   "outputs": [
    {
     "name": "stdout",
     "output_type": "stream",
     "text": [
      "Help on Options in module underworld.systems._options object:\n",
      "\n",
      "class Options(__builtin__.object)\n",
      " |  Set PETSc options on this to pass along to PETSc KSPs\n",
      " |  \n",
      " |  ksp_type = <fgmres>    : Krylov method\n",
      " |  ksp_rtol = <1e-05>     : Relative decrease in residual norm\n",
      " |  pc_type  = <sor>       : Preconditioner type\n",
      " |  ksp_view = 'ascii'     : Print the ksp data structure at the end of the system solution\n",
      " |  ksp_converged_reason = 'ascii' : Print reason for converged or diverged solve\n",
      " |  ksp_monitor = <stdout> : Monitor preconditioned residual norm\n",
      " |  \n",
      " |  for further options see PETSc manual or set help on \"options.main\"\n",
      " |  \n",
      " |  Methods defined here:\n",
      " |  \n",
      " |  __init__(self)\n",
      " |  \n",
      " |  help(self)\n",
      " |  \n",
      " |  list(self)\n",
      " |      List options.\n",
      " |  \n",
      " |  reset(self)\n",
      " |      Reset values to initial defaults.\n",
      " |  \n",
      " |  set_lu(self)\n",
      " |      Set up options for LU serial solve.\n",
      " |  \n",
      " |  set_mumps(self, pc_type='lu')\n",
      " |      Set up options for MUMPS parallel solve.\n",
      " |      pc_type = \"lu\" or \"cholesky\"\n",
      " |      \n",
      " |      Use ./configure --download-mumps --download-scalapack --download-parmetis --download-metis --download-ptscotch\n",
      " |      to have PETSc installed with MUMPS\n",
      " |  \n",
      " |  set_superlu(self)\n",
      " |      Set up options for SuperLU serial solve.\n",
      " |      Use ./configure --download-superlu to have PETSc installed with SuperLU\n",
      " |  \n",
      " |  set_superludist(self)\n",
      " |      Set up options for SuperLU parallel solve.\n",
      " |      Use ./configure --download-superlu_dist --download-parmetis --download-metis --download-ptscotch\n",
      " |      to have PETSc installed with SuperLU_DIST\n",
      " |  \n",
      " |  ----------------------------------------------------------------------\n",
      " |  Data descriptors defined here:\n",
      " |  \n",
      " |  __dict__\n",
      " |      dictionary for instance variables (if defined)\n",
      " |  \n",
      " |  __weakref__\n",
      " |      list of weak references to the object (if defined)\n",
      "\n"
     ]
    }
   ],
   "source": [
    "help(solver.options.A11)"
   ]
  },
  {
   "cell_type": "markdown",
   "metadata": {},
   "source": [
    "A useful trick is to be able to imitate the classic _\"penalty method\"_ which can be very efficient with modest-sized (2D) problems.  \n",
    "\n",
    "In the penalty method, we add a term to the weak form of the Stokes equation which penalises $\\lambda | \\nabla \\cdot \\mathbf{u}| > 0$ and where $\\lambda$ is a sufficiently large constant to enforce the constraint. Typically $10^7$ is considered sufficient. \n",
    "\n",
    "The problem with this method is that the condition number of the system is severely compromised by adding the penalty term and standard iterative methods do not work well. \n",
    "\n",
    "Our solvers have been configured with the penalty term and, for sufficiently robust choices of the inner solver, this can help solve problems faster (by improving pressure convergence). \n",
    "\n",
    "An indestructible solver like `lu` or `mumps` (Mumps is a direct solve that will work in parallel) can use very large penalties. Hence we can recreate the penalty method as follows (though it still follows the pattern of the Schur complement solver, while the classical method takes some shortcuts)."
   ]
  },
  {
   "cell_type": "code",
   "execution_count": 9,
   "metadata": {
    "collapsed": false
   },
   "outputs": [
    {
     "name": "stdout",
     "output_type": "stream",
     "text": [
      "\u001b[1;35m\n",
      " \n",
      "Pressure iterations:   2\n",
      "Velocity iterations:   1 (presolve)      \n",
      "Velocity iterations:   2 (pressure solve)\n",
      "Velocity iterations:   1 (backsolve)     \n",
      "Velocity iterations:   4 (total solve)   \n",
      " \n",
      "SCR RHS  solve time: 2.8745e-01\n",
      "Pressure solve time: 2.7946e-02\n",
      "Velocity solve time: 1.6213e-01 (backsolve)\n",
      "Total solve time   : 5.4743e-01\n",
      " \n",
      "Velocity solution min/max: 0.0000e+00/0.0000e+00\n",
      "Pressure solution min/max: 0.0000e+00/0.0000e+00\n",
      " \n",
      "\u001b[00m\n"
     ]
    }
   ],
   "source": [
    "solver.set_inner_method(\"mumps\")\n",
    "solver.options.scr.ksp_type=\"cg\"\n",
    "solver.set_penalty(1.0e7)\n",
    "solver.solve()\n",
    "solver.print_stats()"
   ]
  },
  {
   "cell_type": "markdown",
   "metadata": {},
   "source": [
    "Now let's go back to using multigrid. We can use a penalty here too, but the gigantic numbers won't work."
   ]
  },
  {
   "cell_type": "code",
   "execution_count": 10,
   "metadata": {
    "collapsed": false
   },
   "outputs": [
    {
     "name": "stdout",
     "output_type": "stream",
     "text": [
      "\u001b[1;35m\n",
      " \n",
      "Pressure iterations:   6\n",
      "Velocity iterations:   6 (presolve)      \n",
      "Velocity iterations:  30 (pressure solve)\n",
      "Velocity iterations:   5 (backsolve)     \n",
      "Velocity iterations:  41 (total solve)   \n",
      " \n",
      "SCR RHS  solve time: 1.2236e-01\n",
      "Pressure solve time: 3.0134e-01\n",
      "Velocity solve time: 1.0311e-01 (backsolve)\n",
      "Total solve time   : 6.4114e-01\n",
      " \n",
      "Velocity solution min/max: 0.0000e+00/0.0000e+00\n",
      "Pressure solution min/max: 0.0000e+00/0.0000e+00\n",
      " \n",
      "\u001b[00m\n"
     ]
    }
   ],
   "source": [
    "solver.set_inner_method(\"mg\")\n",
    "solver.set_penalty(1.0)\n",
    "solver.solve()\n",
    "solver.print_stats()"
   ]
  },
  {
   "cell_type": "markdown",
   "metadata": {},
   "source": [
    "Let's run help on the solver itself. The whole thing is reasonably well documented and help works for all the subcomponents."
   ]
  },
  {
   "cell_type": "code",
   "execution_count": 11,
   "metadata": {
    "collapsed": false,
    "scrolled": false
   },
   "outputs": [
    {
     "name": "stdout",
     "output_type": "stream",
     "text": [
      "Help on StokesSolver in module underworld.systems._bsscr object:\n",
      "\n",
      "class StokesSolver(underworld._stgermain.StgCompoundComponent)\n",
      " |  The Block Stokes Schur Complement Solver:\n",
      " |  This solves the saddle-point system\n",
      " |  \n",
      " |  [ K  G][u] = [f]\n",
      " |  [ G' C][p]   [h]\n",
      " |  \n",
      " |  via a Schur complement method.\n",
      " |  \n",
      " |  We first solve:\n",
      " |    a: S*p= G'*Ki*f - h,\n",
      " |  \n",
      " |  where S = G'*Ki*G-C and Ki = inverse of K.\n",
      " |  \n",
      " |  Then we backsolve for the velocity\n",
      " |    b: K*u = f - G*p.\n",
      " |  \n",
      " |  The effect of the inverse of K in (a) is obtained via a KSPSolve in PETSc.\n",
      " |  This has the prefix 'A11' (often called the 'inner' solve)\n",
      " |  \n",
      " |  The solve in (a) for the pressure has prefix 'scr'.\n",
      " |  \n",
      " |  Assuming the returned solver is called 'solver':\n",
      " |  \n",
      " |  It is possible to configure these solves individually via the\n",
      " |    solver.options.A11\n",
      " |  and\n",
      " |    solver.options.scr\n",
      " |  dictionaries.\n",
      " |  \n",
      " |  Try uw.help(solver.options.A11) for some details.\n",
      " |  \n",
      " |  Common configurations are provided via the\n",
      " |  solver.set_inner_method() function.\n",
      " |  \n",
      " |  solver.set_inner_method(\"mg\") sets up a multigrid solve for the inner solve. This is the default.\n",
      " |  solver.set_inner_method(\"mumps\") will set up a parallel direct solve on the inner solve.\n",
      " |  solver.set_inner_method(\"lu\") will set up a serial direct solve on the inner solve.\n",
      " |  \n",
      " |  uw.help(solver.set_inner_method) for more.\n",
      " |  \n",
      " |  For more advanced configurations use the\n",
      " |  solver.options.A11/scr dictionaries directly.\n",
      " |  \n",
      " |  uw.help(solver.options) to see more.\n",
      " |  \n",
      " |  Method resolution order:\n",
      " |      StokesSolver\n",
      " |      underworld._stgermain.StgCompoundComponent\n",
      " |      underworld._stgermain.StgClass\n",
      " |      underworld._stgermain.LeftOverParamsChecker\n",
      " |      __builtin__.object\n",
      " |  \n",
      " |  Methods defined here:\n",
      " |  \n",
      " |  __init__(self, stokesSLE, **kwargs)\n",
      " |  \n",
      " |  get_nonLinearStats(self)\n",
      " |  \n",
      " |  get_stats(self)\n",
      " |  \n",
      " |  print_stats(self)\n",
      " |  \n",
      " |  set_inner_method(self, solve_type='mg')\n",
      " |      Configure velocity/inner solver (A11 PETSc prefix).\n",
      " |      \n",
      " |      solve_type can be one of:\n",
      " |      \n",
      " |      mg          : Geometric multigrid (default).\n",
      " |      mumps       : MUMPS parallel direct solver.\n",
      " |      superludist : SuperLU parallel direct solver.\n",
      " |      superlu     : SuperLU direct solver (serial only).\n",
      " |      lu          : LU direct solver (serial only).\n",
      " |  \n",
      " |  set_inner_rtol(self, rtol)\n",
      " |  \n",
      " |  set_mg_levels(self, levels)\n",
      " |      Set the number of multigrid levels manually.\n",
      " |      It is set automatically by default.\n",
      " |  \n",
      " |  set_outer_rtol(self, rtol)\n",
      " |  \n",
      " |  set_penalty(self, penalty)\n",
      " |      By setting the penalty, the Augmented Lagrangian Method is used as the solve.\n",
      " |      This method is not recommended for normal use as there is additional memory and cpu overhead.\n",
      " |      This method can often help improve convergence issues for problems with large viscosity\n",
      " |      contrasts that are having trouble converging.\n",
      " |      \n",
      " |      A penalty of roughly 0.1 of the maximum viscosity contrast is not a bad place to start as a guess. (check notes/paper)\n",
      " |  \n",
      " |  solve(self, nonLinearIterate=None, nonLinearTolerance=0.01, nonLinearKillNonConvergent=False, nonLinearMaxIterations=500, print_stats=False, reinitialise=True, **kwargs)\n",
      " |      solve the Stokes system\n",
      " |  \n",
      " |  ----------------------------------------------------------------------\n",
      " |  Data and other attributes defined here:\n",
      " |  \n",
      " |  __abstractmethods__ = frozenset([])\n",
      " |  \n",
      " |  ----------------------------------------------------------------------\n",
      " |  Static methods inherited from underworld._stgermain.StgCompoundComponent:\n",
      " |  \n",
      " |  __new__(cls, *args, **kwargs)\n",
      " |      Creates stgermain instances of underlying objects.\n",
      " |      \n",
      " |      The list of required instances is provided as a dictionary ('_objectsDict') on the class, \n",
      " |      with the entry key being the object name, and entry value being the object type.\n",
      " |      \n",
      " |      A second class data member ('_selfObjectName') provides the object name \n",
      " |      which should be considered the object 'self'.\n",
      " |      \n",
      " |      For example:\n",
      " |      class Drawing(_stgermain.StgCompoundComponent):\n",
      " |          _selfObjectName = \"_dr\"  # child should set this\n",
      " |          _objectsDict = { \"_cm\": \"lucColourMap\",\n",
      " |                           \"_dr\": None            }\n",
      " |                           \n",
      " |      Note that this example is for an abstract class ('Drawing'), so it does not define \n",
      " |      a type for '_dr', but instead defers to child classes to define the type of '_dr'.\n",
      " |      \n",
      " |      Args:\n",
      " |          objectsDictOverrule (dict): If provided, this will overwrite any objects \n",
      " |                                      in the class level _objectDicts. Useful for\n",
      " |                                      programatically modifying behaviour.\n",
      " |          \n",
      " |      \n",
      " |      Returns:\n",
      " |          New created instance of child class.\n",
      " |  \n",
      " |  ----------------------------------------------------------------------\n",
      " |  Data and other attributes inherited from underworld._stgermain.StgCompoundComponent:\n",
      " |  \n",
      " |  __metaclass__ = <class 'underworld._stgermain._SetupClass'>\n",
      " |      This metaclass allows us to invoke a _setup method after the the __init__ method.\n",
      " |      Borrowed from:\n",
      " |      http://stackoverflow.com/questions/22261763/in-python-is-it-possible-to-write-a-method-that-will-be-automatically-called-aft\n",
      " |  \n",
      " |  ----------------------------------------------------------------------\n",
      " |  Methods inherited from underworld._stgermain.StgClass:\n",
      " |  \n",
      " |  __del__(self)\n",
      " |  \n",
      " |  ----------------------------------------------------------------------\n",
      " |  Data descriptors inherited from underworld._stgermain.LeftOverParamsChecker:\n",
      " |  \n",
      " |  __dict__\n",
      " |      dictionary for instance variables (if defined)\n",
      " |  \n",
      " |  __weakref__\n",
      " |      list of weak references to the object (if defined)\n",
      "\n"
     ]
    }
   ],
   "source": [
    "help(solver)"
   ]
  }
 ],
 "metadata": {
  "kernelspec": {
   "display_name": "Python 2",
   "language": "python",
   "name": "python2"
  },
  "language_info": {
   "codemirror_mode": {
    "name": "ipython",
    "version": 2
   },
   "file_extension": ".py",
   "mimetype": "text/x-python",
   "name": "python",
   "nbconvert_exporter": "python",
   "pygments_lexer": "ipython2",
   "version": "2.7.10"
  }
 },
 "nbformat": 4,
 "nbformat_minor": 0
}

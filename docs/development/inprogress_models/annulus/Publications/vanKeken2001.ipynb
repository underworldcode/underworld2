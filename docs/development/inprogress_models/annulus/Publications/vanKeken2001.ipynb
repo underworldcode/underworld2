{
 "cells": [
  {
   "cell_type": "markdown",
   "metadata": {},
   "source": [
    "**Cylindrical Thermal Convection**\n",
    "\n",
    "- Compared to *Cylindrical scaling for dynamical cooling models of the Earth* (van Keken, 2001).\n",
    "- van Keken measured diagnostic model outputs (velocities and heat-flow), which we can make comparisons to.\n",
    "- The cylindrical model of van Keken is reproduced by using inner and outer radii of 0.4292 and 1.4292 respectively. Comparisons are made for $Ra = 10^5$.\n",
    "\n",
    "**Limitations:** The models of van Keken have free-slip walls, whereas the following are no-slip. They also have a shear-heating term. However, approximate comparisons of the diagnostic quantities is still useful.\n"
   ]
  },
  {
   "cell_type": "code",
   "execution_count": null,
   "metadata": {
    "collapsed": false
   },
   "outputs": [],
   "source": [
    "import underworld as uw\n",
    "import glucifer\n",
    "import numpy as np\n",
    "from underworld import function as fn\n",
    "uw.matplotlib_inline()\n",
    "import math"
   ]
  },
  {
   "cell_type": "code",
   "execution_count": null,
   "metadata": {
    "collapsed": true
   },
   "outputs": [],
   "source": [
    "import matplotlib.pyplot as plt\n",
    "plt.ion()"
   ]
  },
  {
   "cell_type": "code",
   "execution_count": null,
   "metadata": {
    "collapsed": true
   },
   "outputs": [],
   "source": [
    "# Whether or not to load the existing temperature field\n",
    "loaddata = True"
   ]
  },
  {
   "cell_type": "code",
   "execution_count": null,
   "metadata": {
    "collapsed": false
   },
   "outputs": [],
   "source": [
    "annulus = uw.mesh._FeMesh_Annulus(elementRes=(32,64), \n",
    "                                  radialLengths=(0.4292,1.4292), angularExtent=(0.,360.),\n",
    "                                  periodic = [False, True])\n",
    "\n",
    "\n",
    "tField = uw.mesh.MeshVariable(annulus, nodeDofCount=1)\n",
    "vField = uw.mesh.MeshVariable(annulus, nodeDofCount=2)\n",
    "pField = uw.mesh.MeshVariable(annulus.subMesh, nodeDofCount=1)"
   ]
  },
  {
   "cell_type": "code",
   "execution_count": null,
   "metadata": {
    "collapsed": true
   },
   "outputs": [],
   "source": [
    "Ra = 1e5"
   ]
  },
  {
   "cell_type": "code",
   "execution_count": null,
   "metadata": {
    "collapsed": false
   },
   "outputs": [],
   "source": [
    "fig = glucifer.Figure()\n",
    "fig.append(glucifer.objects.Mesh(annulus, segmentsPerEdge=1))\n",
    "fig.append(glucifer.objects.Surface(annulus, tField, onMesh=True ))\n",
    "fig.show()"
   ]
  },
  {
   "cell_type": "code",
   "execution_count": null,
   "metadata": {
    "collapsed": true
   },
   "outputs": [],
   "source": [
    "jWalls = annulus.specialSets[\"MinJ_VertexSet\"] + annulus.specialSets[\"MaxJ_VertexSet\"]"
   ]
  },
  {
   "cell_type": "code",
   "execution_count": null,
   "metadata": {
    "collapsed": false
   },
   "outputs": [],
   "source": [
    "t_outer = 0.0\n",
    "t_inner = 1.0\n",
    "\n",
    "outer = annulus.specialSets[\"MaxI_VertexSet\"]\n",
    "inner = annulus.specialSets[\"MinI_VertexSet\"]\n"
   ]
  },
  {
   "cell_type": "code",
   "execution_count": null,
   "metadata": {
    "collapsed": false
   },
   "outputs": [],
   "source": [
    "\n",
    "# setup parameters for temperature distribution\n",
    "dr = annulus.radialLengths[1] - annulus.radialLengths[0]\n",
    "dT_dr = (t_outer-t_inner)/(dr)\n",
    "c0 = t_inner - dT_dr*annulus.radialLengths[0]\n",
    "\n",
    "# wavenumber for perturbation\n",
    "k = 3.5\n",
    "\n",
    "for ind,coord in enumerate(annulus.data):\n",
    "    r = np.sqrt(coord[0]**2 + coord[1]**2)\n",
    "    theta = np.arctan2(coord[1], coord[0])\n",
    "    \n",
    "    pert = 0.2 *np.sin(k*theta)\n",
    "    \n",
    "    t = r*dT_dr + c0\n",
    "    tField.data[ind] = min([max([0.,t + 1.*pert]),1])\n",
    "    \n",
    "tField.data[inner.data] = t_inner\n",
    "tField.data[outer.data] = t_outer\n",
    "    \n",
    "if loaddata:\n",
    "    tField.load('vanKeken2001data/temp.h5',interpolate=True)"
   ]
  },
  {
   "cell_type": "code",
   "execution_count": null,
   "metadata": {
    "collapsed": false
   },
   "outputs": [],
   "source": [
    "# A hacky  way to import data from a different resolution, as the loaddata interpolation\n",
    "# doesn't like the inner and outer surfaces of the cylindrical geometry\n",
    "\n",
    "importlowres = False\n",
    "\n",
    "if importlowres:\n",
    "    tempannulus = uw.mesh._FeMesh_Annulus(elementRes=(16,32), \n",
    "                                      radialLengths=(0.4292,1.4292), angularExtent=(0.,360.),\n",
    "                                      periodic = [False, True])\n",
    "    tempTfield = uw.mesh.MeshVariable(tempannulus, nodeDofCount=1)\n",
    "    tempTfield.load('temp.h5')\n",
    "\n",
    "    for node in range(annulus.nodesGlobal):\n",
    "        pos = annulus.data[node]\n",
    "        if node not in inner and node not in outer:\n",
    "            tField.data[node] = tempTfield.evaluate(tuple(pos))\n"
   ]
  },
  {
   "cell_type": "code",
   "execution_count": null,
   "metadata": {
    "collapsed": false
   },
   "outputs": [],
   "source": [
    "fig.show()"
   ]
  },
  {
   "cell_type": "code",
   "execution_count": null,
   "metadata": {
    "collapsed": true
   },
   "outputs": [],
   "source": [
    "vBC = uw.conditions.DirichletCondition( variable=vField, indexSetsPerDof=(inner+outer, inner+outer))\n",
    "tBC = uw.conditions.DirichletCondition( variable=tField, indexSetsPerDof=(inner+outer))"
   ]
  },
  {
   "cell_type": "code",
   "execution_count": null,
   "metadata": {
    "collapsed": false
   },
   "outputs": [],
   "source": [
    "tDotField = uw.mesh.MeshVariable(annulus, nodeDofCount=1)\n",
    "advDiffSLE = uw.systems.AdvectionDiffusion(tField, tDotField, vField, fn_diffusivity=1.0, conditions=tBC)"
   ]
  },
  {
   "cell_type": "code",
   "execution_count": null,
   "metadata": {
    "collapsed": false
   },
   "outputs": [],
   "source": [
    "g  = 1.0*annulus.fn_unitvec_radial()"
   ]
  },
  {
   "cell_type": "code",
   "execution_count": null,
   "metadata": {
    "collapsed": false
   },
   "outputs": [],
   "source": [
    "bodyForceFn = g * tField * Ra / (annulus.radialLengths[1]-annulus.radialLengths[0])"
   ]
  },
  {
   "cell_type": "code",
   "execution_count": null,
   "metadata": {
    "collapsed": false
   },
   "outputs": [],
   "source": [
    "stokesSLE = uw.systems.Stokes( vField, pField, fn_viscosity=1.0, fn_bodyforce=bodyForceFn, conditions=vBC)"
   ]
  },
  {
   "cell_type": "code",
   "execution_count": null,
   "metadata": {
    "collapsed": true
   },
   "outputs": [],
   "source": [
    "stokesSolver = uw.systems.Solver(stokesSLE)"
   ]
  },
  {
   "cell_type": "code",
   "execution_count": null,
   "metadata": {
    "collapsed": false
   },
   "outputs": [],
   "source": [
    "nS = 10\n",
    "arrT = np.zeros(nS)\n",
    "for i in range(nS):\n",
    "    stokesSolver.solve()\n",
    "\n",
    "\n",
    "    dt = advDiffSLE.get_max_dt()\n",
    "    advDiffSLE.integrate(dt)\n",
    "    \n",
    "    arrT[i] = np.average(tField.data[:])\n",
    "\n",
    "plt.plot(np.arange(nS),arrT)\n",
    "plt.ylim([0.25,0.5])\n",
    "plt.savefig('avtemp.pdf')\n"
   ]
  },
  {
   "cell_type": "code",
   "execution_count": null,
   "metadata": {
    "collapsed": false,
    "scrolled": true
   },
   "outputs": [],
   "source": [
    "figV = glucifer.Figure(**fig)\n",
    "figV.append(glucifer.objects.Surface(annulus, tField,onMesh=True))\n",
    "\n",
    "figV.append(glucifer.objects.VectorArrows(annulus, vField / Ra  * 100. , onMesh=True,arrowHead = 0.3))\n",
    "\n",
    "figV.show()\n",
    "figV.save_image('temperature.png')"
   ]
  },
  {
   "cell_type": "code",
   "execution_count": null,
   "metadata": {
    "collapsed": false
   },
   "outputs": [],
   "source": [
    "# Save data\n",
    "mH = annulus.save(\"vanKeken2001data/mesh.h5\")\n",
    "tF = tField.save('vanKeken2001data/temp.h5',mH)\n"
   ]
  },
  {
   "cell_type": "markdown",
   "metadata": {},
   "source": [
    "**Compare quantities from van Keken 2001**"
   ]
  },
  {
   "cell_type": "code",
   "execution_count": null,
   "metadata": {
    "collapsed": false
   },
   "outputs": [],
   "source": [
    "# Compared to van Keken 114.4\n",
    "vdotv = fn.math.dot(vField,vField)\n",
    "v2sum_integral  = uw.utils.Integral( mesh=annulus, fn=vdotv )\n",
    "volume_integral = uw.utils.Integral( mesh=annulus, fn=1. )\n",
    "tgrad = fn.math.dot(tField.fn_gradient,annulus.fn_unitvec_radial())\n"
   ]
  },
  {
   "cell_type": "code",
   "execution_count": null,
   "metadata": {
    "collapsed": false
   },
   "outputs": [],
   "source": [
    "vrms = np.sqrt(v2sum_integral.evaluate()) / volume_integral.evaluate()\n",
    "print(\"for Ra=1e5, van Keken measured a RMS velocity of 114.4\")\n",
    "print(\"Our v_rms is %.2f\" %vrms)"
   ]
  },
  {
   "cell_type": "code",
   "execution_count": null,
   "metadata": {
    "collapsed": false,
    "scrolled": true
   },
   "outputs": [],
   "source": [
    "\n",
    "vmax = np.max(vField.data[:])\n",
    "print(\"for Ra=1e5, van Keken measured a maximum velocity of 178.\")\n",
    "print(\"Our v_max is %.2f\" %vmax)\n"
   ]
  },
  {
   "cell_type": "code",
   "execution_count": null,
   "metadata": {
    "collapsed": false
   },
   "outputs": [],
   "source": [
    "tSurf_integral  = uw.utils.Integral( mesh=annulus, fn=tgrad, integrationType=\"surface\", surfaceIndexSet=outer )\n",
    "tSurf_av = -1. * tSurf_integral.evaluate()[0] / (2.*np.pi *annulus.radialLengths[1])\n",
    "\n",
    "print(\"for Ra=1e5, van Keken measured a inner average heat-flow of 3.72\")\n",
    "print(\"Our inner heat-flow is %.2f\" %tSurf_av)\n",
    "\n",
    "\n"
   ]
  },
  {
   "cell_type": "code",
   "execution_count": null,
   "metadata": {
    "collapsed": false
   },
   "outputs": [],
   "source": [
    "tSurf_integral  = uw.utils.Integral( mesh=annulus, fn=tgrad, integrationType=\"surface\", surfaceIndexSet=inner )\n",
    "tSurf_av = -1. * tSurf_integral.evaluate()[0] / (2.*np.pi *annulus.radialLengths[0])\n",
    "\n",
    "print(\"for Ra=1e5, van Keken measured an outer average heat-flow of 12.42\")\n",
    "print(\"Our outer heat-flow is %.2f\" %tSurf_av)"
   ]
  },
  {
   "cell_type": "markdown",
   "metadata": {
    "collapsed": true
   },
   "source": [
    "The largest inconsistency between the models is the $v_{rms}$, which is likely to be the result of our use of fixed inner and outer velocity BCs. The other measurements are close, especially given the difference in BC and the absence of shear heating in our models."
   ]
  }
 ],
 "metadata": {
  "kernelspec": {
   "display_name": "Python 2",
   "language": "python",
   "name": "python2"
  },
  "language_info": {
   "codemirror_mode": {
    "name": "ipython",
    "version": 2
   },
   "file_extension": ".py",
   "mimetype": "text/x-python",
   "name": "python",
   "nbconvert_exporter": "python",
   "pygments_lexer": "ipython2",
   "version": "2.7.11+"
  }
 },
 "nbformat": 4,
 "nbformat_minor": 0
}

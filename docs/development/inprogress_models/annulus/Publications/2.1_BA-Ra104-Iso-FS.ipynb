{
 "cells": [
  {
   "cell_type": "markdown",
   "metadata": {},
   "source": [
    "**Cylindrical Thermal Benchmark**"
   ]
  },
  {
   "cell_type": "code",
   "execution_count": null,
   "metadata": {},
   "outputs": [],
   "source": [
    "import underworld as uw\n",
    "import numpy as np\n",
    "from underworld import function as fn\n",
    "uw.matplotlib_inline()\n",
    "import glucifer"
   ]
  },
  {
   "cell_type": "code",
   "execution_count": null,
   "metadata": {},
   "outputs": [],
   "source": [
    "# Model parameters\n",
    "res_radial    = 40\n",
    "maxtimesteps  = 3\n",
    "outputPath    = 'cynbench_2.1_test/'\n",
    "\n",
    "# physical parameters\n",
    "Ra = 1e4\n",
    "Di = 0.\n",
    "t_outer = 0.0\n",
    "t_inner = 1.0\n",
    "t_s = 0.091\n",
    "r_min = 1.22\n",
    "r_max = 2.22\n",
    "f = r_min/r_max\n",
    "\n",
    "# radial position for a discretisation aspect ratio of 1.0 \n",
    "eq_aspect_r = r_min + 0.75*(r_max-r_min)\n",
    "\n",
    "res_angular = int(2 * np.pi * eq_aspect_r/(r_max-r_min) * res_radial)\n",
    "if res_angular % 2:\n",
    "    res_angular-=1\n",
    "\n",
    "# Whether or not to start from the previous temperature field\n",
    "loaddata = False\n",
    "load_temp_filename='cynbench_2.1_lowres/temperature-0.h5'\n",
    "load_tDot_filename='cynbench_2.1_lowres/tDot-0.h5'\n"
   ]
  },
  {
   "cell_type": "code",
   "execution_count": null,
   "metadata": {},
   "outputs": [],
   "source": [
    "res_angular"
   ]
  },
  {
   "cell_type": "code",
   "execution_count": null,
   "metadata": {},
   "outputs": [],
   "source": [
    "import matplotlib.pyplot as plt\n",
    "plt.ion()"
   ]
  },
  {
   "cell_type": "code",
   "execution_count": null,
   "metadata": {},
   "outputs": [],
   "source": [
    "# create checkpoint function\n",
    "def checkpoint( mesh, fieldDict, swarm, swarmDict, index,\n",
    "                meshName='mesh', swarmName='swarm', \n",
    "                prefix='./', enable_xdmf=True, with_deform_mesh=False):\n",
    "    import os\n",
    "    # Check the prefix is valid\n",
    "    if prefix is not None:\n",
    "        if not prefix.endswith('/'): prefix += '/' # add a backslash\n",
    "        if not os.path.exists(prefix) and uw.rank()==0:\n",
    "            print \"Creating directory: \",prefix \n",
    "            os.makedirs(prefix)\n",
    "        uw.barrier() \n",
    "            \n",
    "    if not isinstance(index, int):\n",
    "        raise TypeError(\"'index' is not of type int\")        \n",
    "    ii = str(index)\n",
    "    \n",
    "    # only is there's a mesh then check for fields to save\n",
    "    if mesh is not None:\n",
    "        \n",
    "        # Error check the mesh and fields\n",
    "        if not isinstance(mesh, uw.mesh.FeMesh):\n",
    "            raise TypeError(\"'mesh' is not of type uw.mesh.FeMesh\")\n",
    "        if not isinstance(fieldDict, dict):\n",
    "            raise TypeError(\"'fieldDict' is not of type dict\")\n",
    "        for key, value in fieldDict.iteritems():\n",
    "            if not isinstance( value, uw.mesh.MeshVariable ):\n",
    "                raise TypeError(\"'fieldDict' must contain uw.mesh.MeshVariable elements\")\n",
    "\n",
    "        # Save the mesh each call of checkpoint() if with_deform_mesh is enabled\n",
    "        if with_deform_mesh is True:\n",
    "            mh = mesh.save(prefix+meshName+\".h5\")\n",
    "        else:\n",
    "            # see if we have already saved the mesh. It only needs to be saved once\n",
    "            if not hasattr( checkpoint, 'mH' ):\n",
    "                checkpoint.mH = mesh.save(prefix+meshName+\".h5\")\n",
    "            mh = checkpoint.mH\n",
    "\n",
    "        # save xdmf files\n",
    "        for key,value in fieldDict.iteritems():\n",
    "            filename = prefix+key+'-'+ii\n",
    "            handle = value.save(filename+'.h5', mh)\n",
    "            if enable_xdmf: value.xdmf(filename, handle, key, mh, meshName)\n",
    "        \n",
    "    # is there a swarm\n",
    "    if swarm is not None:\n",
    "        \n",
    "        # Error check the swarms\n",
    "        if not isinstance(swarm, uw.swarm.Swarm):\n",
    "            raise TypeError(\"'swarm' is not of type uw.swarm.Swarm\")\n",
    "        if not isinstance(swarmDict, dict):\n",
    "            raise TypeError(\"'swarmDict' is not of type dict\")\n",
    "        for key, value in swarmDict.iteritems():\n",
    "            if not isinstance( value, uw.swarm.SwarmVariable ):\n",
    "                raise TypeError(\"'fieldDict' must contain uw.swarm.SwarmVariable elements\")\n",
    "        \n",
    "        # save xdmf files\n",
    "        sH = swarm.save(prefix+swarmName+\"-\"+ii+\".h5\")\n",
    "        for key,value in swarmDict.iteritems():\n",
    "            filename = prefix+key+'-'+ii\n",
    "            handle = value.save(filename+'.h5')\n",
    "            if enable_xdmf: value.xdmf(filename, handle, key, sH, swarmName)\n"
   ]
  },
  {
   "cell_type": "code",
   "execution_count": null,
   "metadata": {},
   "outputs": [],
   "source": [
    "annulus = uw.mesh._FeMesh_Annulus(elementRes=(res_radial,res_angular), \n",
    "                                  radialLengths=(r_min,r_max), angularExtent=(0.,360.),\n",
    "                                  periodic = [False, True])\n",
    "\n",
    "\n",
    "tField = uw.mesh.MeshVariable(annulus, nodeDofCount=1)\n",
    "tDotField = uw.mesh.MeshVariable(annulus, nodeDofCount=1)\n",
    "vField = uw.mesh.MeshVariable(annulus, nodeDofCount=2)\n",
    "pField = uw.mesh.MeshVariable(annulus.subMesh, nodeDofCount=1)"
   ]
  },
  {
   "cell_type": "code",
   "execution_count": null,
   "metadata": {},
   "outputs": [],
   "source": [
    "type(annulus)"
   ]
  },
  {
   "cell_type": "code",
   "execution_count": null,
   "metadata": {},
   "outputs": [],
   "source": [
    "animation = glucifer.Store('animation')\n",
    "scene = glucifer.Figure(store=animation, name=\"scene1\")\n",
    "# scene.append(glucifer.objects.Mesh(annulus))\n",
    "scene.append(glucifer.objects.Surface(mesh=annulus, fn=tField, onMesh=True))\n",
    "# scene.append(glucifer.objects.VectorArrows(annulus, vField, onMesh=True))\n",
    "scene.save()"
   ]
  },
  {
   "cell_type": "code",
   "execution_count": null,
   "metadata": {},
   "outputs": [],
   "source": [
    "outer = annulus.specialSets[\"MaxI_VertexSet\"]\n",
    "inner = annulus.specialSets[\"MinI_VertexSet\"]\n",
    "boundaryNodes = outer+inner"
   ]
  },
  {
   "cell_type": "code",
   "execution_count": null,
   "metadata": {},
   "outputs": [],
   "source": [
    "volume = uw.utils.Integral(fn=1., mesh=annulus)\n",
    "\n",
    "tField_integral = uw.utils.Integral(fn=tField, mesh=annulus)\n",
    "dT_dr           = fn.math.dot(tField.fn_gradient,annulus.fn_unitvec_radial())\n",
    "\n",
    "dT_dr_outer_integral  = uw.utils.Integral( mesh=annulus, fn=dT_dr, \n",
    "                                           integrationType=\"surface\", surfaceIndexSet=outer )\n",
    "\n",
    "dT_dr_inner_integral  = uw.utils.Integral( mesh=annulus, fn=dT_dr, \n",
    "                                           integrationType=\"surface\", surfaceIndexSet=inner )\n",
    "\n",
    "\n",
    "t_vol_arg = annulus.integrate(tField)[0] / annulus.integrate(1.)[0]\n",
    "Nu_t =   np.log(f)/(2.*np.pi*(1.-f)) * dT_dr_outer_integral.evaluate()[0]\n",
    "Nu_b = f*np.log(f)/(2.*np.pi*(1.-f)) * dT_dr_inner_integral.evaluate()[0]\n"
   ]
  },
  {
   "cell_type": "code",
   "execution_count": null,
   "metadata": {},
   "outputs": [],
   "source": [
    "# setup parameters for temperature distribution\n",
    "dr = annulus.radialLengths[1] - annulus.radialLengths[0]\n",
    "dT_dr = (t_outer-t_inner)/(dr)\n",
    "c0 = t_inner - dT_dr*annulus.radialLengths[0]\n",
    "\n",
    "# wavenumber for perturbation\n",
    "k = 4.0\n",
    "\n",
    "for ind,coord in enumerate(annulus.data):\n",
    "    r = np.sqrt(coord[0]**2 + coord[1]**2)\n",
    "    theta = np.arctan2(coord[1], coord[0])\n",
    "    \n",
    "    pert = 0.2 * np.cos(k*theta) # the perturbation drives convection\n",
    "    \n",
    "    t = r*dT_dr + c0\n",
    "    tField.data[ind] = min([max([0.,t + 1.*pert]),1])\n",
    "    \n",
    "tField.data[inner.data] = t_inner\n",
    "tField.data[outer.data] = t_outer\n",
    "\n",
    "if loaddata:\n",
    "    tField.load(load_temp_filename ,interpolate=True)\n",
    "    tDotField.load(load_tDot_filename, interpolate=True)"
   ]
  },
  {
   "cell_type": "code",
   "execution_count": null,
   "metadata": {},
   "outputs": [],
   "source": [
    "scene.show()"
   ]
  },
  {
   "cell_type": "code",
   "execution_count": null,
   "metadata": {},
   "outputs": [],
   "source": [
    "tBC = uw.conditions.DirichletCondition( variable=tField, indexSetsPerDof=(inner+outer))\n",
    "advDiffSLE = uw.systems.AdvectionDiffusion(tField, tDotField, vField, fn_diffusivity=1.0, conditions=tBC)"
   ]
  },
  {
   "cell_type": "code",
   "execution_count": null,
   "metadata": {},
   "outputs": [],
   "source": [
    "viscosityFn = 1.0\n",
    "bodyForceFn = tField * Ra * annulus.fn_unitvec_radial()\n",
    "vBC = uw.conditions.RotatedDirichletCondition( \n",
    "                                    variable        = vField,\n",
    "                                    indexSetsPerDof = (inner+outer, None),\n",
    "                                    basis_vectors   = (annulus.rot_vec_normal, annulus.rot_vec_tangent))"
   ]
  },
  {
   "cell_type": "code",
   "execution_count": null,
   "metadata": {},
   "outputs": [],
   "source": [
    "stokesSLE = uw.systems.Stokes(vField, pField, \n",
    "                              fn_viscosity=1.0, \n",
    "                              fn_bodyforce=bodyForceFn, \n",
    "                              conditions=vBC, \n",
    "                              _removeBCs=False)"
   ]
  },
  {
   "cell_type": "code",
   "execution_count": null,
   "metadata": {},
   "outputs": [],
   "source": [
    "def postSolve():\n",
    "    # remove null space\n",
    "    uw.libUnderworld.StgFEM.SolutionVector_RemoveVectorSpace(stokesSLE._velocitySol._cself, \n",
    "                                                             stokesSLE._vnsVec._cself)\n",
    "    # realign solution\n",
    "    uw.libUnderworld.Underworld.AXequalsX( stokesSLE._rot._cself,\n",
    "                                           stokesSLE._velocitySol._cself, False)"
   ]
  },
  {
   "cell_type": "code",
   "execution_count": null,
   "metadata": {},
   "outputs": [],
   "source": [
    "stokesSolver = uw.systems.Solver(stokesSLE)"
   ]
  },
  {
   "cell_type": "code",
   "execution_count": null,
   "metadata": {},
   "outputs": [],
   "source": [
    "# %%time\n",
    "\n",
    "# initialise running storage\n",
    "ts_t_vol_avg = []\n",
    "ts_Nu_t = []\n",
    "ts_Nu_b = []\n",
    "\n",
    "# fields to checkpoint\n",
    "fDict = {'velocity'   : vField,\n",
    "         'temperature': tField,\n",
    "         'tDot'       : tDotField}\n",
    "\n",
    "animation.step\n",
    "\n",
    "# controls for timesteping\n",
    "tOld = tField.copy()\n",
    "er=1.\n",
    "its=0\n",
    "\n",
    "# for i in range(nS):\n",
    "while er > 1e-5 and its < maxtimesteps:\n",
    "    tOld.data[:] = tField.data[:] # record old values\n",
    "    \n",
    "    vField.data[boundaryNodes.data] = [0.,0.]\n",
    "    stokesSolver.solve(callback_post_solve=postSolve)\n",
    "\n",
    "    dt = advDiffSLE.get_max_dt()\n",
    "    \n",
    "    # visualisation goes here\n",
    "#     scene.save()\n",
    "#     scene.step += 1\n",
    "    if its%50==0:\n",
    "        checkpoint(annulus, fDict, None, None, its, prefix=outputPath)\n",
    "    its+=1\n",
    "        \n",
    "    advDiffSLE.integrate(dt)\n",
    "\n",
    "    absErr = uw.utils._nps_2norm(tOld.data-tField.data)\n",
    "    magT   = uw.utils._nps_2norm(tOld.data)\n",
    "    er = absErr/magT              # calculate relative variation\n",
    "\n",
    "    t_vol_arg = annulus.integrate(tField)[0] / annulus.integrate(1.)[0]\n",
    "    Nu_t =   np.log(f)/(2.*np.pi*(1.-f)) * dT_dr_outer_integral.evaluate()[0]\n",
    "    Nu_b = f*np.log(f)/(2.*np.pi*(1.-f)) * dT_dr_inner_integral.evaluate()[0]\n",
    "    \n",
    "    ts_t_vol_avg.append(t_vol_arg)\n",
    "    ts_Nu_t.append(Nu_t)\n",
    "    ts_Nu_b.append(Nu_b)"
   ]
  },
  {
   "cell_type": "code",
   "execution_count": null,
   "metadata": {},
   "outputs": [],
   "source": [
    "if uw.rank() == 0:\n",
    "    stack = np.stack([np.array(ts_t_vol_avg), np.array(ts_Nu_t), np.array(ts_Nu_b)], axis=-1)\n",
    "    with open(outputPath+'/data.dat', 'w') as oFile:\n",
    "        np.savetxt(oFile , X=stack,\n",
    "                   header=\"<T>, Nu_t, Nu_b\",\n",
    "                   fmt=['%.3e','%.3e','%.3e']) \n",
    "        "
   ]
  }
 ],
 "metadata": {
  "kernelspec": {
   "display_name": "Python 2",
   "language": "python",
   "name": "python2"
  },
  "language_info": {
   "codemirror_mode": {
    "name": "ipython",
    "version": 2
   },
   "file_extension": ".py",
   "mimetype": "text/x-python",
   "name": "python",
   "nbconvert_exporter": "python",
   "pygments_lexer": "ipython2",
   "version": "2.7.13"
  }
 },
 "nbformat": 4,
 "nbformat_minor": 1
}

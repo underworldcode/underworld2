{
 "cells": [
  {
   "cell_type": "markdown",
   "metadata": {},
   "source": [
    "**Cylindrical Thermal Convection**\n",
    "\n",
    "Compared to *Effects of Curvature on Two-Dimensional Models of Mantle Convection: Cylindrical Polar Coordinates* (Jarvis, 1993)\n",
    "\n",
    "Jarvis found relationships for Nu and average temperature with the cylindrical mesh geometry, specifically the ratio of outer to inner radii, f.\n",
    "\n",
    "**Limitations:** The models of Jarvis have free outer and inner surfaces, whereas these are fixed in this model. Here, free surfaces are *approximated* by including low viscosity inner and outer layers. This results in a better agreement with Jarvis' models.\n"
   ]
  },
  {
   "cell_type": "code",
   "execution_count": null,
   "metadata": {
    "collapsed": true
   },
   "outputs": [],
   "source": [
    "# Whether or not to start from the previous temperature field\n",
    "loaddata = True"
   ]
  },
  {
   "cell_type": "code",
   "execution_count": null,
   "metadata": {
    "collapsed": false
   },
   "outputs": [],
   "source": [
    "import underworld as uw\n",
    "import glucifer\n",
    "import numpy as np\n",
    "from underworld import function as fn\n",
    "uw.matplotlib_inline()\n",
    "import math"
   ]
  },
  {
   "cell_type": "code",
   "execution_count": null,
   "metadata": {
    "collapsed": true
   },
   "outputs": [],
   "source": [
    "import matplotlib.pyplot as plt\n",
    "plt.ion()"
   ]
  },
  {
   "cell_type": "code",
   "execution_count": null,
   "metadata": {
    "collapsed": false
   },
   "outputs": [],
   "source": [
    "annulus = uw.mesh._FeMesh_Annulus(elementRes=(32,64), \n",
    "                                  radialLengths=(0.4292,1.4292), angularExtent=(0.,360.),\n",
    "                                  periodic = [False, True])\n",
    "\n",
    "\n",
    "tField = uw.mesh.MeshVariable(annulus, nodeDofCount=1)\n",
    "vField = uw.mesh.MeshVariable(annulus, nodeDofCount=2)\n",
    "pField = uw.mesh.MeshVariable(annulus.subMesh, nodeDofCount=1)"
   ]
  },
  {
   "cell_type": "code",
   "execution_count": null,
   "metadata": {
    "collapsed": true
   },
   "outputs": [],
   "source": [
    "Ra = 1e5"
   ]
  },
  {
   "cell_type": "code",
   "execution_count": null,
   "metadata": {
    "collapsed": false
   },
   "outputs": [],
   "source": [
    "fig = glucifer.Figure()\n",
    "fig.append(glucifer.objects.Mesh(annulus, segmentsPerEdge=1))\n",
    "fig.append(glucifer.objects.Surface(annulus, tField, onMesh=True ))\n",
    "fig.show()\n",
    "# fig.show()"
   ]
  },
  {
   "cell_type": "code",
   "execution_count": null,
   "metadata": {
    "collapsed": false
   },
   "outputs": [],
   "source": []
  },
  {
   "cell_type": "code",
   "execution_count": null,
   "metadata": {
    "collapsed": true
   },
   "outputs": [],
   "source": [
    "jWalls = annulus.specialSets[\"MinJ_VertexSet\"] + annulus.specialSets[\"MaxJ_VertexSet\"]"
   ]
  },
  {
   "cell_type": "code",
   "execution_count": null,
   "metadata": {
    "collapsed": false
   },
   "outputs": [],
   "source": [
    "t_outer = 0.0\n",
    "t_inner = 1.0\n",
    "\n",
    "\n",
    "\n",
    "outer = annulus.specialSets[\"MaxI_VertexSet\"]\n",
    "inner = annulus.specialSets[\"MinI_VertexSet\"]\n",
    "\n",
    "\n"
   ]
  },
  {
   "cell_type": "code",
   "execution_count": null,
   "metadata": {
    "collapsed": false
   },
   "outputs": [],
   "source": [
    "\n",
    "# setup parameters for temperature distribution\n",
    "dr = annulus.radialLengths[1] - annulus.radialLengths[0]\n",
    "dT_dr = (t_outer-t_inner)/(dr)\n",
    "c0 = t_inner - dT_dr*annulus.radialLengths[0]\n",
    "\n",
    "# wavenumber for perturbation\n",
    "k = 3.5\n",
    "\n",
    "for ind,coord in enumerate(annulus.data):\n",
    "    r = np.sqrt(coord[0]**2 + coord[1]**2)\n",
    "    theta = np.arctan2(coord[1], coord[0])\n",
    "    \n",
    "    pert = 0.2 *np.sin(k*theta)\n",
    "    \n",
    "    t = r*dT_dr + c0\n",
    "    tField.data[ind] = min([max([0.,t + 1.*pert]),1])\n",
    "    \n",
    "tField.data[inner.data] = t_inner\n",
    "tField.data[outer.data] = t_outer\n",
    "    \n",
    "if loaddata:\n",
    "    tField.load('Jarvis93_freesurf_data/temp.h5',interpolate=True)"
   ]
  },
  {
   "cell_type": "code",
   "execution_count": null,
   "metadata": {
    "collapsed": false
   },
   "outputs": [],
   "source": [
    "# A hacky  way to import data from a different resolution, as the loaddata interpolation\n",
    "# doesn't like the inner and outer surfaces of the cylindrical geometry\n",
    "\n",
    "\n",
    "importlowres = False\n",
    "\n",
    "if importlowres:\n",
    "    tempannulus = uw.mesh._FeMesh_Annulus(elementRes=(16,32), \n",
    "                                      radialLengths=(0.4292,1.4292), angularExtent=(0.,360.),\n",
    "                                      periodic = [False, True])\n",
    "    tempTfield = uw.mesh.MeshVariable(tempannulus, nodeDofCount=1)\n",
    "    tempTfield.load('Jarvis93_freesurf_data/temp.h5')\n",
    "\n",
    "    for node in range(annulus.nodesGlobal):\n",
    "        pos = annulus.data[node]\n",
    "        if node not in inner and node not in outer:\n",
    "            tField.data[node] = tempTfield.evaluate(tuple(pos))\n"
   ]
  },
  {
   "cell_type": "code",
   "execution_count": null,
   "metadata": {
    "collapsed": false
   },
   "outputs": [],
   "source": [
    "fig.show()"
   ]
  },
  {
   "cell_type": "code",
   "execution_count": null,
   "metadata": {
    "collapsed": true
   },
   "outputs": [],
   "source": [
    "vBC = uw.conditions.DirichletCondition( variable=vField, indexSetsPerDof=(inner+outer, inner+outer))\n",
    "tBC = uw.conditions.DirichletCondition( variable=tField, indexSetsPerDof=(inner+outer))"
   ]
  },
  {
   "cell_type": "code",
   "execution_count": null,
   "metadata": {
    "collapsed": false
   },
   "outputs": [],
   "source": [
    "tDotField = uw.mesh.MeshVariable(annulus, nodeDofCount=1)\n",
    "advDiffSLE = uw.systems.AdvectionDiffusion(tField, tDotField, vField, fn_diffusivity=1.0, conditions=tBC)"
   ]
  },
  {
   "cell_type": "code",
   "execution_count": null,
   "metadata": {
    "collapsed": false
   },
   "outputs": [],
   "source": [
    "g  = 1.0*annulus.fn_unitvec_radial()"
   ]
  },
  {
   "cell_type": "code",
   "execution_count": null,
   "metadata": {
    "collapsed": false
   },
   "outputs": [],
   "source": [
    "bodyForceFn = g * tField * Ra / (annulus.radialLengths[1]-annulus.radialLengths[0])"
   ]
  },
  {
   "cell_type": "code",
   "execution_count": null,
   "metadata": {
    "collapsed": false
   },
   "outputs": [],
   "source": [
    "# Low viscosity inner and outer layers\n",
    "yCoord = uw.function.input()\n",
    "rCoord = uw.function.math.dot(yCoord,yCoord)\n",
    "bL = 0.1\n",
    "wVisc = 1e-2\n",
    "viscMap = uw.function.branching.conditional([(rCoord <= (bL + annulus.radialLengths[0])**2., wVisc),\n",
    "                                            (rCoord >= (-bL + annulus.radialLengths[1])**2., wVisc),\n",
    "                                            (True, 1.)])"
   ]
  },
  {
   "cell_type": "code",
   "execution_count": null,
   "metadata": {
    "collapsed": false
   },
   "outputs": [],
   "source": [
    "stokesSLE = uw.systems.Stokes( vField, pField, fn_viscosity=viscMap, fn_bodyforce=bodyForceFn, conditions=vBC)"
   ]
  },
  {
   "cell_type": "code",
   "execution_count": null,
   "metadata": {
    "collapsed": true
   },
   "outputs": [],
   "source": [
    "stokesSolver = uw.systems.Solver(stokesSLE)"
   ]
  },
  {
   "cell_type": "code",
   "execution_count": null,
   "metadata": {
    "collapsed": false,
    "scrolled": true
   },
   "outputs": [],
   "source": [
    "nS = 10\n",
    "arrT = np.zeros(nS)\n",
    "for i in range(nS):\n",
    "    stokesSolver.solve()\n",
    "\n",
    "\n",
    "    dt = 0.5 * advDiffSLE.get_max_dt()\n",
    "    advDiffSLE.integrate(dt)\n",
    "    \n",
    "    arrT[i] = np.average(tField.data[:])\n",
    "\n",
    "plt.plot(np.arange(nS),arrT)\n",
    "plt.xlabel(\"Time Steps\")\n",
    "plt.ylabel(\"Average Temperature\")\n",
    "plt.ylim([0.25,0.5])\n",
    "plt.savefig('avtemp.pdf')\n"
   ]
  },
  {
   "cell_type": "markdown",
   "metadata": {},
   "source": [
    "**Compare quantities from Jarvis 1993**"
   ]
  },
  {
   "cell_type": "code",
   "execution_count": null,
   "metadata": {
    "collapsed": false
   },
   "outputs": [],
   "source": [
    "f = annulus.radialLengths[0] / annulus.radialLengths[1]\n",
    "TavPred = 1. / (1. + f**-0.75)\n",
    "\n",
    "print(\"For f=%.2f, Jarvis 93 predict t_av = %.3f\" %(f,TavPred) )\n",
    "print(\"Modelled t_av = %.3f\" %np.average(tField.data[:]))"
   ]
  },
  {
   "cell_type": "code",
   "execution_count": null,
   "metadata": {
    "collapsed": false
   },
   "outputs": [],
   "source": [
    "\n",
    "D = 2. * np.pi\n",
    "# Number of up-wellings\n",
    "n = 3\n",
    "# Aspect parameter, defined by Jarvis 93\n",
    "A =  (np.pi/2./n)*(1.+f)/(1.-f)\n",
    "print(\"Apect parameter used here is A=%.2f, compared to Jarvis A=1\" %A)\n",
    "print(\"For A=1 and f = 0.3, Jarvis found Nu=8.4  (This was approximately read from Fig. 7)\")\n",
    "\n"
   ]
  },
  {
   "cell_type": "code",
   "execution_count": null,
   "metadata": {
    "collapsed": false
   },
   "outputs": [],
   "source": [
    "tgrad = fn.math.dot(tField.fn_gradient,annulus.fn_unitvec_radial())\n",
    "tSurf_integral  = uw.utils.Integral( mesh=annulus, fn=tgrad, integrationType=\"surface\", surfaceIndexSet=outer )\n",
    "Nu = -1 * tSurf_integral.evaluate()[0] / (2.*np.pi *annulus.radialLengths[1])\n",
    "print(\"From our model, Nu = %.2f\" %Nu)"
   ]
  },
  {
   "cell_type": "markdown",
   "metadata": {},
   "source": [
    "The average temperatures is very close to that of Jarvis 1993. Our Nu is much close to theirs, compared to if the pseudo-free surface weak layers are absent. The agreement is likely to be better at higher resolutions."
   ]
  },
  {
   "cell_type": "code",
   "execution_count": null,
   "metadata": {
    "collapsed": false
   },
   "outputs": [],
   "source": [
    "fig.show()"
   ]
  },
  {
   "cell_type": "code",
   "execution_count": null,
   "metadata": {
    "collapsed": false,
    "scrolled": true
   },
   "outputs": [],
   "source": [
    "figV = glucifer.Figure(**fig)\n",
    "figV.append(glucifer.objects.Surface(annulus, tField,onMesh=True))\n",
    "\n",
    "figV.append(glucifer.objects.VectorArrows(annulus, vField / Ra  * 10. , onMesh=True,arrowHead = 0.3))\n",
    "\n",
    "figV.show()\n",
    "figV.save_image('temperature.png')"
   ]
  },
  {
   "cell_type": "code",
   "execution_count": null,
   "metadata": {
    "collapsed": false
   },
   "outputs": [],
   "source": [
    "# Save data for restart\n",
    "\n",
    "mH = annulus.save(\"Jarvis93_freesurf_data/mesh.h5\")\n",
    "tF = tField.save('Jarvis93_freesurf_data/temp.h5',mH)"
   ]
  }
 ],
 "metadata": {
  "kernelspec": {
   "display_name": "Python 2",
   "language": "python",
   "name": "python2"
  },
  "language_info": {
   "codemirror_mode": {
    "name": "ipython",
    "version": 2
   },
   "file_extension": ".py",
   "mimetype": "text/x-python",
   "name": "python",
   "nbconvert_exporter": "python",
   "pygments_lexer": "ipython2",
   "version": "2.7.11+"
  }
 },
 "nbformat": 4,
 "nbformat_minor": 0
}

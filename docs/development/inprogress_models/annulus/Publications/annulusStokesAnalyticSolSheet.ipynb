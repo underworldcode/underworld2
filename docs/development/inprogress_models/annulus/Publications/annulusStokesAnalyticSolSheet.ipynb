{
 "cells": [
  {
   "cell_type": "markdown",
   "metadata": {},
   "source": [
    "## Prototype of annulus analytic solution by Rhodri"
   ]
  },
  {
   "cell_type": "code",
   "execution_count": null,
   "metadata": {},
   "outputs": [],
   "source": [
    "import numpy\n",
    "from math import sqrt, atan2, cos, sin\n",
    "\n",
    "Ra = 1.                        # Ra\n",
    "R  = numpy.array([2.22, 1.22]) # Outer and inner radius:\n",
    "Rr = R[::-1]                   # Inverted:\n",
    "rp = R[1]+0.5                  # Radius of the anomaly - in this case, a delta function at a mid-mantle depth.\n",
    "n  = 8                         # Controls \"wavelength\" of perturbation in tangential direction:\n",
    "\n",
    "if n>1:\n",
    "    E = -Ra*rp**(-n)/(8*(n+1)) * \\\n",
    "            (Rr**(2*n+2)-rp**(2*n+2))/(R[0]**(2*n+2)-R[1]**(2*n+2))\n",
    "    F = -Ra*R**(2*n)*rp**(-n)/(8*(n-1)) * \\\n",
    "            (Rr**2*rp**(2*n)-Rr**(2*n)*rp**2)/(R[0]**2*R[1]**(2*n)-R[0]**(2*n)*R[1]**2)\n",
    "    C = -F/R**(2*n-2)\n",
    "    D = -E*R**(2*n+2)\n",
    "else:\n",
    "    raise NotImplemented()"
   ]
  },
  {
   "cell_type": "code",
   "execution_count": null,
   "metadata": {},
   "outputs": [],
   "source": [
    "R, Rr, rp, E, F, C, D"
   ]
  },
  {
   "cell_type": "code",
   "execution_count": null,
   "metadata": {},
   "outputs": [],
   "source": [
    "# Radial velocity:\n",
    "def u_r(r, theta):\n",
    "  dpsi_dtheta = n*cos(n*theta)*(C*r**n+D*r**(-n)+E*r**(n+2)+F*r**(-n+2))\n",
    "  return -dpsi_dtheta/r\n",
    "\n",
    "# Tangential velocity:\n",
    "def u_theta(r, theta):\n",
    "  dpsi_dr = sin(n*theta)*(C*n*r**(n-1) + D*-n*r**(-n-1) + E*(n+2)*r**(n+1) + F*(-n+2)*r**(-n+1))\n",
    "  return dpsi_dr\n",
    "\n",
    "# Function that retrieves the solution in Cartesian coordinates:\n",
    "def get_cartesian_solution(X, i):\n",
    "  # i==0: Above anomaly; i==1: Below anomaly (see associated .pdf)\n",
    "  r     = sqrt(X[0]**2+X[1]**2)\n",
    "  theta = atan2(X[1], X[0])\n",
    "  ur    = u_r(r,theta)[i]\n",
    "  ut    = u_theta(r,theta)[i]\n",
    "  return [ur*X[0]/r - ut*X[1]/r, ur*X[1]/r + ut*X[0]/r]"
   ]
  },
  {
   "cell_type": "code",
   "execution_count": null,
   "metadata": {},
   "outputs": [],
   "source": [
    "import underworld as uw\n",
    "from underworld import function as fn\n",
    "import glucifer\n",
    "import math\n",
    "import numpy as np"
   ]
  },
  {
   "cell_type": "code",
   "execution_count": null,
   "metadata": {},
   "outputs": [],
   "source": [
    "from unsupported import annulus"
   ]
  },
  {
   "cell_type": "code",
   "execution_count": null,
   "metadata": {},
   "outputs": [],
   "source": [
    "model = annulus.AnnulusConvection(elRes=(30, 300), outputPath='./output/')"
   ]
  },
  {
   "cell_type": "code",
   "execution_count": null,
   "metadata": {},
   "outputs": [],
   "source": [
    "model.parameter_setup(Ra=1., Di=0.0, viscosity_mode=0, eqn='EB')"
   ]
  },
  {
   "cell_type": "code",
   "execution_count": null,
   "metadata": {},
   "outputs": [],
   "source": [
    "model.checkpoint_fields['velocity'] = model.fields[\"velocity\"]"
   ]
  },
  {
   "cell_type": "code",
   "execution_count": null,
   "metadata": {},
   "outputs": [],
   "source": [
    "mesh = model.mesh\n",
    "tField = model.fields['temperature']"
   ]
  },
  {
   "cell_type": "code",
   "execution_count": null,
   "metadata": {},
   "outputs": [],
   "source": [
    "# element spacing h\n",
    "h_r = (mesh.maxCoord[0] - mesh.minCoord[0]) / mesh.elementRes[0]"
   ]
  },
  {
   "cell_type": "code",
   "execution_count": null,
   "metadata": {},
   "outputs": [],
   "source": [
    "h_r"
   ]
  },
  {
   "cell_type": "code",
   "execution_count": null,
   "metadata": {},
   "outputs": [],
   "source": [
    "def gaussian(x, mu, sig):\n",
    "    return np.exp(-np.power(x - mu, 2.) / (2 * np.power(sig, 2.)))"
   ]
  },
  {
   "cell_type": "code",
   "execution_count": null,
   "metadata": {},
   "outputs": [],
   "source": [
    "r = mesh.radialData[:,0].reshape(-1,1)\n",
    "t = np.pi/180.*mesh.radialData[:,1].reshape(-1,1)\n",
    "tField.data[:] = gaussian(r, 1.72, 0.034)*np.cos(8*t)"
   ]
  },
  {
   "cell_type": "code",
   "execution_count": null,
   "metadata": {},
   "outputs": [],
   "source": [
    "u_r(r[100], t[100])"
   ]
  },
  {
   "cell_type": "code",
   "execution_count": null,
   "metadata": {},
   "outputs": [],
   "source": [
    "# radialFn = fn.math.sqrt(fn.math.dot(fn.coord(), fn.coord()))\n",
    "# thetaFn = fn.math.atan2(fn.coord()[1], fn.coord()[0])"
   ]
  },
  {
   "cell_type": "code",
   "execution_count": null,
   "metadata": {},
   "outputs": [],
   "source": [
    " "
   ]
  },
  {
   "cell_type": "code",
   "execution_count": null,
   "metadata": {},
   "outputs": [],
   "source": [
    "stokes_system = model.system['stokes']"
   ]
  },
  {
   "cell_type": "code",
   "execution_count": null,
   "metadata": {},
   "outputs": [],
   "source": [
    "stokes_system.fn_bodyforce = -9.8*model.fn_force"
   ]
  },
  {
   "cell_type": "code",
   "execution_count": null,
   "metadata": {},
   "outputs": [],
   "source": [
    "fig = glucifer.Figure()\n",
    "fig.append(glucifer.objects.Surface(mesh, tField, onMesh=True))\n",
    "\n",
    "fig.append(glucifer.objects.Mesh(mesh))\n",
    "fig.show()"
   ]
  },
  {
   "cell_type": "code",
   "execution_count": null,
   "metadata": {},
   "outputs": [],
   "source": [
    "# model.initial_temperature_distribution(k=4)\n",
    "# load from hdf5 file\n",
    "# model.initial_temperature_distribution(h5file='annulus_output/temperature-100.h5')\n",
    "# model.fields['tDot'].load('annulus_output/tDot-100.h5', interpolate=True)\n",
    "# tField = model.fields['temperature']\n",
    "# tDot = model.fields['tDot']\n",
    "# tField.data[model.meshSets['outerNodes'].data] = 0.0\n",
    "# tField.data[model.meshSets['innerNodes'].data] = 1.0\n",
    "# tDot.data[model.meshSets['boundaryNodes'].data] = 0.0"
   ]
  },
  {
   "cell_type": "code",
   "execution_count": null,
   "metadata": {},
   "outputs": [],
   "source": [
    "# model.view.show()"
   ]
  },
  {
   "cell_type": "code",
   "execution_count": null,
   "metadata": {},
   "outputs": [],
   "source": [
    "model.simulate(maxtimesteps=1, visualiseEvery=1, checkpointEvery=1 )"
   ]
  },
  {
   "cell_type": "code",
   "execution_count": null,
   "metadata": {},
   "outputs": [],
   "source": [
    "# if uw.utils.is_kernel():\n",
    "#     vis = glucifer.lavavu.Viewer(database=model.animation.filename)\n",
    "#     vis.control.Panel()\n",
    "#     vis.control.ObjectList()\n",
    "# #     vis.control.TimeStepper()\n",
    "#     vis.control.show()"
   ]
  },
  {
   "cell_type": "code",
   "execution_count": null,
   "metadata": {},
   "outputs": [],
   "source": []
  }
 ],
 "metadata": {
  "kernelspec": {
   "display_name": "Python 2",
   "language": "python",
   "name": "python2"
  },
  "language_info": {
   "codemirror_mode": {
    "name": "ipython",
    "version": 2
   },
   "file_extension": ".py",
   "mimetype": "text/x-python",
   "name": "python",
   "nbconvert_exporter": "python",
   "pygments_lexer": "ipython2",
   "version": "2.7.13"
  }
 },
 "nbformat": 4,
 "nbformat_minor": 1
}

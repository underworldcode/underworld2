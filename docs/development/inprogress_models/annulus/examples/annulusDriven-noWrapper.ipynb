{
 "cells": [
  {
   "cell_type": "markdown",
   "metadata": {},
   "source": [
    "## Lid Driven stokes flow in an annulus (driven + freeslip)\n",
    "\n",
    "Very raw model of a annulus geometry in Underworld.\n",
    "\n",
    "How? A 2D rectangular finite element mesh is build with periodic boundary conditions on the short edges. The rectangel is then deformed into a annulus. The velocity DOFs on the boundary (inner and outer) surfaces to be prescribed by DirichletBCs in normal and tangential components ; the rest of the velocity DOFs remains in standard cartesian coordinates.\n",
    "\n",
    "This implementation uses elemental rotation matrices in the stiffess matrix and force vector construction to orient the DOF to be aligned, ie normal and tangential, to the boundary of the domain. Currently these rotations are only applied to the boundary DOF. \n",
    "Consequently the velocity solution immediately after the stokes solve is a mix of boundary condition aligned to normal & tangent direction, while all other (internal) DOF are prescribed in standard cartesian components. A re-rotation must take place."
   ]
  },
  {
   "cell_type": "code",
   "execution_count": null,
   "metadata": {
    "collapsed": true
   },
   "outputs": [],
   "source": [
    "import underworld as uw\n",
    "from underworld import function as fn\n",
    "import glucifer\n",
    "import math\n",
    "import numpy"
   ]
  },
  {
   "cell_type": "code",
   "execution_count": null,
   "metadata": {
    "collapsed": true
   },
   "outputs": [],
   "source": [
    "# Set simulation box size.\n",
    "boxHeight = 1.0\n",
    "boxLength = 2.0\n",
    "# Set the resolution.\n",
    "res = 2\n",
    "# Set min/max temperatures.\n",
    "tempMin = 0.0\n",
    "tempMax = 1.0\n",
    "\n",
    "# build annulus mesh - handles deforming a recangular mesh and applying periodic dofs\n",
    "mesh                = uw.mesh._FeMesh_Annulus(elementRes=(10,60), radialLengths=(4,6))\n",
    "\n",
    "velocityField       = uw.mesh.MeshVariable( mesh=mesh,         nodeDofCount=2 )\n",
    "tField              = uw.mesh.MeshVariable( mesh=mesh,         nodeDofCount=1 )\n",
    "pressureField       = uw.mesh.MeshVariable( mesh=mesh.subMesh, nodeDofCount=1 )\n",
    "vmag = fn.math.sqrt(fn.math.dot( velocityField, velocityField ))"
   ]
  },
  {
   "cell_type": "code",
   "execution_count": null,
   "metadata": {},
   "outputs": [],
   "source": [
    "basis=(mesh.rot_vec_normal, mesh.rot_vec_tangent)\n",
    "len(basis)==velocityField.nodeDofCount"
   ]
  },
  {
   "cell_type": "code",
   "execution_count": null,
   "metadata": {},
   "outputs": [],
   "source": [
    "velocityField.nodeDofCount"
   ]
  },
  {
   "cell_type": "code",
   "execution_count": null,
   "metadata": {
    "collapsed": true
   },
   "outputs": [],
   "source": [
    "# TODO: reuse only the vertex sets corresponding to the boundaries.\n",
    "lower = mesh.specialSets[\"MinI_VertexSet\"]\n",
    "upper = mesh.specialSets[\"MaxI_VertexSet\"]\n",
    "\n",
    "# (vx,vy) -> (vn,vt) (normal, tangential)\n",
    "velocityField.data[ upper.data ] = [0.0,10.0]\n",
    "# velocityField.data[ lower.data ] = [0.0,-6.0]\n",
    "velBC = uw.conditions.RotatedDirichletCondition( \n",
    "                                    variable        = velocityField,\n",
    "                                    indexSetsPerDof = (lower+upper, upper),\n",
    "                                    basis_vectors = (mesh.rot_vec_normal, mesh.rot_vec_tangent))\n"
   ]
  },
  {
   "cell_type": "code",
   "execution_count": null,
   "metadata": {},
   "outputs": [],
   "source": [
    "fig = glucifer.Figure()\n",
    "fig.append( glucifer.objects.Mesh( mesh ))\n",
    "# fig.append(glucifer.objects.VectorArrows(mesh, velocityField ))\n",
    "fig.append(glucifer.objects.Surface(mesh, vmag, onMesh=True  ))\n",
    "fig.show()"
   ]
  },
  {
   "cell_type": "code",
   "execution_count": null,
   "metadata": {
    "collapsed": true
   },
   "outputs": [],
   "source": [
    "stokesSLE = uw.systems.Stokes( velocityField = velocityField, \n",
    "                            pressureField = pressureField,\n",
    "                            conditions    = velBC,\n",
    "                            fn_viscosity  = viscosity, \n",
    "                            fn_bodyforce  = buoyancyFn,\n",
    "                            _removeBCs    = False)      # _removeBC is required\n",
    "solver = uw.systems.Solver( stokesSLE )"
   ]
  },
  {
   "cell_type": "code",
   "execution_count": null,
   "metadata": {
    "collapsed": true
   },
   "outputs": [],
   "source": [
    "# stokesSLE.redefineVelocityDirichletBC(fn_e1=mesh.rot_vec_normal, fn_e2=mesh.rot_vec_tangent)"
   ]
  },
  {
   "cell_type": "code",
   "execution_count": null,
   "metadata": {
    "collapsed": true
   },
   "outputs": [],
   "source": [
    "solver.solve() # results in velocity solution being mixed"
   ]
  },
  {
   "cell_type": "code",
   "execution_count": null,
   "metadata": {
    "collapsed": true
   },
   "outputs": [],
   "source": [
    "# re-rotate and unmix\n",
    "uw.libUnderworld.Underworld.AXequalsX( stokesSLE._rot._cself, stokesSLE._velocitySol._cself, False)"
   ]
  },
  {
   "cell_type": "code",
   "execution_count": null,
   "metadata": {
    "collapsed": true
   },
   "outputs": [],
   "source": [
    "fig = glucifer.Figure()\n",
    "# fig.append( glucifer.objects.Mesh( mesh ))\n",
    "fig.append(glucifer.objects.VectorArrows(mesh, velocityField/5. ))\n",
    "# fig.append(glucifer.objects.Surface(mesh, velocityField[1], onMesh=True  ))\n",
    "fig.show()"
   ]
  },
  {
   "cell_type": "code",
   "execution_count": null,
   "metadata": {
    "collapsed": true
   },
   "outputs": [],
   "source": [
    "# create checkpoint function\n",
    "def checkpoint( mesh, fieldDict, swarm, swarmDict, index,\n",
    "                meshName='mesh', swarmName='swarm', \n",
    "                prefix='./', enable_xdmf=True):\n",
    "    import os\n",
    "    # Check the prefix is valid\n",
    "    if prefix is not None:\n",
    "        if not prefix.endswith('/'): prefix += '/' # add a backslash\n",
    "        if not os.path.exists(prefix) and uw.rank()==0:\n",
    "            print \"Creating directory: \",prefix \n",
    "            os.makedirs(prefix)\n",
    "        uw.barrier() \n",
    "            \n",
    "    if not isinstance(index, int):\n",
    "        raise TypeError(\"'index' is not of type int\")        \n",
    "    ii = str(index)\n",
    "    \n",
    "    if mesh is not None:\n",
    "        \n",
    "        # Error check the mesh and fields\n",
    "        if not isinstance(mesh, uw.mesh.FeMesh):\n",
    "            raise TypeError(\"'mesh' is not of type uw.mesh.FeMesh\")\n",
    "        if not isinstance(fieldDict, dict):\n",
    "            raise TypeError(\"'fieldDict' is not of type dict\")\n",
    "        for key, value in fieldDict.iteritems():\n",
    "            if not isinstance( value, uw.mesh.MeshVariable ):\n",
    "                raise TypeError(\"'fieldDict' must contain uw.mesh.MeshVariable elements\")\n",
    "\n",
    "\n",
    "        # see if we have already saved the mesh. It only needs to be saved once\n",
    "        if not hasattr( checkpoint, 'mH' ):\n",
    "            checkpoint.mH = mesh.save(prefix+meshName+\".h5\")\n",
    "        mh = checkpoint.mH\n",
    "\n",
    "        for key,value in fieldDict.iteritems():\n",
    "            filename = prefix+key+'-'+ii\n",
    "            handle = value.save(filename+'.h5')\n",
    "            if enable_xdmf: value.xdmf(filename, handle, key, mh, meshName)\n",
    "        \n",
    "    # is there a swarm\n",
    "    if swarm is not None:\n",
    "        \n",
    "        # Error check the swarms\n",
    "        if not isinstance(swarm, uw.swarm.Swarm):\n",
    "            raise TypeError(\"'swarm' is not of type uw.swarm.Swarm\")\n",
    "        if not isinstance(swarmDict, dict):\n",
    "            raise TypeError(\"'swarmDict' is not of type dict\")\n",
    "        for key, value in swarmDict.iteritems():\n",
    "            if not isinstance( value, uw.swarm.SwarmVariable ):\n",
    "                raise TypeError(\"'fieldDict' must contain uw.swarm.SwarmVariable elements\")\n",
    "    \n",
    "        sH = swarm.save(prefix+swarmName+\"-\"+ii+\".h5\")\n",
    "        for key,value in swarmDict.iteritems():\n",
    "            filename = prefix+key+'-'+ii\n",
    "            handle = value.save(filename+'.h5')\n",
    "            if enable_xdmf: value.xdmf(filename, handle, key, sH, swarmName)\n"
   ]
  },
  {
   "cell_type": "code",
   "execution_count": null,
   "metadata": {
    "collapsed": true
   },
   "outputs": [],
   "source": [
    "# xdmf output\n",
    "fieldDict = {'velocity':velocityField}\n",
    "checkpoint(mesh, fieldDict, None, None, index=0, prefix='output')"
   ]
  },
  {
   "cell_type": "code",
   "execution_count": null,
   "metadata": {
    "collapsed": true
   },
   "outputs": [],
   "source": []
  }
 ],
 "metadata": {
  "kernelspec": {
   "display_name": "Python 2",
   "language": "python",
   "name": "python2"
  },
  "language_info": {
   "codemirror_mode": {
    "name": "ipython",
    "version": 2
   },
   "file_extension": ".py",
   "mimetype": "text/x-python",
   "name": "python",
   "nbconvert_exporter": "python",
   "pygments_lexer": "ipython2",
   "version": "2.7.13"
  }
 },
 "nbformat": 4,
 "nbformat_minor": 1
}

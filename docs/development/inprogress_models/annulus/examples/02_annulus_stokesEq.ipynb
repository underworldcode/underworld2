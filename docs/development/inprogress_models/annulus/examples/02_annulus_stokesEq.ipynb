{
 "cells": [
  {
   "cell_type": "markdown",
   "metadata": {},
   "source": [
    "## Demo of buoyancy driven stokes flow in an Annulus"
   ]
  },
  {
   "cell_type": "code",
   "execution_count": null,
   "metadata": {},
   "outputs": [],
   "source": [
    "import underworld as uw\n",
    "import glucifer\n",
    "import numpy as np\n",
    "from underworld import function as fn"
   ]
  },
  {
   "cell_type": "code",
   "execution_count": null,
   "metadata": {},
   "outputs": [],
   "source": [
    "annulus = uw.mesh._FeMesh_Annulus(elementRes=(20,120), \n",
    "                                  radialLengths=(2.0,4.), angularExtent=(0.0,360.0),\n",
    "                                  periodic = [False, True])\n",
    "tField = uw.mesh.MeshVariable(annulus, nodeDofCount=1)\n",
    "vField = uw.mesh.MeshVariable(annulus, nodeDofCount=2)\n",
    "pField = uw.mesh.MeshVariable(annulus.subMesh, nodeDofCount=1)"
   ]
  },
  {
   "cell_type": "code",
   "execution_count": null,
   "metadata": {},
   "outputs": [],
   "source": [
    "fig = glucifer.Figure()\n",
    "fig.append(glucifer.objects.Mesh(annulus, segmentsPerEdge=1))\n",
    "fig.append(glucifer.objects.Surface(annulus, tField, onMesh=True ))\n",
    "fig.show()"
   ]
  },
  {
   "cell_type": "code",
   "execution_count": null,
   "metadata": {},
   "outputs": [],
   "source": [
    "t_outer = 5.0\n",
    "t_inner = 10.0\n",
    "outer = annulus.specialSets[\"MaxI_VertexSet\"]\n",
    "inner = annulus.specialSets[\"MinI_VertexSet\"]\n",
    "\n",
    "tField.data[inner.data] = 10.0\n",
    "tField.data[outer.data] = 5.0\n",
    "\n",
    "# setup parameters for temperature distribution\n",
    "dr = annulus.radialLengths[1] - annulus.radialLengths[0]\n",
    "dT_dr = (t_outer-t_inner)/(dr)\n",
    "c0 = t_inner - dT_dr*annulus.radialLengths[0]\n",
    "# print c0, dT_dr\n",
    "\n",
    "# wavenumber for perturbation\n",
    "k = 4.\n",
    "\n",
    "for ind,coord in enumerate(annulus.data):\n",
    "    r = np.sqrt(coord[0]**2 + coord[1]**2)\n",
    "    theta = np.arctan2(coord[1], coord[0])\n",
    "    \n",
    "    pert = np.sin((r-2.)*np.pi/dr)*np.cos(k*theta)\n",
    "    \n",
    "    t = r*dT_dr + c0\n",
    "    tField.data[ind] = t + 1.*pert"
   ]
  },
  {
   "cell_type": "code",
   "execution_count": null,
   "metadata": {},
   "outputs": [],
   "source": [
    "fig.show()"
   ]
  },
  {
   "cell_type": "code",
   "execution_count": null,
   "metadata": {},
   "outputs": [],
   "source": [
    "vBC = uw.conditions.RotatedDirichletCondition( variable=vField, indexSetsPerDof=(inner+outer, None),\n",
    "                                             basis_vectors=(annulus.rot_vec_normal,annulus.rot_vec_tangent))\n",
    "tBC = uw.conditions.DirichletCondition( variable=tField, indexSetsPerDof=(inner+outer))"
   ]
  },
  {
   "cell_type": "code",
   "execution_count": null,
   "metadata": {},
   "outputs": [],
   "source": [
    "# tDotField = uw.mesh.MeshVariable(annulus, nodeDofCount=1)\n",
    "# advDiffSLE = uw.systems.AdvectionDiffusion(tField, tDotField, vField, fn_diffusivity=1.0, conditions=tBC)"
   ]
  },
  {
   "cell_type": "code",
   "execution_count": null,
   "metadata": {},
   "outputs": [],
   "source": [
    "z_hat  = -1.0*annulus.fn_unitvec_radial()\n",
    "Ra = 1e4"
   ]
  },
  {
   "cell_type": "code",
   "execution_count": null,
   "metadata": {},
   "outputs": [],
   "source": [
    "bodyForceFn = Ra * -1.*tField * z_hat"
   ]
  },
  {
   "cell_type": "code",
   "execution_count": null,
   "metadata": {},
   "outputs": [],
   "source": [
    "stokesSLE = uw.systems.Stokes( vField, pField, \n",
    "                               fn_viscosity=1.0, fn_bodyforce=bodyForceFn, \n",
    "                               conditions=vBC, _removeBCs=False)"
   ]
  },
  {
   "cell_type": "code",
   "execution_count": null,
   "metadata": {},
   "outputs": [],
   "source": [
    "stokesSolver = uw.systems.Solver(stokesSLE)"
   ]
  },
  {
   "cell_type": "code",
   "execution_count": null,
   "metadata": {},
   "outputs": [],
   "source": [
    "stokesSolver.solve()\n",
    "uw.libUnderworld.Underworld.AXequalsX( stokesSLE._rot._cself, stokesSLE._velocitySol._cself, False)"
   ]
  },
  {
   "cell_type": "code",
   "execution_count": null,
   "metadata": {},
   "outputs": [],
   "source": [
    "# setup analysis function\n",
    "vdotv = fn.math.dot(vField,vField)\n",
    "v2sum_integral  = uw.utils.Integral( mesh=annulus, fn=vdotv )\n",
    "volume_integral = uw.utils.Integral( mesh=annulus, fn=1. )\n",
    "velmag = fn.math.sqrt(vdotv)\n",
    "forcemag = fn.math.sqrt(fn.math.dot(bodyForceFn,bodyForceFn))"
   ]
  },
  {
   "cell_type": "code",
   "execution_count": null,
   "metadata": {},
   "outputs": [],
   "source": [
    "figV = glucifer.Figure(**fig)\n",
    "figV.append(glucifer.objects.Mesh(annulus, segmentsPerEdge=1))\n",
    "figV.append(glucifer.objects.Surface(annulus, tField, onMesh=True))\n",
    "figV.append(glucifer.objects.VectorArrows(annulus, vField/1e3))\n",
    "figV.show()"
   ]
  },
  {
   "cell_type": "code",
   "execution_count": null,
   "metadata": {},
   "outputs": [],
   "source": [
    "# create checkpoint function\n",
    "def checkpoint( mesh, fieldDict, swarm, swarmDict, index,\n",
    "                meshName='mesh', swarmName='swarm', \n",
    "                prefix='./', enable_xdmf=True):\n",
    "    import os\n",
    "    # Check the prefix is valid\n",
    "    if prefix is not None:\n",
    "        if not prefix.endswith('/'): prefix += '/' # add a backslash\n",
    "        if not os.path.exists(prefix) and uw.rank()==0:\n",
    "            print \"Creating directory: \",prefix \n",
    "            os.makedirs(prefix)\n",
    "        uw.barrier() \n",
    "            \n",
    "    if not isinstance(index, int):\n",
    "        raise TypeError(\"'index' is not of type int\")        \n",
    "    ii = str(index)\n",
    "    \n",
    "    if mesh is not None:\n",
    "        \n",
    "        # Error check the mesh and fields\n",
    "        if not isinstance(mesh, uw.mesh.FeMesh):\n",
    "            raise TypeError(\"'mesh' is not of type uw.mesh.FeMesh\")\n",
    "        if not isinstance(fieldDict, dict):\n",
    "            raise TypeError(\"'fieldDict' is not of type dict\")\n",
    "        for key, value in fieldDict.iteritems():\n",
    "            if not isinstance( value, uw.mesh.MeshVariable ):\n",
    "                raise TypeError(\"'fieldDict' must contain uw.mesh.MeshVariable elements\")\n",
    "\n",
    "\n",
    "        # see if we have already saved the mesh. It only needs to be saved once\n",
    "        if not hasattr( checkpoint, 'mH' ):\n",
    "            checkpoint.mH = mesh.save(prefix+meshName+\".h5\")\n",
    "        mh = checkpoint.mH\n",
    "\n",
    "        for key,value in fieldDict.iteritems():\n",
    "            filename = prefix+key+'-'+ii\n",
    "            handle = value.save(filename+'.h5')\n",
    "            if enable_xdmf: value.xdmf(filename, handle, key, mh, meshName)\n",
    "        \n",
    "    # is there a swarm\n",
    "    if swarm is not None:\n",
    "        \n",
    "        # Error check the swarms\n",
    "        if not isinstance(swarm, uw.swarm.Swarm):\n",
    "            raise TypeError(\"'swarm' is not of type uw.swarm.Swarm\")\n",
    "        if not isinstance(swarmDict, dict):\n",
    "            raise TypeError(\"'swarmDict' is not of type dict\")\n",
    "        for key, value in swarmDict.iteritems():\n",
    "            if not isinstance( value, uw.swarm.SwarmVariable ):\n",
    "                raise TypeError(\"'fieldDict' must contain uw.swarm.SwarmVariable elements\")\n",
    "    \n",
    "        sH = swarm.save(prefix+swarmName+\"-\"+ii+\".h5\")\n",
    "        for key,value in swarmDict.iteritems():\n",
    "            filename = prefix+key+'-'+ii\n",
    "            handle = value.save(filename+'.h5')\n",
    "            if enable_xdmf: value.xdmf(filename, handle, key, sH, swarmName)\n"
   ]
  },
  {
   "cell_type": "code",
   "execution_count": null,
   "metadata": {},
   "outputs": [],
   "source": [
    "# xdmf output\n",
    "fieldDict = {'velocity':vField,\n",
    "             'temperature':tField}\n",
    "checkpoint(annulus, fieldDict, None, None, index=0, prefix='output')"
   ]
  },
  {
   "cell_type": "code",
   "execution_count": null,
   "metadata": {},
   "outputs": [],
   "source": []
  }
 ],
 "metadata": {
  "kernelspec": {
   "display_name": "Python 2",
   "language": "python",
   "name": "python2"
  },
  "language_info": {
   "codemirror_mode": {
    "name": "ipython",
    "version": 2
   },
   "file_extension": ".py",
   "mimetype": "text/x-python",
   "name": "python",
   "nbconvert_exporter": "python",
   "pygments_lexer": "ipython2",
   "version": "2.7.13"
  }
 },
 "nbformat": 4,
 "nbformat_minor": 1
}

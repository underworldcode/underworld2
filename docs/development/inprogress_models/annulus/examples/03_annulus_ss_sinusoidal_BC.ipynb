{
 "cells": [
  {
   "cell_type": "markdown",
   "metadata": {},
   "source": [
    "## Demo 2 of steady state temperature diffusion in an Annulus"
   ]
  },
  {
   "cell_type": "code",
   "execution_count": null,
   "metadata": {},
   "outputs": [],
   "source": [
    "import underworld as uw\n",
    "import glucifer\n",
    "import numpy as np\n",
    "\n",
    "uw.matplotlib_inline()\n",
    "import matplotlib.pyplot as plt\n",
    "plt.ion()"
   ]
  },
  {
   "cell_type": "code",
   "execution_count": null,
   "metadata": {},
   "outputs": [],
   "source": [
    "annulus = uw.mesh._FeMesh_Annulus(elementRes=(20,100), radialLengths=(3.0,6.), angularExtent=(0.0,360.0))\n",
    "tField = uw.mesh.MeshVariable(annulus, nodeDofCount=1)"
   ]
  },
  {
   "cell_type": "code",
   "execution_count": null,
   "metadata": {},
   "outputs": [],
   "source": [
    "fig = glucifer.Figure()\n",
    "fig.append(glucifer.objects.Mesh(annulus))\n",
    "fig.append(glucifer.objects.Surface(annulus, tField, onMesh=True))"
   ]
  },
  {
   "cell_type": "code",
   "execution_count": null,
   "metadata": {},
   "outputs": [],
   "source": [
    "# Set inner temperature BC to follow a cosine function and the outer surface to zero\n",
    "\n",
    "outer = annulus.specialSets[\"MaxI_VertexSet\"]\n",
    "inner = annulus.specialSets[\"MinI_VertexSet\"]\n",
    "\n",
    "# Integer wave number\n",
    "n = 3\n",
    "# Min / Max Temperatures\n",
    "t1 = 5.\n",
    "t2 = 10.\n",
    "\n",
    "for node in inner.data:\n",
    "    theta = np.arctan(annulus.data[node][1] / annulus.data[node][0] )\n",
    "    if annulus.data[node][0] < 0.:\n",
    "        theta = np.pi - theta\n",
    "    tField.data[node] = t2 + 1. * np.cos(n * theta)\n",
    "\n",
    "tField.data[outer.data] = t1"
   ]
  },
  {
   "cell_type": "code",
   "execution_count": null,
   "metadata": {},
   "outputs": [],
   "source": [
    "tBC = uw.conditions.DirichletCondition( variable=tField, indexSetsPerDof=(inner+outer))"
   ]
  },
  {
   "cell_type": "code",
   "execution_count": null,
   "metadata": {},
   "outputs": [],
   "source": [
    "ssSLE = uw.systems.SteadyStateHeat(tField,fn_diffusivity=1.0, conditions=tBC)"
   ]
  },
  {
   "cell_type": "code",
   "execution_count": null,
   "metadata": {},
   "outputs": [],
   "source": [
    "ssSolver = uw.systems.Solver(ssSLE)"
   ]
  },
  {
   "cell_type": "code",
   "execution_count": null,
   "metadata": {},
   "outputs": [],
   "source": [
    "ssSolver.solve()"
   ]
  },
  {
   "cell_type": "code",
   "execution_count": null,
   "metadata": {},
   "outputs": [],
   "source": [
    "fig.show()"
   ]
  },
  {
   "cell_type": "code",
   "execution_count": null,
   "metadata": {},
   "outputs": [],
   "source": [
    "# Plot temperature as a function of angle, for a set of radii,\n",
    "# then compare to an analytic solution\n",
    " \n",
    "# Number of angles to plot\n",
    "nP = 100\n",
    "# Number of radii to plot\n",
    "nR = 5\n",
    "\n",
    "arrR = np.linspace(0.,annulus.radialLengths[1]*0.99-annulus.radialLengths[0],nP)\n",
    "arrT = np.zeros(nP)\n",
    "arrError = np.zeros(nP)\n",
    "arrErrorSum = np.zeros(nR)\n",
    "arrAnalytic = np.zeros(nP)\n",
    "arrTheta = np.linspace(0.,2.,nP) * np.pi\n",
    "\n",
    "# Parameters for the analytic solution\n",
    "r2 = annulus.radialLengths[0]\n",
    "r1 = annulus.radialLengths[1]\n",
    "c = r2**(-n) / (1-r1**(2*n)*r2**(-2*n))\n",
    "d = -c * r1**(2*n)\n",
    "\n",
    "for r in np.linspace(annulus.radialLengths[0],annulus.radialLengths[1]*0.99,nR):\n",
    "    if r == annulus.radialLengths[0]:\n",
    "        labelN = \"Numerical\"\n",
    "        labelA = \"Analytical\"\n",
    "    else:\n",
    "        labelN = None\n",
    "        labelA = None\n",
    "\n",
    "    for i in range(nP):\n",
    "        theta = arrTheta[i]\n",
    "        pos = tuple(np.array( [ np.cos(theta),np.sin(theta)]) * r)\n",
    "\n",
    "        t = tField.evaluate(pos)\n",
    "\n",
    "        unperturb = np.log(r / r1) / np.log(r2/r1) * (t2-t1) + t1\n",
    "        perturb = 1. * np.cos(n*theta)*(c * r **n + d * r ** (-n))\n",
    "\n",
    "        tAn =  unperturb + perturb\n",
    "         \n",
    "        arrT[i] = t\n",
    "        arrAnalytic[i] = tAn\n",
    "        arrError[i] = (t-tAn)**2.\n",
    "\n",
    "    print(\"RMS Error at r=%.2f is %.2e\" %(r,np.sqrt(np.sum(arrError))))\n",
    "    plt.plot(arrTheta,arrT,label=labelN)\n",
    "    \n",
    "    plotEvery = 4\n",
    "    plt.scatter(arrTheta[::plotEvery],arrAnalytic[::plotEvery],label=labelA)\n",
    "    \n",
    "plt.ylabel(\"Temperature\")\n",
    "plt.xlabel(\"Angle\")\n",
    "plt.ylim(2.5,11.5)\n",
    "plt.xlim(0,2.*np.pi)\n",
    "plt.legend(loc='best')"
   ]
  }
 ],
 "metadata": {
  "kernelspec": {
   "display_name": "Python 2",
   "language": "python",
   "name": "python2"
  },
  "language_info": {
   "codemirror_mode": {
    "name": "ipython",
    "version": 2
   },
   "file_extension": ".py",
   "mimetype": "text/x-python",
   "name": "python",
   "nbconvert_exporter": "python",
   "pygments_lexer": "ipython2",
   "version": "2.7.13"
  }
 },
 "nbformat": 4,
 "nbformat_minor": 1
}

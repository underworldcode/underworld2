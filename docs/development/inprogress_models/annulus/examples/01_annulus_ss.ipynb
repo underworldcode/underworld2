{
 "cells": [
  {
   "cell_type": "markdown",
   "metadata": {},
   "source": [
    "## Demo of steady state temperature diffusion in an annulus"
   ]
  },
  {
   "cell_type": "code",
   "execution_count": null,
   "metadata": {},
   "outputs": [],
   "source": [
    "import underworld as uw\n",
    "import glucifer\n",
    "import numpy as np\n",
    "\n",
    "uw.matplotlib_inline()\n",
    "import matplotlib.pyplot as plt\n",
    "plt.ion()"
   ]
  },
  {
   "cell_type": "code",
   "execution_count": null,
   "metadata": {},
   "outputs": [],
   "source": [
    "annulus = uw.mesh._FeMesh_Annulus(elementRes=(20,100), radialLengths=(3.0,6.), angularExtent=(0.0,360.0))\n",
    "tField = uw.mesh.MeshVariable(annulus, nodeDofCount=1)"
   ]
  },
  {
   "cell_type": "code",
   "execution_count": null,
   "metadata": {},
   "outputs": [],
   "source": [
    "fig = glucifer.Figure()\n",
    "fig.append(glucifer.objects.Mesh(annulus))\n",
    "fig.append(glucifer.objects.Surface(annulus, tField, onMesh=True))\n",
    "fig.show()"
   ]
  },
  {
   "cell_type": "code",
   "execution_count": null,
   "metadata": {},
   "outputs": [],
   "source": [
    "# fig.append(glucifer.objects.Mesh(annulus))\n",
    "# fig.append(glucifer.objects.Surface(annulus, tField, onMesh=True))\n",
    "fig.show()"
   ]
  },
  {
   "cell_type": "code",
   "execution_count": null,
   "metadata": {},
   "outputs": [],
   "source": [
    "outer = annulus.specialSets[\"MaxI_VertexSet\"]\n",
    "inner = annulus.specialSets[\"MinI_VertexSet\"]\n",
    "tMin = 5.0\n",
    "tMax = 10.0\n",
    "tField.data[inner.data] = tMax\n",
    "tField.data[outer.data] = tMin"
   ]
  },
  {
   "cell_type": "code",
   "execution_count": null,
   "metadata": {},
   "outputs": [],
   "source": [
    "tBC = uw.conditions.DirichletCondition( variable=tField, indexSetsPerDof=(inner+outer))"
   ]
  },
  {
   "cell_type": "code",
   "execution_count": null,
   "metadata": {},
   "outputs": [],
   "source": [
    "ssSLE = uw.systems.SteadyStateHeat(tField,fn_diffusivity=1.0, conditions=tBC)"
   ]
  },
  {
   "cell_type": "code",
   "execution_count": null,
   "metadata": {},
   "outputs": [],
   "source": [
    "ssSolver = uw.systems.Solver(ssSLE)"
   ]
  },
  {
   "cell_type": "code",
   "execution_count": null,
   "metadata": {},
   "outputs": [],
   "source": [
    "ssSolver.solve()"
   ]
  },
  {
   "cell_type": "code",
   "execution_count": null,
   "metadata": {},
   "outputs": [],
   "source": [
    "fig.show()"
   ]
  },
  {
   "cell_type": "code",
   "execution_count": null,
   "metadata": {},
   "outputs": [],
   "source": [
    "## Plot radial temperature and check against an analytic solution\n",
    "\n",
    "nP = 100\n",
    "# The 0.99 is required here as the mesh is not perfectly cylindrical\n",
    "arrR = np.linspace(annulus.radialLengths[0],annulus.radialLengths[1]*0.99,nP)\n",
    "                          \n",
    "arrT = np.zeros(nP)\n",
    "arrError = np.zeros(nP)\n",
    "arrAnalytic = np.zeros(nP)\n",
    "\n",
    "# Largest error at this angle (still not large)\n",
    "theta = np.pi / 2.\n",
    "\n",
    "for i in range(nP):\n",
    "    pos = tuple(np.array( [ np.cos(theta),np.sin(theta)]) * (arrR[i]))\n",
    "    t = tField.evaluate(pos)\n",
    "    tAn = np.log( (arrR[i])/annulus.radialLengths[0]) / np.log(annulus.radialLengths[1]/annulus.radialLengths[0]) * (tMin-tMax)  + tMax\n",
    "    \n",
    "    arrT[i] = t\n",
    "    arrAnalytic[i] = tAn\n",
    "    arrError[i] = abs(t-tAn)\n",
    "\n",
    "plotEvery = 9\n",
    "plt.scatter(arrAnalytic[::plotEvery],arrR[::plotEvery],label=\"Analytic\")\n",
    "\n",
    "plt.plot(arrT,arrR,label=\"Numerical\")\n",
    "plt.ylabel(\"Radial Distance\")\n",
    "plt.xlabel(\"Temperature\")\n",
    "plt.legend()"
   ]
  },
  {
   "cell_type": "code",
   "execution_count": null,
   "metadata": {},
   "outputs": [],
   "source": [
    "# Plot radial error, as a percentage of the max. temp difference\n",
    "plt.plot(arrError / (tMax-tMin) * 100.,arrR)\n",
    "plt.ylabel(\"Radial Distance\")\n",
    "plt.xlabel(\"Percentage Error\")"
   ]
  }
 ],
 "metadata": {
  "kernelspec": {
   "display_name": "Python 2",
   "language": "python",
   "name": "python2"
  },
  "language_info": {
   "codemirror_mode": {
    "name": "ipython",
    "version": 2
   },
   "file_extension": ".py",
   "mimetype": "text/x-python",
   "name": "python",
   "nbconvert_exporter": "python",
   "pygments_lexer": "ipython2",
   "version": "2.7.13"
  }
 },
 "nbformat": 4,
 "nbformat_minor": 1
}

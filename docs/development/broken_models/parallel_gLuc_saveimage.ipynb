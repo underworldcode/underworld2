{
 "cells": [
  {
   "cell_type": "code",
   "execution_count": null,
   "metadata": {
    "collapsed": false
   },
   "outputs": [],
   "source": [
    "import underworld as uw\n",
    "import glucifer"
   ]
  },
  {
   "cell_type": "markdown",
   "metadata": {},
   "source": [
    "Two issues:\n",
    "\n",
    "1. Both fail in parallel (more than 1 proc) with onMesh=True (for the glucifer.objects.Surface line).\n",
    "\n",
    "2. onMesh=False doesn't work for the cylindrical mesh (though it does for cartesian, including more than 1 proc). The error occurs because points are being evaluated outside of the domain, regardless of the number of cpus.\n"
   ]
  },
  {
   "cell_type": "code",
   "execution_count": null,
   "metadata": {
    "collapsed": false
   },
   "outputs": [],
   "source": [
    "# Cartesian\n",
    "annulus = uw.mesh.FeMesh_Cartesian( elementType = (\"Q1/dQ0\"), \n",
    "                                 elementRes  = (16, 16), \n",
    "                                 minCoord    = (0., 0.), \n",
    "                                 maxCoord    = (3., 1.))\n",
    "\n",
    "tField = uw.mesh.MeshVariable(annulus, nodeDofCount=1)\n",
    "tField.data[:] = uw.function.coord()[1].evaluate(annulus)\n",
    "fig = glucifer.Figure()\n",
    "fig.append(glucifer.objects.Surface(annulus, tField, onMesh=True))\n",
    "fig.save_image('mesh_cartesian.png')"
   ]
  },
  {
   "cell_type": "code",
   "execution_count": null,
   "metadata": {
    "collapsed": false
   },
   "outputs": [],
   "source": [
    "# Cylindrical\n",
    "annulus = uw.mesh._FeMesh_Annulus(elementRes=(32,32), \n",
    "                                  radialLengths =(0.4292,1.4292), angularExtent=(0,360),\n",
    "                                  periodic = [False, True])\n",
    "\n",
    "tField = uw.mesh.MeshVariable(annulus, nodeDofCount=1)\n",
    "tField.data[:] = uw.function.coord()[1].evaluate(annulus)\n",
    "fig = glucifer.Figure()\n",
    "fig.append(glucifer.objects.Surface(annulus, tField, onMesh=True))\n",
    "fig.save_image('mesh_cylindrical.png')"
   ]
  }
 ],
 "metadata": {
  "kernelspec": {
   "display_name": "Python 2",
   "language": "python",
   "name": "python2"
  },
  "language_info": {
   "codemirror_mode": {
    "name": "ipython",
    "version": 2
   },
   "file_extension": ".py",
   "mimetype": "text/x-python",
   "name": "python",
   "nbconvert_exporter": "python",
   "pygments_lexer": "ipython2",
   "version": "2.7.11"
  }
 },
 "nbformat": 4,
 "nbformat_minor": 0
}

{
 "cells": [
  {
   "cell_type": "markdown",
   "metadata": {},
   "source": [
    "## SolKx analytic solution with error analysis\n",
    "\n",
    "The SolKx analytic solution is run over a range of resolutions with the error (in velocity and pressure) measured at each configuration. The error convergence is analysed against the expected element type order."
   ]
  },
  {
   "cell_type": "code",
   "execution_count": 1,
   "metadata": {
    "collapsed": true
   },
   "outputs": [],
   "source": [
    "import underworld as uw\n",
    "import glucifer\n",
    "from underworld import function as fn\n",
    "import numpy as np"
   ]
  },
  {
   "cell_type": "code",
   "execution_count": 2,
   "metadata": {
    "collapsed": false
   },
   "outputs": [],
   "source": [
    "# SolKx object contains the analytic solution and parameter (ie, viscosity, density) profiles\n",
    "sol = fn.analytic.SolKx(B=10.0, nx=2.0, nz=4)"
   ]
  },
  {
   "cell_type": "code",
   "execution_count": 3,
   "metadata": {
    "collapsed": false
   },
   "outputs": [],
   "source": [
    "elTypeToUse = \"Q1/dQ0\"\n",
    "\n",
    "# expected order of convergence results for Q1/dQ0\n",
    "# velocity for Q1 -> 2nd order convergence\n",
    "# pressure is dQ0 -> 1st order convergence \n",
    "expected_order = np.array([1.9,1.9,0.9])\n",
    "\n",
    "# Resolutions to test against\n",
    "res = [(32,32), (64,64), (128,128), (256,256)]"
   ]
  },
  {
   "cell_type": "code",
   "execution_count": 4,
   "metadata": {
    "collapsed": false
   },
   "outputs": [],
   "source": [
    "def analyticMeasure( numeric, analytic, mesh ):\n",
    "    '''\n",
    "    Measure the integrated error between 2 MeshVariables (or uw.Functions) over the mesh\n",
    "    \n",
    "    Returns\n",
    "    -------\n",
    "    rel, err: ndarray, ndarray\n",
    "        Array representing the relative and absolute errors between the MeshVariables\n",
    "        The lengths are the number of components of the field\n",
    "    '''\n",
    "    \n",
    "    # functional description of L2 norm sums; error and magnitude\n",
    "    fn_err = fn.math.pow(numeric - analytic, 2.)\n",
    "    fn_norm = fn.math.pow(analytic, 2.)\n",
    "    \n",
    "    # perform L2 norm evaluation        \n",
    "    err = fn.math.sqrt(uw.utils.Integral( fn_err, mesh ).evaluate()).evaluate()[0]\n",
    "    norm = fn.math.sqrt(uw.utils.Integral( fn_norm, mesh ).evaluate()).evaluate()[0]\n",
    "    \n",
    "    # calculate relative error measures\n",
    "    rel = err / norm\n",
    "    \n",
    "    return rel, err"
   ]
  },
  {
   "cell_type": "code",
   "execution_count": 5,
   "metadata": {
    "collapsed": false
   },
   "outputs": [],
   "source": [
    "def analyticSol_SingleResolutionTest( sol, elType, resolution ):\n",
    "    \"\"\"\n",
    "    Test a FEM model against an analytic solution\n",
    "    \n",
    "    Parameters\n",
    "    ----------\n",
    "    sol : fn.analyic._SolBase\n",
    "        The python wrapped analyic solution.\n",
    "        \n",
    "    elType: string\n",
    "        The element type desired, as these equation solve stokes this must\n",
    "        describe a mesh/subMesh pair, eg 'Q1/dQ0'.\n",
    "    \n",
    "    resolution: integer tuple\n",
    "        The resolution of the mesh.\n",
    "    \"\"\"\n",
    "\n",
    "    # 'global' python vars are visible outside this function's scope\n",
    "    global mesh\n",
    "    global velocityField\n",
    "    global pressureField\n",
    "    global solver\n",
    "    \n",
    "    mesh = uw.mesh.FeMesh_Cartesian(elType, resolution, (0.,0.), (1.,1.))\n",
    "\n",
    "    velocityField = mesh.add_variable(2)\n",
    "    velocityField.data[:] = (0.,0.)\n",
    "    pressureField = mesh.subMesh.add_variable(1)\n",
    "    pressureField.data[:] = 0.\n",
    "\n",
    "    # currently not checking strain rate\n",
    "    # strainRate = fn.tensor.symmetric( velocityField.fn_gradient )\n",
    "    \n",
    "    # freeslip\n",
    "    IWalls = mesh.specialSets[\"MinI_VertexSet\"] + mesh.specialSets[\"MaxI_VertexSet\"]\n",
    "    JWalls = mesh.specialSets[\"MinJ_VertexSet\"] + mesh.specialSets[\"MaxJ_VertexSet\"]\n",
    "    freeslip = uw.conditions.DirichletCondition(velocityField, (IWalls, JWalls))\n",
    "\n",
    "    stokesSystem = uw.systems.Stokes(velocityField,pressureField,\n",
    "                                     sol.fn_viscosity,sol.fn_bodyforce,\n",
    "                                     conditions=[freeslip,])\n",
    "    #Run the BSSCR Solver\n",
    "    # # can optionally set penalty this way\n",
    "    solver=uw.systems.Solver(stokesSystem)\n",
    "    solver.options.scr.ksp_rtol=1e-9  # tolerance for the scr solve, default is 1e-5.\n",
    "    solver.options.A11.ksp_rtol=1e-5  # tolerance for the inv K approximation\n",
    "    solver.solve()\n",
    "    \n",
    "    v_err, abs_v_err = analyticMeasure( velocityField, sol.fn_velocity, mesh )\n",
    "    p_err, abs_p_err = analyticMeasure( pressureField, sol.fn_pressure, mesh )\n",
    "    \n",
    "    return v_err, p_err"
   ]
  },
  {
   "cell_type": "code",
   "execution_count": 6,
   "metadata": {
    "collapsed": false
   },
   "outputs": [],
   "source": [
    "# store the error measures\n",
    "vx = []\n",
    "vy = []\n",
    "p  = []\n",
    "\n",
    "ssize = len(res) # the number of samples\n",
    "\n",
    "for i in xrange(ssize):\n",
    "    test_err = analyticSol_SingleResolutionTest( sol, elTypeToUse, res[i])\n",
    "    \n",
    "    vx.append(test_err[0][0]) # get vx error\n",
    "    vy.append(test_err[0][1]) # get vy\n",
    "    p.append(test_err[1][0])  # get pressure"
   ]
  },
  {
   "cell_type": "code",
   "execution_count": 7,
   "metadata": {
    "collapsed": false
   },
   "outputs": [],
   "source": [
    "res_x = np.asarray( res )[:,0] # assume square resolutions"
   ]
  },
  {
   "cell_type": "code",
   "execution_count": 8,
   "metadata": {
    "collapsed": false
   },
   "outputs": [],
   "source": [
    "h = np.log(np.reciprocal(res_x.astype(float)))"
   ]
  },
  {
   "cell_type": "code",
   "execution_count": 9,
   "metadata": {
    "collapsed": true
   },
   "outputs": [],
   "source": [
    "A = np.vstack([h, np.ones(len(h))]).T"
   ]
  },
  {
   "cell_type": "code",
   "execution_count": 10,
   "metadata": {
    "collapsed": false
   },
   "outputs": [],
   "source": [
    "# take the log of all dependent variables\n",
    "yvx = np.log(vx)\n",
    "yvy = np.log(vy)\n",
    "yp  = np.log(p)"
   ]
  },
  {
   "cell_type": "code",
   "execution_count": 11,
   "metadata": {
    "collapsed": true
   },
   "outputs": [],
   "source": [
    "vxm, c = np.linalg.lstsq(A, yvx)[0]\n",
    "vym, c = np.linalg.lstsq(A, yvy)[0]\n",
    "pm, c = np.linalg.lstsq(A, yp)[0]"
   ]
  },
  {
   "cell_type": "code",
   "execution_count": 12,
   "metadata": {
    "collapsed": false
   },
   "outputs": [],
   "source": [
    "test = np.array([vxm, vym, pm])"
   ]
  },
  {
   "cell_type": "code",
   "execution_count": 13,
   "metadata": {
    "collapsed": false
   },
   "outputs": [],
   "source": [
    "if uw.rank()==0:\n",
    "    np.all(np.less(expected_order, test))\n",
    "\n",
    "    if not np.all(np.less(expected_order, test)):\n",
    "        raise RuntimeError(\"The numerical order of convergence is outside the error threshold.\"+\n",
    "        \"The Relative error found were \", test,\" the threshold is \", expected_order )  "
   ]
  },
  {
   "cell_type": "code",
   "execution_count": 14,
   "metadata": {
    "collapsed": false
   },
   "outputs": [
    {
     "data": {
      "image/png": "[encoded data removed]",
      "text/plain": [
       "<matplotlib.figure.Figure at 0x7f5dd9704390>"
      ]
     },
     "metadata": {},
     "output_type": "display_data"
    }
   ],
   "source": [
    "if uw.rank()==0:\n",
    "    uw.matplotlib_inline()\n",
    "    import matplotlib.pyplot as pyplot\n",
    "    import matplotlib.pylab as pylab\n",
    "    pyplot.plot(h, yvx, '*', label='vx', markersize=10)\n",
    "    pyplot.plot(h, yvy, '-', label='vy', markersize=10)\n",
    "    pyplot.plot(h, yp, 'o', label='p', markersize=10)\n",
    "    pyplot.legend(loc=2)\n",
    "    pyplot.title(\"Log graph of relative error (L2 norm) vs element width\")\n",
    "    pyplot.savefig(\"solCx\") if uw.nProcs() > 1 else pyplot.show()"
   ]
  },
  {
   "cell_type": "code",
   "execution_count": 15,
   "metadata": {
    "collapsed": true
   },
   "outputs": [],
   "source": [
    "# figViscosity = glucifer.Figure()\n",
    "# figForce = glucifer.Figure(**figViscosity)"
   ]
  },
  {
   "cell_type": "code",
   "execution_count": 16,
   "metadata": {
    "collapsed": false
   },
   "outputs": [],
   "source": [
    "# figViscosity.append( glucifer.objects.Surface(mesh, fn=sol.fn_viscosity, onMesh=True) )\n",
    "# figViscosity.append( glucifer.objects.Mesh(mesh))\n",
    "# figViscosity.show()\n",
    "# figForce.append( glucifer.objects.Surface(mesh, fn=sol.fn_bodyforce[1], onMesh=True) )\n",
    "# figForce.show()"
   ]
  },
  {
   "cell_type": "code",
   "execution_count": 17,
   "metadata": {
    "collapsed": false
   },
   "outputs": [],
   "source": [
    "# figSR = glucifer.Figure(**figViscosity)\n",
    "# figSR.append( glucifer.objects.Surface(mesh, fn=pressureField ) )\n",
    "# figSR.show()"
   ]
  }
 ],
 "metadata": {
  "kernelspec": {
   "display_name": "Python 2",
   "language": "python",
   "name": "python2"
  },
  "language_info": {
   "codemirror_mode": {
    "name": "ipython",
    "version": 2
   },
   "file_extension": ".py",
   "mimetype": "text/x-python",
   "name": "python",
   "nbconvert_exporter": "python",
   "pygments_lexer": "ipython2",
   "version": "2.7.11+"
  }
 },
 "nbformat": 4,
 "nbformat_minor": 0
}

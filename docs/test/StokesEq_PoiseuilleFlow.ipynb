{
 "cells": [
  {
   "cell_type": "markdown",
   "metadata": {
    "collapsed": true
   },
   "source": [
    "### Example of a 1D Channel driven flow\n",
    "\n",
    "Model Setup\n",
    "-----------\n",
    "\n",
    "2D, Stokes Equation with noslip BC at top and bottom boundary and a lateral pressure gradient driving the flow, a.k.a. Poiseuille Flow.\n",
    "\n",
    "\\\\[\n",
    "\\frac{\\partial \\tau}{\\partial y} = \\mu \\frac{\\partial^{2} \\mathbf{u}}{\\partial{y}^{2}} = \\frac{\\partial p}{\\partial x}\n",
    "\\\\]\n",
    "\n",
    "\\\\[\n",
    "\\nabla \\cdot \\mathbf{u} = 0\n",
    "\\\\]\n",
    "\n",
    "with $ x_{a} \\leqslant x \\leqslant x_{b} $ and $ 0.0 \\leqslant y \\leqslant h $\n",
    "\n",
    "Boundary conditions:\n",
    "\n",
    " * $\\mathbf{u}(x,y=h) = \\mathbf{u}(x,y=0) = \\left[0,0 \\right]$\n",
    " * $P(x_a) = P_a$\n",
    " * $P(x_b) = P_b $\n",
    "\n",
    "------\n",
    "\n",
    "A 1D solution in $y$-axis, described by\n",
    "\n",
    "$ \\mathbf{u}(x,y) =  \\left[ \\frac{1}{2 \\mu} \\frac{\\partial p }{\\partial x} ( y^{2} - h y ), 0.0 \\right]$"
   ]
  },
  {
   "cell_type": "markdown",
   "metadata": {},
   "source": [
    "We implement the above boundary conditions using:\n",
    " * a `DirichletCondition` object for $\\mathbf{u}(x,y=1) = \\mathbf{u}(x,y=0) = \\left[0,0 \\right]$\n",
    " * a `NeumannCondition` object for $P(x_a) = P_a$ & $P(x_b) = P_b $\n",
    "\n",
    "The `NeumannCondition` object, used with the `Stokes` object, defines a stress along a boundary such that:\n",
    "  * $ \\sigma_{ij} n_{j} = \\phi_{i} $ on $ \\Gamma_{\\phi} $\n",
    "\n",
    "  where  \n",
    "    * $n$ is the surface normal pointing outwards,\n",
    "    * $ \\sigma_{ij} = \\tau_{ij} - \\delta_{ij} P$ is the prescribed stress tensor, which is multiplied my $ n $ at $ \\Gamma_{\\phi} $ to produce $\\phi_{i}$, a surface traction on the given boundary."
   ]
  },
  {
   "cell_type": "code",
   "execution_count": null,
   "metadata": {},
   "outputs": [],
   "source": [
    "import underworld as uw\n",
    "from underworld import function as fn\n",
    "import glucifer\n",
    "import math\n",
    "import numpy as np\n",
    "\n",
    "# for machines without matplotlib #\n",
    "make_graphs = True\n",
    "try:\n",
    "    import matplotlib\n",
    "except ImportError:\n",
    "    make_graphs=False"
   ]
  },
  {
   "cell_type": "markdown",
   "metadata": {},
   "source": [
    "Setup parameters\n",
    "-----"
   ]
  },
  {
   "cell_type": "code",
   "execution_count": null,
   "metadata": {},
   "outputs": [],
   "source": [
    "# domain height\n",
    "h = 1.0\n",
    "# Set a constant viscosity.\n",
    "viscosity = 1.4\n",
    "\n",
    "# position of walls and associated pressure on walls\n",
    "xa = -1.0\n",
    "pa = 4.0\n",
    "\n",
    "xb = 1.0\n",
    "pb = 3.0"
   ]
  },
  {
   "cell_type": "code",
   "execution_count": null,
   "metadata": {},
   "outputs": [],
   "source": [
    "mesh = uw.mesh.FeMesh_Cartesian( elementType = (\"Q1/dQ0\"), \n",
    "                                 elementRes  = (128, 128), \n",
    "                                 minCoord    = (xa, 0.), \n",
    "                                 maxCoord    = (xb, h))\n",
    "\n",
    "velocityField   = mesh.add_variable(         nodeDofCount=2 )\n",
    "pressureField   = mesh.subMesh.add_variable( nodeDofCount=1 )\n",
    "appliedTractionField = mesh.add_variable(    nodeDofCount=2 )\n",
    "\n",
    "# initialise velocity, pressure field\n",
    "velocityField.data[:] = [0.,0.]\n",
    "pressureField.data[:] = 0."
   ]
  },
  {
   "cell_type": "code",
   "execution_count": null,
   "metadata": {},
   "outputs": [],
   "source": [
    "jWalls = mesh.specialSets[\"MinJ_VertexSet\"] + mesh.specialSets[\"MaxJ_VertexSet\"]\n",
    "iWalls = mesh.specialSets[\"MinI_VertexSet\"] + mesh.specialSets[\"MaxI_VertexSet\"]\n",
    "allWalls = iWalls + jWalls"
   ]
  },
  {
   "cell_type": "code",
   "execution_count": null,
   "metadata": {},
   "outputs": [],
   "source": [
    "vBC = uw.conditions.DirichletCondition( variable = velocityField, \n",
    "                                        indexSetsPerDof = (jWalls, allWalls) )\n",
    "\n",
    "dp_dx = (pb-pa)/(xb-xa)\n",
    "\n",
    "# This stress is multiplied by the wall normal to produce a traction force.\n",
    "#############\n",
    "# Remember total stress = deviatoric - isotropic. \n",
    "# Thus +pressure is a negative stress.\n",
    "#############\n",
    "\n",
    "# The left wall normal unit vector is (-1,0)\n",
    "# The right wall normal unit vector is (1,0)\n",
    "\n",
    "# (-press) * normal_j = surface_force\n",
    "appliedTractionField.data[mesh.specialSets[\"MinI_VertexSet\"].data] = (pa,0.0)\n",
    "\n",
    "appliedTractionField.data[mesh.specialSets[\"MaxI_VertexSet\"].data] = (-1*pb,0.0)\n",
    "\n",
    "nbc = uw.conditions.NeumannCondition( fn_flux=appliedTractionField, \n",
    "                                      variable=velocityField,\n",
    "                                      indexSetsPerDof=(iWalls, None) )\n",
    "print dp_dx"
   ]
  },
  {
   "cell_type": "code",
   "execution_count": null,
   "metadata": {},
   "outputs": [],
   "source": [
    "stokes = uw.systems.Stokes( velocityField = velocityField, \n",
    "                            pressureField = pressureField,\n",
    "                            conditions    = [vBC, nbc],\n",
    "                            fn_viscosity   = viscosity, \n",
    "                            fn_bodyforce   = 0.0 )\n",
    "\n",
    "solver = uw.systems.Solver( stokes )\n",
    "solver.solve()"
   ]
  },
  {
   "cell_type": "code",
   "execution_count": null,
   "metadata": {},
   "outputs": [],
   "source": [
    "fig = glucifer.Figure()\n",
    "velmagfield = uw.function.math.sqrt( uw.function.math.dot( velocityField, velocityField ) )\n",
    "fig.append( glucifer.objects.VectorArrows(mesh, velocityField, arrowHead=0.2, scaling=0.9) )\n",
    "# fig.append( glucifer.objects.Mesh(mesh) )\n",
    "fig.append( glucifer.objects.Surface( mesh, pressureField ) )\n",
    "fig.show()"
   ]
  },
  {
   "cell_type": "code",
   "execution_count": null,
   "metadata": {},
   "outputs": [],
   "source": [
    "ids = mesh.specialSets[\"MaxI_VertexSet\"]\n",
    "coords = mesh.data[ids.data] # xcoords\n",
    "V = velocityField.evaluate(ids)\n",
    "gradV = velocityField.fn_gradient.evaluate(ids)\n",
    "\n",
    "u = V[:,0] ; v = V[:,1]\n",
    "du_dx = gradV[:,0] ; du_dy = gradV[:,1]\n",
    "dv_dx = gradV[:,2] ; dv_dy = gradV[:,3]\n",
    "\n",
    "strainRate = fn.tensor.symmetric( velocityField.fn_gradient )\n",
    "devstress = 2.0 * viscosity * strainRate"
   ]
  },
  {
   "cell_type": "code",
   "execution_count": null,
   "metadata": {
    "collapsed": true
   },
   "outputs": [],
   "source": [
    "def exact_vx(y):\n",
    "    ana_u = 1.0 / (2.0 * viscosity)* dp_dx * (y**2 - h*y)\n",
    "    return ana_u\n",
    "\n",
    "def exact_shearSR(y):\n",
    "    shearSR = dp_dx / (2.0*viscosity) * (y - h/2 )\n",
    "    return shearSR"
   ]
  },
  {
   "cell_type": "code",
   "execution_count": null,
   "metadata": {},
   "outputs": [],
   "source": [
    "if make_graphs:\n",
    "    uw.matplotlib_inline()\n",
    "    import matplotlib.pyplot as pyplot\n",
    "    import matplotlib.pylab as pylab\n",
    "    pyplot.ion() # needed to ensure pure python jobs do now hang on show()\n",
    "\n",
    "    pylab.rcParams[ 'figure.figsize'] = 12, 6\n",
    "    pyplot.plot(coords[:,1], u, 'o', color = 'green', label='vx')\n",
    "    pyplot.plot(coords[:,1], v, 'o', color = 'red', label='vy')\n",
    "    big = np.linspace(0.0,h)\n",
    "    pyplot.plot(big, exact_vx(big), 'D', color = 'purple', label='exact_vx', markersize=2)\n",
    "    pyplot.legend()\n",
    "    pyplot.xlabel('y coords at x=xmax')\n",
    "    pyplot.ylabel('velocity')\n",
    "    pyplot.show()"
   ]
  },
  {
   "cell_type": "code",
   "execution_count": null,
   "metadata": {},
   "outputs": [],
   "source": [
    "ana_u = exact_vx(coords[:,1])\n",
    "\n",
    "abserr = uw.utils._nps_2norm(ana_u - u)\n",
    "mag = uw.utils._nps_2norm(ana_u)\n",
    "relerr = abserr / mag\n",
    "\n",
    "from mpi4py import MPI\n",
    "comm = MPI.COMM_WORLD\n",
    "\n",
    "\n",
    "if uw.rank() == 0:\n",
    "    threshold = 1.0e-4\n",
    "    print \"Relative error against analytic solution:\", relerr\n",
    "    if relerr > threshold:\n",
    "        raise RuntimeError(\"The numerical solution is outside the error threshold of the analytic solution.\" \\\n",
    "                           \"The Relative error was \", relerr,\" the threshold is \", threshold)"
   ]
  },
  {
   "cell_type": "code",
   "execution_count": null,
   "metadata": {},
   "outputs": [],
   "source": [
    "# Further analytics\n",
    "# pyplot.plot(coords[:,1], du_dy, 'o', color = 'purple', label='du_dy')\n",
    "# pyplot.plot(coords[:,1], du_dx, '+', color = 'black', label='du_dx')\n",
    "# pyplot.plot(coords[:,1], dv_dy, 'x', color = 'orange', label='dv_dy')\n",
    "# pyplot.plot(coords[:,1], dv_dx, '.', color = 'red', label='dv_dx')\n",
    "# pyplot.legend()\n",
    "# pyplot.xlabel('y coords at x=xmax')\n",
    "# pyplot.ylabel('velocity gradients')\n",
    "# pyplot.show()"
   ]
  },
  {
   "cell_type": "code",
   "execution_count": null,
   "metadata": {},
   "outputs": [],
   "source": [
    "# Further analytics\n",
    "# pyplot.plot(coords[:,1], sr, '-', label='exact_shearSR')\n",
    "# pyplot.plot(coords[:,1], strainRate.evaluate(ids)[:,2], 'o', color = 'purple', label='sr_shear')\n",
    "# pyplot.plot(coords[:,1], devstress.evaluate(ids)[:,2], '+', label='tau_shear')\n",
    "# pyplot.legend()\n",
    "# pyplot.xlabel('y coords at x=xmax')\n",
    "# pyplot.ylabel('strain rate')\n",
    "# pyplot.show()"
   ]
  }
 ],
 "metadata": {
  "kernelspec": {
   "display_name": "Python 2",
   "language": "python",
   "name": "python2"
  },
  "language_info": {
   "codemirror_mode": {
    "name": "ipython",
    "version": 2
   },
   "file_extension": ".py",
   "mimetype": "text/x-python",
   "name": "python",
   "nbconvert_exporter": "python",
   "pygments_lexer": "ipython2",
   "version": "2.7.13"
  }
 },
 "nbformat": 4,
 "nbformat_minor": 1
}

{
 "cells": [
  {
   "cell_type": "code",
   "execution_count": 1,
   "metadata": {},
   "outputs": [
    {
     "name": "stdout",
     "output_type": "stream",
     "text": [
      "loaded rc file /home/jovyan/workspace/codes/UWGeodynamics_use_with_docker/UWGeodynamics/uwgeo-data/uwgeodynamicsrc\n"
     ]
    }
   ],
   "source": [
    "from underworld import UWGeodynamics as GEO\n",
    "from UWGeodynamics import visualisation as vis"
   ]
  },
  {
   "cell_type": "code",
   "execution_count": 2,
   "metadata": {},
   "outputs": [],
   "source": [
    "u = GEO.UnitRegistry"
   ]
  },
  {
   "cell_type": "code",
   "execution_count": 3,
   "metadata": {},
   "outputs": [],
   "source": [
    "# Characteristic values of the system\n",
    "half_rate = (1.8 * u.centimeter / u.year).to(u.meter / u.second)\n",
    "model_length = 60e3 * u.meter\n",
    "model_height = 60e3 * u.meter\n",
    "bodyforce = (3300 * u.kilogram / u.metre**3 * 9.81 * u.meter / u.second**2)\n",
    "\n",
    "KL = model_length\n",
    "Kt = KL / half_rate\n",
    "KM = bodyforce * KL**2 * Kt**2\n",
    "\n",
    "GEO.scaling_coefficients[\"[length]\"] = KL\n",
    "GEO.scaling_coefficients[\"[time]\"] = Kt\n",
    "GEO.scaling_coefficients[\"[mass]\"] = KM"
   ]
  },
  {
   "cell_type": "code",
   "execution_count": 4,
   "metadata": {},
   "outputs": [],
   "source": [
    "Model = GEO.Model(elementRes=(16,16,16), \n",
    "                  minCoord=(-30 * u.kilometer, -30. * u.kilometer, -20 * u.kilometer),\n",
    "                  maxCoord=( 30 * u.kilometer, 30. * u.kilometer,  10 * u.kilometer), \n",
    "                  gravity=(0., 0., -9.81 * u.meter / u.second**2))"
   ]
  },
  {
   "cell_type": "code",
   "execution_count": 5,
   "metadata": {},
   "outputs": [],
   "source": [
    "Model.outputDir = \"1_21_3D_ColumnsTractionBottom\""
   ]
  },
  {
   "cell_type": "code",
   "execution_count": 6,
   "metadata": {},
   "outputs": [],
   "source": [
    "air = Model.add_material(name=\"air\", shape=GEO.shapes.Layer3D(top=Model.top, bottom=0.0))\n",
    "background = Model.add_material(name=\"background\", shape=GEO.shapes.Layer3D(top=air.bottom, bottom=Model.bottom))\n",
    "heavyColumn = Model.add_material(name=\"Heavy Column\", shape=GEO.shapes.Box(minX=-10.*u.kilometer,\n",
    "                                                                           maxX=10. * u.kilometer,\n",
    "                                                                           minY=-10. * u.kilometer,\n",
    "                                                                           maxY=10. * u.kilometer,\n",
    "                                                                           top=0, bottom=Model.bottom))"
   ]
  },
  {
   "cell_type": "code",
   "execution_count": null,
   "metadata": {},
   "outputs": [],
   "source": [
    "Fig = vis.Figure(resolution=(1200,600))\n",
    "Fig.Surface(Model.mesh, Model.projMaterialField, cullface=False, opacity=0.5)\n",
    "Fig.window()"
   ]
  },
  {
   "cell_type": "code",
   "execution_count": 8,
   "metadata": {},
   "outputs": [],
   "source": [
    "air.density =  0. * u.kilogram / u.metre**3\n",
    "background.density = 2700. * u.kilogram / u.metre**3\n",
    "heavyColumn.density = 3300. * u.kilogram / u.metre**3"
   ]
  },
  {
   "cell_type": "code",
   "execution_count": 9,
   "metadata": {},
   "outputs": [],
   "source": [
    "import numpy as np\n",
    "x = GEO.nd(-30 * u.kilometer)\n",
    "y = GEO.nd(-30 * u.kilometer)\n",
    "z = GEO.nd(-20 * u.kilometer)\n",
    "P = Model.lithostatic_pressureField.evaluate(np.array([[x,y,z]]))\n",
    "bottomPress = GEO.dimensionalise(P, u.megapascal)"
   ]
  },
  {
   "cell_type": "code",
   "execution_count": 10,
   "metadata": {},
   "outputs": [],
   "source": [
    "air.viscosity         = 1e19 * u.pascal * u.second\n",
    "background.viscosity  = 1e25 * u.pascal * u.second\n",
    "heavyColumn.viscosity = 1e25 * u.pascal * u.second"
   ]
  },
  {
   "cell_type": "code",
   "execution_count": 11,
   "metadata": {},
   "outputs": [
    {
     "data": {
      "text/plain": [
       "<underworld.conditions._conditions.NeumannCondition at 0x7f6beed9fba8>"
      ]
     },
     "execution_count": 11,
     "metadata": {},
     "output_type": "execute_result"
    }
   ],
   "source": [
    "Model.set_velocityBCs(left=[0.,0.,0.],\n",
    "                      right=[0.,0.,0.],\n",
    "                      front=[0., 0., 0.],\n",
    "                      back=[0., 0., 0.])\n",
    "\n",
    "Model.set_stressBCs(bottom=[0.,0., bottomPress])"
   ]
  },
  {
   "cell_type": "code",
   "execution_count": 12,
   "metadata": {},
   "outputs": [
    {
     "name": "stdout",
     "output_type": "stream",
     "text": [
      "Running with UWGeodynamics version 2.10.0-dev-71e6210(2.10-pre_release)\n",
      "Options:  -Q22_pc_type uw -ksp_type bsscr -pc_type none -ksp_k2_type NULL -rescale_equations False -remove_constant_pressure_null_space False -change_backsolve False -change_A11rhspresolve False -restore_K False -A11_ksp_type fgmres -A11_ksp_rtol 1e-06 -scr_ksp_type fgmres -scr_ksp_rtol 1e-05\n",
      "Step:     1 Model Time: 202.3 megayear dt: 202.3 megayear (2020-08-13 05:38:47)\n"
     ]
    },
    {
     "data": {
      "text/plain": [
       "1"
      ]
     },
     "execution_count": 12,
     "metadata": {},
     "output_type": "execute_result"
    }
   ],
   "source": [
    "Model.run_for(nstep=1)"
   ]
  }
 ],
 "metadata": {
  "kernelspec": {
   "display_name": "Python 3",
   "language": "python",
   "name": "python3"
  },
  "language_info": {
   "codemirror_mode": {
    "name": "ipython",
    "version": 3
   },
   "file_extension": ".py",
   "mimetype": "text/x-python",
   "name": "python",
   "nbconvert_exporter": "python",
   "pygments_lexer": "ipython3",
   "version": "3.7.3"
  }
 },
 "nbformat": 4,
 "nbformat_minor": 1
}

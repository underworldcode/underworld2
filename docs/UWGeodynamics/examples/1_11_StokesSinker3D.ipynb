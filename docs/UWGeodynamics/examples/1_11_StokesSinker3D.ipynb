{
 "cells": [
  {
   "cell_type": "markdown",
   "metadata": {},
   "source": [
    "# Stokes Sinker\n",
    "\n",
    "Demonstration example for setting up particle swarms with different material properties. This system consists of a dense, high viscosity sphere falling through a background lower density and viscosity fluid. "
   ]
  },
  {
   "cell_type": "code",
   "execution_count": 1,
   "metadata": {},
   "outputs": [
    {
     "name": "stdout",
     "output_type": "stream",
     "text": [
      "loaded rc file /home/jovyan/workspace/codes/UWGeodynamics_use_with_docker/UWGeodynamics/uwgeo-data/uwgeodynamicsrc\n"
     ]
    }
   ],
   "source": [
    "from underworld import UWGeodynamics as GEO\n",
    "from UWGeodynamics import visualisation as vis"
   ]
  },
  {
   "cell_type": "code",
   "execution_count": 2,
   "metadata": {},
   "outputs": [],
   "source": [
    "u = GEO.UnitRegistry"
   ]
  },
  {
   "cell_type": "code",
   "execution_count": 3,
   "metadata": {},
   "outputs": [],
   "source": [
    "velocity = 1.0 * u.centimeter / u.hour\n",
    "model_length = 2. * u.meter\n",
    "model_height = 1. * u.meter\n",
    "refViscosity = 1e6 * u.pascal * u.second\n",
    "bodyforce = 200 * u.kilogram / u.metre**3 * 9.81 * u.meter / u.second**2\n",
    "\n",
    "KL = model_height\n",
    "Kt = KL / velocity\n",
    "KM = bodyforce * KL**2 * Kt**2\n",
    "\n",
    "GEO.scaling_coefficients[\"[length]\"] = KL\n",
    "GEO.scaling_coefficients[\"[time]\"] = Kt\n",
    "GEO.scaling_coefficients[\"[mass]\"]= KM"
   ]
  },
  {
   "cell_type": "code",
   "execution_count": 4,
   "metadata": {},
   "outputs": [],
   "source": [
    "Model = GEO.Model(elementRes=(16, 16, 16), \n",
    "                  minCoord=(-1. * u.meter, -1. * u.meter, -50. * u.centimeter), \n",
    "                  maxCoord=(1. * u.meter, 1. * u.meter, 50. * u.centimeter),\n",
    "                  gravity =(0.0, 0.0, -9.81 * u.meter / u.second**2) )"
   ]
  },
  {
   "cell_type": "code",
   "execution_count": 5,
   "metadata": {},
   "outputs": [],
   "source": [
    "Model.outputDir = \"1_11_StokesSinker3D\""
   ]
  },
  {
   "cell_type": "code",
   "execution_count": 6,
   "metadata": {},
   "outputs": [],
   "source": [
    "lightMaterial = Model.add_material(name=\"Light\", shape=GEO.shapes.Layer3D(top=Model.top, bottom=Model.bottom))\n",
    "heavyMaterial = Model.add_material(name=\"Heavy\", shape=GEO.shapes.Sphere(center=(0., 0., 20.*u.centimetre), radius=20. * u.centimetre))"
   ]
  },
  {
   "cell_type": "code",
   "execution_count": 7,
   "metadata": {},
   "outputs": [],
   "source": [
    "lightMaterial.density = 10 * u.kilogram / u.metre**3\n",
    "heavyMaterial.density = 500 * u.kilogram / u.metre**3\n",
    "\n",
    "lightMaterial.viscosity = GEO.ConstantViscosity(1e6 * u.pascal * u.second)\n",
    "heavyMaterial.viscosity = GEO.ConstantViscosity(1e6 * u.pascal * u.second)"
   ]
  },
  {
   "cell_type": "code",
   "execution_count": 8,
   "metadata": {},
   "outputs": [
    {
     "data": {
      "text/plain": [
       "<underworld.conditions._conditions.DirichletCondition at 0x7fed93da3cc0>"
      ]
     },
     "execution_count": 8,
     "metadata": {},
     "output_type": "execute_result"
    }
   ],
   "source": [
    "Model.set_velocityBCs(left=[0, None, None],\n",
    "                      right=[0, None, None],\n",
    "                      top=[None, None, 0.],\n",
    "                      bottom=[None, None, 0], \n",
    "                      front=[None, 0., None],\n",
    "                      back=[None, 0., None])"
   ]
  },
  {
   "cell_type": "code",
   "execution_count": null,
   "metadata": {},
   "outputs": [],
   "source": [
    "Fig = vis.Figure(resolution=(1200,600))\n",
    "Fig.Surface(Model.mesh, Model.projMaterialField, cullface=False, opacity=0.5)\n",
    "Fig.window()"
   ]
  },
  {
   "cell_type": "code",
   "execution_count": 10,
   "metadata": {},
   "outputs": [],
   "source": [
    "Model.init_model()"
   ]
  },
  {
   "cell_type": "code",
   "execution_count": null,
   "metadata": {},
   "outputs": [],
   "source": [
    "Model.run_for(3.0 * u.hours, checkpoint_interval=0.1 * u.hours)"
   ]
  }
 ],
 "metadata": {
  "kernelspec": {
   "display_name": "Python 3",
   "language": "python",
   "name": "python3"
  },
  "language_info": {
   "codemirror_mode": {
    "name": "ipython",
    "version": 3
   },
   "file_extension": ".py",
   "mimetype": "text/x-python",
   "name": "python",
   "nbconvert_exporter": "python",
   "pygments_lexer": "ipython3",
   "version": "3.7.3"
  }
 },
 "nbformat": 4,
 "nbformat_minor": 2
}

{
 "cells": [
  {
   "cell_type": "markdown",
   "metadata": {},
   "source": [
    "# Pure Thermal Advection\n",
    "\n",
    "Romain Beucher, Peter Lovely\n",
    "\n",
    "This example illustrates the use of the Semi-Lagrangian Crank-Nicholson advection-diffusion method in a case of pure thermal advection.\n",
    "\n",
    "A column of material representing the lithosphere is extended. The material is advected vertically. \n",
    "\n",
    "We visually track the isotherm which corresponds to the interface between the crust and the mantle\n",
    "Diffusivity of the materials is set to be negligible so that the thermal field is advected with the material.\n",
    "The isotherm remains at the interface."
   ]
  },
  {
   "cell_type": "code",
   "execution_count": 1,
   "metadata": {
    "scrolled": true
   },
   "outputs": [
    {
     "name": "stdout",
     "output_type": "stream",
     "text": [
      "loaded rc file /home/jovyan/workspace/UWGeodynamics/uwgeo-data/uwgeodynamicsrc\n"
     ]
    }
   ],
   "source": [
    "from underworld import UWGeodynamics as GEO\n",
    "from UWGeodynamics import visualisation as vis"
   ]
  },
  {
   "cell_type": "code",
   "execution_count": 2,
   "metadata": {
    "scrolled": true
   },
   "outputs": [],
   "source": [
    "u = GEO.UnitRegistry"
   ]
  },
  {
   "cell_type": "markdown",
   "metadata": {},
   "source": [
    "## Scaling"
   ]
  },
  {
   "cell_type": "code",
   "execution_count": 3,
   "metadata": {
    "scrolled": true
   },
   "outputs": [],
   "source": [
    "half_rate = 1.8 * u.centimeter / u.year\n",
    "model_height = 120. * u.km\n",
    "surfaceTemp = 273.15 * u.degK\n",
    "baseModelTemp = 1603.15 * u.degK\n",
    "bodyforce = 3300 * u.kilogram / u.metre**3 * 9.81 * u.meter / u.second**2\n",
    "\n",
    "KL = model_height\n",
    "Kt = KL / half_rate\n",
    "KM = bodyforce * KL**2 * Kt**2\n",
    "KT = (baseModelTemp - surfaceTemp)\n",
    "\n",
    "GEO.scaling_coefficients[\"[length]\"] = KL\n",
    "GEO.scaling_coefficients[\"[time]\"] = Kt\n",
    "GEO.scaling_coefficients[\"[mass]\"]= KM\n",
    "GEO.scaling_coefficients[\"[temperature]\"] = KT"
   ]
  },
  {
   "cell_type": "markdown",
   "metadata": {},
   "source": [
    "# Geometry\n",
    " "
   ]
  },
  {
   "cell_type": "code",
   "execution_count": 4,
   "metadata": {
    "scrolled": true
   },
   "outputs": [],
   "source": [
    "Model = GEO.Model(elementRes=(8, 64), \n",
    "                  minCoord=(0. * u.kilometer, -110. * u.kilometer), \n",
    "                  maxCoord=(15. * u.kilometer, 10. * u.kilometer), \n",
    "                  gravity=(0.0, -9.81 * u.meter / u.second**2))"
   ]
  },
  {
   "cell_type": "markdown",
   "metadata": {},
   "source": [
    "## Set diffusivity to be negligible"
   ]
  },
  {
   "cell_type": "code",
   "execution_count": 5,
   "metadata": {
    "scrolled": true
   },
   "outputs": [],
   "source": [
    "Model.diffusivity = 1e-7 * u.metre**2 / u.second \n",
    "Model.capacity    = 1200. * u.joule / (u.kelvin * u.kilogram)"
   ]
  },
  {
   "cell_type": "code",
   "execution_count": 6,
   "metadata": {
    "scrolled": true
   },
   "outputs": [],
   "source": [
    "conductivity = Model.diffusivity * Model.capacity * 3200 * u.kilogram / u.metre**3"
   ]
  },
  {
   "cell_type": "code",
   "execution_count": 7,
   "metadata": {
    "scrolled": true
   },
   "outputs": [
    {
     "data": {
      "text/html": [
       "0.38399999999999995 watt/(kelvin meter)"
      ],
      "text/latex": [
       "$0.38399999999999995\\ \\frac{\\mathrm{watt}}{\\left(\\mathrm{kelvin} \\cdot \\mathrm{meter}\\right)}$"
      ],
      "text/plain": [
       "0.38399999999999995 <Unit('watt / kelvin / meter')>"
      ]
     },
     "execution_count": 7,
     "metadata": {},
     "output_type": "execute_result"
    }
   ],
   "source": [
    "conductivity.to(u.watt / u.m / u.kelvin)"
   ]
  },
  {
   "cell_type": "markdown",
   "metadata": {},
   "source": [
    "# Add some Materials"
   ]
  },
  {
   "cell_type": "code",
   "execution_count": 8,
   "metadata": {
    "scrolled": true
   },
   "outputs": [],
   "source": [
    "air = Model.add_material(name=\"Air\", shape=GEO.shapes.Layer(top=Model.top, bottom=0.0 * u.kilometer))\n",
    "uppercrust = Model.add_material(name=\"UpperCrust\", shape=GEO.shapes.Layer(top=air.bottom, bottom=-35.0*u.kilometer))\n",
    "mantle=Model.add_material(name=\"Mantle\", shape=GEO.shapes.Layer(top=uppercrust.bottom, bottom=-105.0 * u.kilometer))\n",
    "asthenosphere=Model.add_material(name=\"Asthenosphere\", shape=GEO.shapes.Layer(top=mantle.bottom, bottom=Model.bottom))"
   ]
  },
  {
   "cell_type": "markdown",
   "metadata": {},
   "source": [
    "Note, add beta to the density property definition if you wish to incorporate pressure dependency"
   ]
  },
  {
   "cell_type": "code",
   "execution_count": 9,
   "metadata": {
    "scrolled": true
   },
   "outputs": [],
   "source": [
    "air.density = 1. * u.kilogram / u.metre**3\n",
    "uppercrust.density = 2750. * u.kilogram / u.metre**3\n",
    "mantle.density=3300. * u.kilogram / u.meter**3\n",
    "asthenosphere.density=3300. * u.kilogram / u.meter**3"
   ]
  },
  {
   "cell_type": "markdown",
   "metadata": {},
   "source": [
    "# Passive Tracers"
   ]
  },
  {
   "cell_type": "code",
   "execution_count": 10,
   "metadata": {
    "scrolled": true
   },
   "outputs": [],
   "source": [
    "import numpy as np\n",
    "\n",
    "npoints = 100\n",
    "\n",
    "coords = np.ndarray((npoints, 2))\n",
    "coords[:, 0] = np.linspace(GEO.nd(Model.minCoord[0]), GEO.nd(Model.maxCoord[0]), npoints)\n",
    "coords[:, 1] = GEO.nd(uppercrust.top)\n",
    "\n",
    "Model.add_passive_tracers(name=\"Interface1\", vertices=coords)\n",
    "\n",
    "coords[:, 1] = GEO.nd(mantle.top)\n",
    "Model.add_passive_tracers(name=\"Interface2\", vertices=coords)"
   ]
  },
  {
   "cell_type": "markdown",
   "metadata": {},
   "source": [
    "# Define Viscosities\n",
    "\n",
    "The rheology library contains some commonly used rheologies stored in a python dictionary structure. We can list the keys defining the rheologies as follows:"
   ]
  },
  {
   "cell_type": "markdown",
   "metadata": {},
   "source": [
    "Viscosities are defined below.  the multipliers are applied to the entire power-law.  "
   ]
  },
  {
   "cell_type": "code",
   "execution_count": 11,
   "metadata": {
    "scrolled": true
   },
   "outputs": [],
   "source": [
    "air.viscosity                = 1e19 * u.pascal * u.second\n",
    "uppercrust.viscosity         = 1e21 * u.pascal * u.second\n",
    "mantle.viscosity = 1e21 * u.pascal * u.second\n",
    "asthenosphere.viscosity = 1e21 * u.pascal * u.second"
   ]
  },
  {
   "cell_type": "markdown",
   "metadata": {},
   "source": [
    "## Temperature Boundary Conditions"
   ]
  },
  {
   "cell_type": "markdown",
   "metadata": {},
   "source": [
    "Temperature is defined below.  If you wish to assign a heat flow, just change the units to appropriate units of thermal flux and the code will recognize the intent and apply a Neumann BC if consistent with the assigned units."
   ]
  },
  {
   "cell_type": "code",
   "execution_count": 12,
   "metadata": {
    "scrolled": true
   },
   "outputs": [
    {
     "data": {
      "text/plain": [
       "<underworld.conditions._conditions.DirichletCondition at 0x7fb88e42e8d0>"
      ]
     },
     "execution_count": 12,
     "metadata": {},
     "output_type": "execute_result"
    }
   ],
   "source": [
    "Model.set_temperatureBCs(top=273.15 * u.degK, \n",
    "                         bottom=1603.15 * u.degK, \n",
    "                         materials=[(air, 273.15 * u.degK)])"
   ]
  },
  {
   "cell_type": "markdown",
   "metadata": {},
   "source": [
    "\n",
    "\n",
    "## Velocity Boundary Conditions\n",
    "first entry is horizontal dimension, second entry is vertical dimension.\n",
    "\n",
    "for a sandbox, bottom would be bottom=[None,0.0], instead of isostasy\n",
    "\n",
    "isostasy function needs to know the reference material (i.e. the material at the bottom of the model that will flow in/out of the domain).  average=True is recommended also, to maintain stability.  \n",
    "\n",
    "another option is to define a stress at the bottom.  e.g. bottom = [none,500*u.megapascal] and the code knows to apply a traction BC"
   ]
  },
  {
   "cell_type": "code",
   "execution_count": 13,
   "metadata": {
    "scrolled": true
   },
   "outputs": [
    {
     "data": {
      "text/plain": [
       "<underworld.conditions._conditions.DirichletCondition at 0x7fb88e0da1d0>"
      ]
     },
     "execution_count": 13,
     "metadata": {},
     "output_type": "execute_result"
    }
   ],
   "source": [
    "Model.set_velocityBCs(left=[-0.75 * u.centimeter / u.year, None],\n",
    "                       right=[0.75 * u.centimeter / u.year, None],\n",
    "                      bottom=GEO.LecodeIsostasy(reference_mat=asthenosphere, average=True))"
   ]
  },
  {
   "cell_type": "markdown",
   "metadata": {},
   "source": [
    "## Initialize the model\n",
    "The following cell initializes the steady state temperature field and lithostatic pressure field"
   ]
  },
  {
   "cell_type": "code",
   "execution_count": 14,
   "metadata": {
    "scrolled": true
   },
   "outputs": [],
   "source": [
    "Model.init_model(temperature=\"steady-state\")"
   ]
  },
  {
   "cell_type": "markdown",
   "metadata": {},
   "source": [
    "## Get the average temperature at the interface\n",
    "\n",
    "Here I use the interface2 passive tracers to extract the temperature value at the tracers locations. I take the mean and scale the result to degrees Kelvin."
   ]
  },
  {
   "cell_type": "code",
   "execution_count": 15,
   "metadata": {},
   "outputs": [
    {
     "data": {
      "text/html": [
       "716.4864725844412 kelvin"
      ],
      "text/latex": [
       "$716.4864725844412\\ \\mathrm{kelvin}$"
      ],
      "text/plain": [
       "716.48647258444123 <Unit('kelvin')>"
      ]
     },
     "execution_count": 15,
     "metadata": {},
     "output_type": "execute_result"
    }
   ],
   "source": [
    "GEO.dimensionalise(Model.temperature.evaluate(Model.Interface2_tracers).mean(), u.degK)"
   ]
  },
  {
   "cell_type": "markdown",
   "metadata": {},
   "source": [
    "# Plot Material Field and Isotherm"
   ]
  },
  {
   "cell_type": "code",
   "execution_count": 16,
   "metadata": {
    "scrolled": false
   },
   "outputs": [
    {
     "data": {
      "text/html": [
       "<img src='data:image/png;base64,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'>"
      ],
      "text/plain": [
       "<IPython.core.display.HTML object>"
      ]
     },
     "metadata": {},
     "output_type": "display_data"
    }
   ],
   "source": [
    "Fig = vis.Figure(figsize=(800,700), title=\"Material Field\", quality=2)\n",
    "surf = Fig.Surface(Model.mesh, Model.projMaterialField, fn_size=2.0, discrete=True, onMesh=False,resolution=500)\n",
    "surf.colourBar[\"align\"] = \"right\"\n",
    "surf.colourBar[\"position\"] = 0.\n",
    "surf.colourBar[\"size\"] = [0.9,0.02]\n",
    "Fig.Contours(Model.mesh, \n",
    "             Model.temperature, \n",
    "             interval=GEO.nd(716.* u.degK),\n",
    "             limits=(GEO.nd(716.*u.degK),\n",
    "                     GEO.nd(800.*u.degK)),\n",
    "             colourBar=False, colours=\"red\",\n",
    "             linewidth=5.0)\n",
    "Fig.show()"
   ]
  },
  {
   "cell_type": "code",
   "execution_count": 17,
   "metadata": {
    "scrolled": true
   },
   "outputs": [],
   "source": [
    "GEO.rcParams[\"initial.nonlinear.tolerance\"]=1e-2\n",
    "GEO.rcParams[\"advection.diffusion.method\"] = \"SLCN\""
   ]
  },
  {
   "cell_type": "code",
   "execution_count": 18,
   "metadata": {
    "scrolled": true
   },
   "outputs": [],
   "source": [
    "Model.solver.set_inner_method(\"mumps\")\n",
    "Model.solver.set_penalty(1e6)"
   ]
  },
  {
   "cell_type": "code",
   "execution_count": 19,
   "metadata": {
    "scrolled": true
   },
   "outputs": [
    {
     "name": "stdout",
     "output_type": "stream",
     "text": [
      "Running with UWGeodynamics version 2.8.1-dev-efa530e(development)\n",
      "Options:  -force_correction True -pc_type none -Q22_pc_type gkgdiag -change_A11rhspresolve False -rescale_equations False -ksp_type bsscr -restore_K False -ksp_k2_type NULL -remove_constant_pressure_null_space False -change_backsolve False -A11_pc_factor_mat_solver_package mumps -A11_pc_type lu -A11_ksp_type preonly -scr_ksp_rtol 1e-05 -scr_ksp_type fgmres -A11_mg_active False\n"
     ]
    },
    {
     "name": "stderr",
     "output_type": "stream",
     "text": [
      "/usr/local/underworld2/lib/underworld/systems/_advectiondiffusion.py:80: UserWarning: 'phiDotField' doesn't influence the 'SLCN' method. It's only required for the 'SUPG' method\n",
      "  \" It's only required for the 'SUPG' method\")\n"
     ]
    },
    {
     "name": "stdout",
     "output_type": "stream",
     "text": [
      "Step:     1 Model Time: 7797.2 year dt: 7797.2 year (2019-08-13 00:05:15)\n",
      "Step:     2 Model Time: 16894.6 year dt: 9097.4 year (2019-08-13 00:05:16)\n",
      "Step:     3 Model Time: 25993.4 year dt: 9098.7 year (2019-08-13 00:05:16)\n",
      "Step:     4 Model Time: 35088.1 year dt: 9094.8 year (2019-08-13 00:05:17)\n",
      "Step:     5 Model Time: 44189.4 year dt: 9101.3 year (2019-08-13 00:05:18)\n",
      "Step:     6 Model Time: 53290.0 year dt: 9100.6 year (2019-08-13 00:05:19)\n",
      "Step:     7 Model Time: 62399.3 year dt: 9109.2 year (2019-08-13 00:05:19)\n",
      "Step:     8 Model Time: 71501.2 year dt: 9101.9 year (2019-08-13 00:05:20)\n",
      "Step:     9 Model Time: 80603.5 year dt: 9102.3 year (2019-08-13 00:05:21)\n",
      "Step:    10 Model Time: 89713.0 year dt: 9109.4 year (2019-08-13 00:05:21)\n",
      "Step:    11 Model Time: 98824.6 year dt: 9111.7 year (2019-08-13 00:05:22)\n",
      "Step:    12 Model Time: 107937.2 year dt: 9112.6 year (2019-08-13 00:05:23)\n",
      "Step:    13 Model Time: 117048.8 year dt: 9111.5 year (2019-08-13 00:05:24)\n",
      "Step:    14 Model Time: 126158.6 year dt: 9109.8 year (2019-08-13 00:05:24)\n",
      "Step:    15 Model Time: 135276.7 year dt: 9118.2 year (2019-08-13 00:05:25)\n",
      "Step:    16 Model Time: 144394.9 year dt: 9118.2 year (2019-08-13 00:05:26)\n",
      "Step:    17 Model Time: 153508.9 year dt: 9114.0 year (2019-08-13 00:05:27)\n",
      "Step:    18 Model Time: 162623.0 year dt: 9114.0 year (2019-08-13 00:05:27)\n",
      "Step:    19 Model Time: 171737.3 year dt: 9114.3 year (2019-08-13 00:05:28)\n",
      "Step:    20 Model Time: 180846.0 year dt: 9108.6 year (2019-08-13 00:05:29)\n",
      "Step:    21 Model Time: 189952.5 year dt: 9106.6 year (2019-08-13 00:05:29)\n",
      "Step:    22 Model Time: 199053.6 year dt: 9101.1 year (2019-08-13 00:05:30)\n",
      "Step:    23 Model Time: 208156.4 year dt: 9102.8 year (2019-08-13 00:05:31)\n",
      "Step:    24 Model Time: 217266.9 year dt: 9110.5 year (2019-08-13 00:05:32)\n",
      "Step:    25 Model Time: 226377.0 year dt: 9110.1 year (2019-08-13 00:05:32)\n",
      "Step:    26 Model Time: 235486.8 year dt: 9109.8 year (2019-08-13 00:05:33)\n",
      "Step:    27 Model Time: 244604.1 year dt: 9117.2 year (2019-08-13 00:05:33)\n",
      "Step:    28 Model Time: 253724.6 year dt: 9120.5 year (2019-08-13 00:05:34)\n",
      "Step:    29 Model Time: 262850.1 year dt: 9125.5 year (2019-08-13 00:05:35)\n",
      "Step:    30 Model Time: 271980.0 year dt: 9129.9 year (2019-08-13 00:05:36)\n",
      "Step:    31 Model Time: 281111.4 year dt: 9131.4 year (2019-08-13 00:05:36)\n",
      "Step:    32 Model Time: 290245.5 year dt: 9134.1 year (2019-08-13 00:05:37)\n",
      "Step:    33 Model Time: 299379.6 year dt: 9134.1 year (2019-08-13 00:05:38)\n",
      "Step:    34 Model Time: 308508.0 year dt: 9128.5 year (2019-08-13 00:05:38)\n",
      "Step:    35 Model Time: 317630.0 year dt: 9122.0 year (2019-08-13 00:05:39)\n",
      "Step:    36 Model Time: 326752.0 year dt: 9122.0 year (2019-08-13 00:05:40)\n",
      "Step:    37 Model Time: 335874.0 year dt: 9122.0 year (2019-08-13 00:05:40)\n",
      "Step:    38 Model Time: 344993.3 year dt: 9119.4 year (2019-08-13 00:05:41)\n",
      "Step:    39 Model Time: 354113.9 year dt: 9120.6 year (2019-08-13 00:05:42)\n",
      "Step:    40 Model Time: 363231.9 year dt: 9118.0 year (2019-08-13 00:05:42)\n",
      "Step:    41 Model Time: 372345.3 year dt: 9113.4 year (2019-08-13 00:05:43)\n",
      "Step:    42 Model Time: 381465.2 year dt: 9119.9 year (2019-08-13 00:05:44)\n",
      "Step:    43 Model Time: 390587.2 year dt: 9122.0 year (2019-08-13 00:05:44)\n",
      "Step:    44 Model Time: 399709.8 year dt: 9122.6 year (2019-08-13 00:05:45)\n",
      "Step:    45 Model Time: 408829.5 year dt: 9119.7 year (2019-08-13 00:05:46)\n",
      "Step:    46 Model Time: 417956.6 year dt: 9127.1 year (2019-08-13 00:05:46)\n",
      "Step:    47 Model Time: 427088.1 year dt: 9131.6 year (2019-08-13 00:05:47)\n",
      "Step:    48 Model Time: 436219.6 year dt: 9131.5 year (2019-08-13 00:05:48)\n",
      "Step:    49 Model Time: 445345.5 year dt: 9125.9 year (2019-08-13 00:05:48)\n",
      "Step:    50 Model Time: 454475.1 year dt: 9129.7 year (2019-08-13 00:05:49)\n",
      "Step:    51 Model Time: 463604.9 year dt: 9129.8 year (2019-08-13 00:05:50)\n",
      "Step:    52 Model Time: 472729.7 year dt: 9124.8 year (2019-08-13 00:05:50)\n",
      "Step:    53 Model Time: 481860.6 year dt: 9130.9 year (2019-08-13 00:05:51)\n",
      "Step:    54 Model Time: 490992.6 year dt: 9132.0 year (2019-08-13 00:05:52)\n",
      "Step:    55 Model Time: 500130.0 year dt: 9137.4 year (2019-08-13 00:05:53)\n",
      "Step:    56 Model Time: 509267.2 year dt: 9137.2 year (2019-08-13 00:05:54)\n",
      "Step:    57 Model Time: 518402.4 year dt: 9135.3 year (2019-08-13 00:05:54)\n",
      "Step:    58 Model Time: 527540.5 year dt: 9138.0 year (2019-08-13 00:05:55)\n",
      "Step:    59 Model Time: 536682.5 year dt: 9142.0 year (2019-08-13 00:05:56)\n",
      "Step:    60 Model Time: 545823.6 year dt: 9141.2 year (2019-08-13 00:05:56)\n",
      "Step:    61 Model Time: 554961.1 year dt: 9137.5 year (2019-08-13 00:05:57)\n",
      "Step:    62 Model Time: 564096.7 year dt: 9135.6 year (2019-08-13 00:05:58)\n",
      "Step:    63 Model Time: 573230.7 year dt: 9133.9 year (2019-08-13 00:05:59)\n",
      "Step:    64 Model Time: 582360.0 year dt: 9129.4 year (2019-08-13 00:05:59)\n",
      "Step:    65 Model Time: 591488.0 year dt: 9128.0 year (2019-08-13 00:06:00)\n",
      "Step:    66 Model Time: 600616.0 year dt: 9128.0 year (2019-08-13 00:06:01)\n",
      "Step:    67 Model Time: 609744.1 year dt: 9128.0 year (2019-08-13 00:06:02)\n",
      "Step:    68 Model Time: 618869.8 year dt: 9125.8 year (2019-08-13 00:06:02)\n",
      "Step:    69 Model Time: 627988.7 year dt: 9118.9 year (2019-08-13 00:06:03)\n",
      "Step:    70 Model Time: 637109.5 year dt: 9120.8 year (2019-08-13 00:06:04)\n",
      "Step:    71 Model Time: 646242.2 year dt: 9132.7 year (2019-08-13 00:06:05)\n",
      "Step:    72 Model Time: 655376.9 year dt: 9134.8 year (2019-08-13 00:06:06)\n",
      "Step:    73 Model Time: 664519.7 year dt: 9142.8 year (2019-08-13 00:06:07)\n",
      "Step:    74 Model Time: 673669.6 year dt: 9149.8 year (2019-08-13 00:06:08)\n",
      "Step:    75 Model Time: 682818.8 year dt: 9149.3 year (2019-08-13 00:06:08)\n",
      "Step:    76 Model Time: 691973.4 year dt: 9154.6 year (2019-08-13 00:06:09)\n",
      "Step:    77 Model Time: 701124.7 year dt: 9151.2 year (2019-08-13 00:06:10)\n",
      "Step:    78 Model Time: 710272.8 year dt: 9148.1 year (2019-08-13 00:06:11)\n",
      "Step:    79 Model Time: 719428.5 year dt: 9155.7 year (2019-08-13 00:06:12)\n",
      "Step:    80 Model Time: 728586.3 year dt: 9157.8 year (2019-08-13 00:06:13)\n",
      "Step:    81 Model Time: 737747.8 year dt: 9161.4 year (2019-08-13 00:06:14)\n",
      "Step:    82 Model Time: 746908.1 year dt: 9160.3 year (2019-08-13 00:06:14)\n",
      "Step:    83 Model Time: 756064.3 year dt: 9156.1 year (2019-08-13 00:06:15)\n",
      "Step:    84 Model Time: 765213.9 year dt: 9149.6 year (2019-08-13 00:06:16)\n",
      "Step:    85 Model Time: 774363.5 year dt: 9149.6 year (2019-08-13 00:06:17)\n",
      "Step:    86 Model Time: 783512.7 year dt: 9149.2 year (2019-08-13 00:06:18)\n",
      "Step:    87 Model Time: 792662.0 year dt: 9149.2 year (2019-08-13 00:06:19)\n",
      "Step:    88 Model Time: 801811.0 year dt: 9149.0 year (2019-08-13 00:06:20)\n",
      "Step:    89 Model Time: 810957.8 year dt: 9146.8 year (2019-08-13 00:06:20)\n",
      "Step:    90 Model Time: 820100.4 year dt: 9142.7 year (2019-08-13 00:06:21)\n",
      "Step:    91 Model Time: 829244.0 year dt: 9143.5 year (2019-08-13 00:06:22)\n",
      "Step:    92 Model Time: 838395.2 year dt: 9151.2 year (2019-08-13 00:06:23)\n",
      "Step:    93 Model Time: 847543.0 year dt: 9147.8 year (2019-08-13 00:06:23)\n",
      "Step:    94 Model Time: 856688.9 year dt: 9145.9 year (2019-08-13 00:06:24)\n",
      "Step:    95 Model Time: 865836.6 year dt: 9147.7 year (2019-08-13 00:06:25)\n",
      "Step:    96 Model Time: 874986.2 year dt: 9149.6 year (2019-08-13 00:06:26)\n",
      "Step:    97 Model Time: 884137.0 year dt: 9150.8 year (2019-08-13 00:06:27)\n",
      "Step:    98 Model Time: 893294.9 year dt: 9157.9 year (2019-08-13 00:06:28)\n",
      "Step:    99 Model Time: 902453.6 year dt: 9158.7 year (2019-08-13 00:06:29)\n",
      "Step:   100 Model Time: 911608.8 year dt: 9155.1 year (2019-08-13 00:06:30)\n",
      "Step:   101 Model Time: 920759.4 year dt: 9150.6 year (2019-08-13 00:06:30)\n",
      "Step:   102 Model Time: 929913.7 year dt: 9154.3 year (2019-08-13 00:06:31)\n",
      "Step:   103 Model Time: 939069.7 year dt: 9156.0 year (2019-08-13 00:06:32)\n",
      "Step:   104 Model Time: 948229.6 year dt: 9159.9 year (2019-08-13 00:06:33)\n",
      "Step:   105 Model Time: 957389.5 year dt: 9159.9 year (2019-08-13 00:06:34)\n",
      "Step:   106 Model Time: 966548.1 year dt: 9158.6 year (2019-08-13 00:06:35)\n",
      "Step:   107 Model Time: 975706.3 year dt: 9158.2 year (2019-08-13 00:06:36)\n",
      "Step:   108 Model Time: 984864.2 year dt: 9157.9 year (2019-08-13 00:06:37)\n"
     ]
    },
    {
     "name": "stdout",
     "output_type": "stream",
     "text": [
      "Step:   109 Model Time: 994021.9 year dt: 9157.7 year (2019-08-13 00:06:37)\n",
      "Step:   110 Model Time: 1.0 megayear dt: 5978.1 year (2019-08-13 00:06:38)\n"
     ]
    },
    {
     "data": {
      "text/plain": [
       "1"
      ]
     },
     "execution_count": 19,
     "metadata": {},
     "output_type": "execute_result"
    }
   ],
   "source": [
    "Model.run_for(1.0*u.megayear)"
   ]
  },
  {
   "cell_type": "markdown",
   "metadata": {},
   "source": [
    "# Plot Material Field and Isotherm"
   ]
  },
  {
   "cell_type": "code",
   "execution_count": 20,
   "metadata": {},
   "outputs": [
    {
     "data": {
      "text/html": [
       "<img src='data:image/png;base64,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'>"
      ],
      "text/plain": [
       "<IPython.core.display.HTML object>"
      ]
     },
     "metadata": {},
     "output_type": "display_data"
    }
   ],
   "source": [
    "Fig = vis.Figure(figsize=(800,700), title=\"Material Field\", quality=2)\n",
    "surf = Fig.Surface(Model.mesh, Model.projMaterialField, fn_size=2.0, discrete=True, onMesh=False,resolution=500)\n",
    "surf.colourBar[\"align\"] = \"right\"\n",
    "surf.colourBar[\"position\"] = 0.\n",
    "surf.colourBar[\"size\"] = [0.9,0.02]\n",
    "Fig.Contours(Model.mesh, \n",
    "             Model.temperature, \n",
    "             interval=GEO.nd(716.* u.degK),\n",
    "             limits=(GEO.nd(716.*u.degK),\n",
    "                     GEO.nd(800.*u.degK)),\n",
    "             colourBar=False, colours=\"red\",\n",
    "             linewidth=5.0)\n",
    "Fig.show()"
   ]
  }
 ],
 "metadata": {
  "kernelspec": {
   "display_name": "Python 3",
   "language": "python",
   "name": "python3"
  },
  "language_info": {
   "codemirror_mode": {
    "name": "ipython",
    "version": 3
   },
   "file_extension": ".py",
   "mimetype": "text/x-python",
   "name": "python",
   "nbconvert_exporter": "python",
   "pygments_lexer": "ipython3",
   "version": "3.9.6"
  }
 },
 "nbformat": 4,
 "nbformat_minor": 2
}

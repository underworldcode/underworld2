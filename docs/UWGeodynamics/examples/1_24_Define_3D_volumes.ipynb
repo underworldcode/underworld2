{
 "cells": [
  {
   "cell_type": "markdown",
   "metadata": {},
   "source": [
    "# 3D volumes definitions with UWGeodynamics\n",
    "\n",
    "Claire Mallard (claire.mallard@sydney.edu.au)\n",
    "\n",
    "Romain Beucher (romain.beucher@anu.edu.au)"
   ]
  },
  {
   "cell_type": "code",
   "execution_count": null,
   "metadata": {},
   "outputs": [],
   "source": [
    "from underworld import UWGeodynamics as GEO\n",
    "from UWGeodynamics import visualisation as vis"
   ]
  },
  {
   "cell_type": "markdown",
   "metadata": {},
   "source": [
    "Load the unit registry to facilitate definition of quantities."
   ]
  },
  {
   "cell_type": "code",
   "execution_count": null,
   "metadata": {},
   "outputs": [],
   "source": [
    "u = GEO.UnitRegistry"
   ]
  },
  {
   "cell_type": "code",
   "execution_count": null,
   "metadata": {},
   "outputs": [],
   "source": [
    "Model = GEO.Model(elementRes=(34, 34, 12), \n",
    "                  minCoord=(0. * u.kilometer, -0. * u.kilometer, -2880. * u.kilometer), \n",
    "                  maxCoord=(9000. * u.kilometer, 2000. * u.kilometer, 20. * u.kilometer), \n",
    "                  gravity=(0.0 ,0.0, -9.81 * u.meter / u.second**2))"
   ]
  },
  {
   "cell_type": "markdown",
   "metadata": {},
   "source": [
    "# Create a 3D volume"
   ]
  },
  {
   "cell_type": "markdown",
   "metadata": {},
   "source": [
    "HalfSpaces can be used to divide the space in two domains. The divide is a plan that can be defined using the by its normal vector. The convention is to keep the domain opposite to the direction the normal is pointing towards.\n",
    "\n",
    "In the following example we create 4 halfSpaces and combine them to define a 3D volume: \n",
    "\n",
    "![title](./images/3D_hafspaces.png)"
   ]
  },
  {
   "cell_type": "code",
   "execution_count": null,
   "metadata": {},
   "outputs": [],
   "source": [
    "halfspace1 = GEO.shapes.HalfSpace(normal=(-1.,0.,1.),origin=(4000. * u.kilometer, 0. * u.kilometer, -1000. * u.kilometer))\n",
    "halfspace2 = GEO.shapes.HalfSpace(normal=(0.,0.,1.),origin=(7000. * u.kilometer, 1000. * u.kilometer, 0. * u.kilometer))\n",
    "halfspace3 = GEO.shapes.HalfSpace(normal=(1.,0.,0.),origin=(9000. * u.kilometer, 1000. * u.kilometer, -500. * u.kilometer))\n",
    "halfspace4 = GEO.shapes.HalfSpace(normal=(0.,0.,-1.),origin=(6500. * u.kilometer, 1000. * u.kilometer, -1000. * u.kilometer))"
   ]
  },
  {
   "cell_type": "markdown",
   "metadata": {},
   "source": [
    "By combining the HalfSpace we can define a 3D volume that corresponds to the array where the domains overlap."
   ]
  },
  {
   "cell_type": "code",
   "execution_count": null,
   "metadata": {},
   "outputs": [],
   "source": [
    "CompositeShape = halfspace1 & halfspace2 & halfspace3 & halfspace4\n",
    "volume3D = Model.add_material(name=\"Polygon\", shape=CompositeShape)"
   ]
  },
  {
   "cell_type": "code",
   "execution_count": null,
   "metadata": {},
   "outputs": [],
   "source": [
    "Fig = vis.Figure(resolution=(1200,600), axis=True)\n",
    "Fig.Points(Model.swarm, Model.materialField, cullface=False, opacity=1.)\n",
    "Fig.Mesh(Model.mesh)\n",
    "\n",
    "# rotate view from default\n",
    "lv = Fig.window()\n",
    "lv.rotate('x', -70)\n",
    "lv.rotate('y', -10)\n",
    "lv.redisplay()"
   ]
  },
  {
   "cell_type": "markdown",
   "metadata": {},
   "source": [
    "## Combining Layer and halfSpaces\n",
    "\n",
    "A quickest approach to the above example is to define first a layer and then limit the extent of that layer using a halfspace:\n",
    "\n",
    "![title](./images/3D_layer.png)"
   ]
  },
  {
   "cell_type": "code",
   "execution_count": null,
   "metadata": {},
   "outputs": [],
   "source": [
    "AirShape = GEO.shapes.Layer3D(top=Model.top, bottom=0. * u.kilometer)\n",
    "MaterialShape = GEO.shapes.Layer3D(top=0.0, bottom=-1000. * u.kilometer)\n",
    "halfspace1 = GEO.shapes.HalfSpace(normal=(-1.,0.,1.),origin=(4000. * u.kilometer, 0. * u.kilometer, -1000. * u.kilometer))\n",
    "PolygonShape = MaterialShape & halfspace1"
   ]
  },
  {
   "cell_type": "code",
   "execution_count": null,
   "metadata": {
    "scrolled": true
   },
   "outputs": [],
   "source": [
    "Air = Model.add_material(name=\"Air\", shape=AirShape)\n",
    "Layer = Model.add_material(name=\"Layer\", shape=MaterialShape)\n",
    "Polygon = Model.add_material(name=\"Polygon\", shape=CompositeShape)"
   ]
  },
  {
   "cell_type": "code",
   "execution_count": null,
   "metadata": {},
   "outputs": [],
   "source": [
    "Fig = vis.Figure(resolution=(1200,600), axis=True)\n",
    "Fig.Points(Model.swarm, Model.materialField, cullface=False, opacity=1.)\n",
    "Fig.Mesh(Model.mesh)\n",
    "\n",
    "lv = Fig.window()\n",
    "lv.rotate('x', -70)\n",
    "lv.rotate('y', -10)\n",
    "lv.redisplay()"
   ]
  },
  {
   "cell_type": "markdown",
   "metadata": {},
   "source": [
    "## Definition of a 3D volume from multiples 3D volumes"
   ]
  },
  {
   "cell_type": "markdown",
   "metadata": {},
   "source": [
    "For more complex cases, it may be useful to subdivide the volume of interest into smaller volumes easier to define.\n",
    "\n",
    "In the following example we define two volumes and then combine them so that the volume defines the extent of one single material.\n",
    "\n",
    "### Volume 1\n",
    "The first volume is identical to the volume we have defined previously"
   ]
  },
  {
   "cell_type": "code",
   "execution_count": null,
   "metadata": {},
   "outputs": [],
   "source": [
    "top    = GEO.shapes.HalfSpace(normal=(0.,0.,1.), origin=(2000.*u.kilometer,1000.*u.kilometer,-0.*u.kilometer))\n",
    "right  = GEO.shapes.HalfSpace(normal=(1.,0.,0.), origin=(9000.*u.kilometer,1000.*u.kilometer,-0.*u.kilometer))\n",
    "bottom = GEO.shapes.HalfSpace(normal=(0.,0.,-1.), origin=(2000.*u.kilometer,1000.*u.kilometer,-1000.*u.kilometer))\n",
    "left   = GEO.shapes.HalfSpace(normal=(-1.,0.,1.), origin=(4500.*u.kilometer,1000.*u.kilometer,-500.*u.kilometer))\n",
    "CompositeShape_Polygon1 = top & right & bottom & left  "
   ]
  },
  {
   "cell_type": "markdown",
   "metadata": {},
   "source": [
    "Lets create a dummy material for visualisation purpose only:"
   ]
  },
  {
   "cell_type": "code",
   "execution_count": null,
   "metadata": {},
   "outputs": [],
   "source": [
    "dummy = Model.add_material(name=\"dummy\", shape=CompositeShape_Polygon1, reset=True)"
   ]
  },
  {
   "cell_type": "code",
   "execution_count": null,
   "metadata": {},
   "outputs": [],
   "source": [
    "Fig = vis.Figure(resolution=(1200,600), axis=True)\n",
    "Fig.Points(Model.swarm, Model.materialField, cullface=False, opacity=1.)\n",
    "Fig.Mesh(Model.mesh)\n",
    "lv = Fig.window()\n",
    "lv.rotate('x', -70)\n",
    "lv.rotate('y', -10)\n",
    "lv.redisplay()"
   ]
  },
  {
   "cell_type": "markdown",
   "metadata": {},
   "source": [
    "### Volume 2\n",
    "\n",
    "Now lets do the second volume "
   ]
  },
  {
   "cell_type": "code",
   "execution_count": null,
   "metadata": {},
   "outputs": [],
   "source": [
    "top2    = GEO.shapes.HalfSpace(normal=(0.,0.,1.), origin=(5000.*u.kilometer,1000.*u.kilometer,-0.*u.kilometer))\n",
    "right2  = GEO.shapes.HalfSpace(normal=(1.,0.,-1.), origin=(4500.*u.kilometer,1000.*u.kilometer,-500.*u.kilometer))\n",
    "bottom2 = GEO.shapes.HalfSpace(normal=(-1.,0.,0.), origin=(3000.*u.kilometer,1000.*u.kilometer,-2000.*u.kilometer))\n",
    "left2   = GEO.shapes.HalfSpace(normal=(-1.,0.,1.), origin=(3422.*u.kilometer,1180.*u.kilometer,-320.*u.kilometer))\n",
    "CompositeShape_Polygon2 = top2 & right2 & bottom2 & left2"
   ]
  },
  {
   "cell_type": "markdown",
   "metadata": {},
   "source": [
    "Again, Lets create a dummy material for visualisation purpose only:"
   ]
  },
  {
   "cell_type": "code",
   "execution_count": null,
   "metadata": {},
   "outputs": [],
   "source": [
    "dummy = Model.add_material(name=\"dummy\", shape=CompositeShape_Polygon2, reset=True)"
   ]
  },
  {
   "cell_type": "code",
   "execution_count": null,
   "metadata": {},
   "outputs": [],
   "source": [
    "Fig = vis.Figure(resolution=(1200,600), axis=True)\n",
    "Fig.Points(Model.swarm, Model.materialField, cullface=False, opacity=1.)\n",
    "Fig.Mesh(Model.mesh)\n",
    "lv = Fig.window()\n",
    "lv.rotate('x', -70)\n",
    "lv.rotate('y', -10)\n",
    "lv.redisplay()"
   ]
  },
  {
   "cell_type": "markdown",
   "metadata": {},
   "source": [
    "### Combine Volume 1 and Volume2"
   ]
  },
  {
   "cell_type": "code",
   "execution_count": null,
   "metadata": {},
   "outputs": [],
   "source": [
    "CompositeShape = CompositeShape_Polygon1 | CompositeShape_Polygon2"
   ]
  },
  {
   "cell_type": "code",
   "execution_count": null,
   "metadata": {},
   "outputs": [],
   "source": [
    "Material = Model.add_material(name=\"Material\", shape=CompositeShape)"
   ]
  },
  {
   "cell_type": "code",
   "execution_count": null,
   "metadata": {},
   "outputs": [],
   "source": [
    "Fig = vis.Figure(resolution=(1200,600), axis=True)\n",
    "Fig.Points(Model.swarm, Model.materialField, cullface=False, opacity=1.)\n",
    "Fig.Mesh(Model.mesh)\n",
    "lv = Fig.window()\n",
    "lv.rotate('x', -70)\n",
    "lv.rotate('y', -10)\n",
    "lv.redisplay()"
   ]
  }
 ],
 "metadata": {
  "kernelspec": {
   "display_name": "Python 3",
   "language": "python",
   "name": "python3"
  },
  "language_info": {
   "codemirror_mode": {
    "name": "ipython",
    "version": 3
   },
   "file_extension": ".py",
   "mimetype": "text/x-python",
   "name": "python",
   "nbconvert_exporter": "python",
   "pygments_lexer": "ipython3",
   "version": "3.7.3"
  }
 },
 "nbformat": 4,
 "nbformat_minor": 2
}

{
 "cells": [
  {
   "cell_type": "markdown",
   "metadata": {},
   "source": [
    "Thermal Convection\n",
    "======\n",
    "\n",
    "This example solves 2D dimensionless isoviscous thermal convection with a Rayleigh number of $10^4$, see Blankenbach *et al.* 1989 for details.\n",
    "\n",
    "**Keywords:** material parameters, Stokes system, advective diffusive systems\n",
    "\n",
    "**References**\n",
    "\n",
    "B. Blankenbach, F. Busse, U. Christensen, L. Cserepes, D. Gunkel, U. Hansen, H. Harder, G. Jarvis, M. Koch, G. Marquart, D. Moore, P. Olson, H. Schmeling and T. Schnaubelt. A benchmark comparison for mantle convection codes. Geophysical Journal International, 98, 1, 23–38, 1989\n",
    "http://onlinelibrary.wiley.com/doi/10.1111/j.1365-246X.1989.tb05511.x/abstract"
   ]
  },
  {
   "cell_type": "markdown",
   "metadata": {},
   "source": [
    "Please run the cell below if you do not see the interface under the Setup parameters."
   ]
  },
  {
   "cell_type": "code",
   "execution_count": 27,
   "metadata": {
    "hideCode": true
   },
   "outputs": [
    {
     "data": {
      "application/vnd.jupyter.widget-view+json": {
       "model_id": "148f09f26e5c4ad5b5212df5cf6bf1c3",
       "version_major": 2,
       "version_minor": 0
      },
      "text/plain": [
       "Button(description='Refresh Setup', style=ButtonStyle())"
      ]
     },
     "metadata": {},
     "output_type": "display_data"
    }
   ],
   "source": [
    "import underworld as uw\n",
    "from underworld import function as fn\n",
    "import underworld.visualisation as vis\n",
    "import math\n",
    "import ipywidgets as widgets\n",
    "from IPython.display import Javascript, display, clear_output\n",
    "import matplotlib.pyplot as pyplot\n",
    "\n",
    "def run_all(ev):\n",
    "    display(Javascript('IPython.notebook.execute_cell_range(IPython.notebook.get_selected_index()+1, IPython.notebook.get_selected_index()+3)'))\n",
    "\n",
    "button = widgets.Button(description=\"Refresh Setup\")\n",
    "button.on_click(run_all)\n",
    "display(button)"
   ]
  },
  {
   "cell_type": "code",
   "execution_count": 8,
   "metadata": {
    "hideCode": true
   },
   "outputs": [
    {
     "data": {
      "application/vnd.jupyter.widget-view+json": {
       "model_id": "abf48aa71fe748f1b05e858e761449e6",
       "version_major": 2,
       "version_minor": 0
      },
      "text/plain": [
       "interactive(children=(FloatSlider(value=0.2, description='plume_thickness', max=0.5, style=SliderStyle(descrip…"
      ]
     },
     "metadata": {},
     "output_type": "display_data"
    },
    {
     "data": {
      "text/plain": [
       "<function __main__.initialise(plume, slab, tempMin=IntText(value=0, description='tempMin'), tempMax=IntText(value=2, description='tempMax'))>"
      ]
     },
     "metadata": {},
     "output_type": "display_data"
    }
   ],
   "source": [
    "\n",
    "style = {'description_width': '100px'}\n",
    "\n",
    "plume = widgets.FloatSlider(0.2, min = 0, max =0.5, step = 0.1, description ='plume_thickness', style = style)\n",
    "slab = widgets.FloatSlider(0.2, min = 0, max = 0.5, step = 0.1, description ='slab_thickness', style = style)\n",
    "\n",
    "tempMin = widgets.IntText(\n",
    "                            value=0,\n",
    "                            description='tempMin',\n",
    "                            disabled=False\n",
    "                            )\n",
    "\n",
    "\n",
    "\n",
    "tempMax = widgets.IntText(\n",
    "                            value=2,\n",
    "                            description='tempMax',\n",
    "                            disabled=False\n",
    "                            )\n",
    "\n",
    "\n",
    "def start_sim(ev):\n",
    "    display(Javascript('IPython.notebook.execute_cell_range(IPython.notebook.get_selected_index()+1, IPython.notebook.ncells())'))\n",
    "\n",
    "start_button = widgets.Button(description=\"Start Simulation\")\n",
    "start_button.on_click(start_sim)\n",
    "\n",
    "\n",
    "\n",
    "def initialise(plume, slab, tempMin = tempMin, tempMax = tempMax):\n",
    "    global velocityField\n",
    "    global pressureField\n",
    "    global temperatureField\n",
    "    global temperatureDotField\n",
    "    global velBC\n",
    "    global tempBC\n",
    "    global mesh\n",
    "    global conditions\n",
    "    global tempDif\n",
    "    # Set python variables for model parameters.\n",
    "    boxHeight = 1.0\n",
    "    boxLength = 1.0\n",
    "    res = 16\n",
    "\n",
    "\n",
    "    # build a rectangular domain, discretised with a Q1/dQ0 elementType\n",
    "    mesh = uw.mesh.FeMesh_Cartesian( elementType = (\"Q1/dQ0\"), \n",
    "                                     elementRes  = (res, res), \n",
    "                                     minCoord    = (0., 0.), \n",
    "                                     maxCoord    = (boxLength, boxHeight))\n",
    "\n",
    "    # create mesh variables.  Note the pressure field uses the sub-mesh (dQ0)\n",
    "    \n",
    "    \n",
    "    velocityField       = mesh.add_variable(         nodeDofCount=2 )\n",
    "    pressureField       = mesh.subMesh.add_variable( nodeDofCount=1 )\n",
    "    temperatureField    = mesh.add_variable(         nodeDofCount=1 )\n",
    "    temperatureDotField = mesh.add_variable(         nodeDofCount=1 ) # required for AdvectionDiffusion (SUPG) method\n",
    "\n",
    "    # Initialise values\n",
    "    velocityField.data[:]       = [0.,0.]\n",
    "    pressureField.data[:]       = 0.\n",
    "    temperatureDotField.data[:] = 0.\n",
    "\n",
    "    # pertStrength = 0.2\n",
    "    # deltaTemp = tempMax - tempMin\n",
    "    # for index, coord in enumerate(mesh.data):\n",
    "    #     pertCoeff = math.cos( math.pi*0.5 * coord[0] )\n",
    "    #     temperatureField.data[index] = tempMin + deltaTemp*(boxHeight - coord[1]) + pertStrength * pertCoeff\n",
    "    #     temperatureField.data[index] = max(tempMin, min(tempMax, temperatureField.data[index]))\n",
    "\n",
    "\n",
    "    lightIndex = tempMin \n",
    "    denseIndex = tempMax\n",
    "    mediumIndex = int((lightIndex + denseIndex) / 2)\n",
    "    \n",
    "    tempDif = float(denseIndex - lightIndex)\n",
    "    \n",
    "    # material perturbation from van Keken et al. 1997\n",
    "    wavelength = 2.0*boxLength\n",
    "    amplitude  = 0.04\n",
    "    offset_low = plume\n",
    "    offset_high= 1-slab\n",
    "    k = 2 * math.pi / wavelength\n",
    "\n",
    "    # Create function to return particle's coordinate\n",
    "    coord = fn.coord()\n",
    "\n",
    "    # Define the material perturbation, a function of the x coordinate (accessed by `coord[0]`).\n",
    "    perturbationFn_low = offset_low   + amplitude*fn.math.cos(k*coord[0] + math.pi/4)\n",
    "    perturbationFn_high = offset_high + amplitude*fn.math.cos(k*coord[0] - math.pi/4)\n",
    "\n",
    "    # Setup the conditions list. \n",
    "    # If z is less than the perturbation, set to lightIndex.\n",
    "    conditions = [ (  perturbationFn_high < coord[1],  lightIndex),\n",
    "                   (  perturbationFn_high > coord[1] > perturbationFn_low, mediumIndex ),\n",
    "                   (  True, denseIndex ) ]\n",
    "\n",
    "    # The swarm is passed as an argument to the evaluation, providing evaluation on each particle.\n",
    "    # Results are written to the materialIndex swarm variable.\n",
    "    temperatureField.data[:] = fn.branching.conditional( conditions ).evaluate(mesh)\n",
    "\n",
    "    bottomWall = mesh.specialSets[\"MinJ_VertexSet\"]\n",
    "    topWall    = mesh.specialSets[\"MaxJ_VertexSet\"]\n",
    "    leftWall   = mesh.specialSets[\"MinI_VertexSet\"]\n",
    "    rightWall  = mesh.specialSets[\"MaxI_VertexSet\"]\n",
    "\n",
    "    # for index in bottomWall:\n",
    "    #     temperatureField.data[index] = tempMax\n",
    "    # for index in topWall:\n",
    "    #     temperatureField.data[index] = tempMin\n",
    "\n",
    "    # Construct sets for I (vertical) and J (horizontal) walls.\n",
    "    iWalls = leftWall   + rightWall\n",
    "    jWalls = bottomWall + topWall\n",
    "\n",
    "    # 2D velocity vector can have two Dirichlet conditions on each vertex, \n",
    "    # v_x is fixed on the iWalls (vertical), v_y is fixed on the jWalls (horizontal)\n",
    "    velBC  = uw.conditions.DirichletCondition( variable        = velocityField, \n",
    "                                               indexSetsPerDof = (iWalls, jWalls) )\n",
    "\n",
    "    # Temperature is held constant on the jWalls\n",
    "    tempBC = uw.conditions.DirichletCondition( variable        = temperatureField, \n",
    "                                               indexSetsPerDof = (jWalls,) )\n",
    "    figtemp = vis.Figure( figsize=(800,400), title ='Initial Conditions, temperature plot' )\n",
    "    figtemp.append( vis.objects.Surface(mesh, temperatureField, colours=\"blue white red\") )\n",
    "    figtemp.append( vis.objects.Mesh(mesh) )\n",
    "    figtemp.show()\n",
    "    \n",
    "initial_button = widgets.interact_manual(initialise,\n",
    "                 plume = plume,\n",
    "                 slab = slab,\n",
    "                 tempMin = tempMin,\n",
    "                 tempMax = tempMax,\n",
    "                )\n",
    "initial_button.widget.children[4].description = 'Initialise the setup'\n",
    "display(initial_button)\n",
    "\n"
   ]
  },
  {
   "cell_type": "code",
   "execution_count": 20,
   "metadata": {
    "hideCode": true,
    "scrolled": false
   },
   "outputs": [
    {
     "data": {
      "application/vnd.jupyter.widget-view+json": {
       "model_id": "c12fe99b12ab45c280dbe1d02b701e8d",
       "version_major": 2,
       "version_minor": 0
      },
      "text/plain": [
       "Button(description='Restart Simulation', style=ButtonStyle())"
      ]
     },
     "metadata": {},
     "output_type": "display_data"
    },
    {
     "data": {
      "application/vnd.jupyter.widget-view+json": {
       "model_id": "fed319d360e145d3b8a1701c1a7e409a",
       "version_major": 2,
       "version_minor": 0
      },
      "text/plain": [
       "interactive(children=(FloatLogSlider(value=10000.0, description='Ra', max=10.0, min=1.0, step=1.0), Button(des…"
      ]
     },
     "metadata": {},
     "output_type": "display_data"
    },
    {
     "data": {
      "text/plain": [
       "<function __main__.simulation(Ra)>"
      ]
     },
     "metadata": {},
     "output_type": "display_data"
    }
   ],
   "source": [
    "# Setup python variabel and underworld.`function`\n",
    "Ra = widgets.FloatLogSlider(1.0e4, base = 10, min = 1, max = 10, step = 1, description ='Ra')\n",
    "\n",
    "\n",
    "def restart_sim(ev):\n",
    "#         clear_output()\n",
    "    temperatureField.data[:] = fn.branching.conditional( conditions ).evaluate(mesh)\n",
    "    display(Javascript('IPython.notebook.execute_cell_range(IPython.notebook.get_selected_index(),\\\n",
    "                                                                IPython.notebook.get_selected_index()+1)'))\n",
    "\n",
    "restart_button = widgets.Button(description=\"Restart Simulation\")\n",
    "restart_button.on_click(restart_sim)\n",
    "display(restart_button)\n",
    "\n",
    "timeVal = []\n",
    "vrmsVal = []\n",
    "\n",
    "time_pass = 0\n",
    "\n",
    "def simulation(Ra):\n",
    "    time = 0.\n",
    "    step = 0\n",
    "    steps_end = 20\n",
    "    # Set viscosity to be a constant.\n",
    "    viscosity = 1.\n",
    "\n",
    "    # Rayleigh number.\n",
    "    # Construct our density `function`\n",
    "    densityFn = Ra * temperatureField\n",
    "    # '*' is overloaded. A multiplication of temperatureField (type MeshVariable)\n",
    "    # and a python float creates a `function`. See user_guide `Function` for more details\n",
    "\n",
    "    # Define our vertical unit vector using a python tuple (this will be converted to a function next).\n",
    "    z_hat = ( 0.0, 1.0 )\n",
    "\n",
    "    # a buoyancy force vector using the densityFn and the vertical unit vector. \n",
    "    buoyancyFn = densityFn * z_hat\n",
    "\n",
    "    stokes = uw.systems.Stokes( velocityField = velocityField, \n",
    "                                pressureField = pressureField,\n",
    "                                conditions    = velBC,\n",
    "                                fn_viscosity  = viscosity, \n",
    "                                fn_bodyforce  = buoyancyFn )\n",
    "\n",
    "    # get the default stokes equation solver\n",
    "    solver = uw.systems.Solver( stokes )\n",
    "\n",
    "    advDiff = uw.systems.AdvectionDiffusion( phiField       = temperatureField, \n",
    "                                             phiDotField    = temperatureDotField, \n",
    "                                             velocityField  = velocityField, \n",
    "                                             fn_diffusivity = 1.0, \n",
    "                                             conditions     = tempBC )\n",
    "\n",
    "    # define an update function\n",
    "    def update():\n",
    "        # Retrieve the maximum possible timestep for the advection-diffusion system.\n",
    "        dt = advDiff.get_max_dt()\n",
    "        # Advect using this timestep size.\n",
    "        advDiff.integrate(dt)\n",
    "        return time+dt, step+1\n",
    "\n",
    "    # init these guys\n",
    "    # perform timestepping\n",
    "    while step < steps_end:\n",
    "        # Solve for the velocity field given the current temperature field.\n",
    "        solver.solve()\n",
    "        time, step = update()\n",
    "        vrms = stokes.velocity_rms()\n",
    "#         print(time, step, vrms)\n",
    "    solver = uw.systems.Solver( stokes )\n",
    "    # plot figure\n",
    "    figtemp = vis.Figure( figsize=(800,400) , title = 'Convection simulation, temperature plot')\n",
    "    figtemp.append( vis.objects.Surface(mesh, temperatureField, colours=\"blue white red\") )\n",
    "    figtemp.append( vis.objects.VectorArrows(mesh, velocityField/Ra*50.0/(tempDif), arrowHead=0.2, scaling=0.1) )\n",
    "    figtemp.show()\n",
    "    \n",
    "    \n",
    "    \n",
    "run_button = widgets.interact_manual(\n",
    "                        simulation,\n",
    "                        Ra = Ra,\n",
    "                        )\n",
    "run_button.widget.children[1].description = 'Run 20 timesteps'\n",
    "display(run_button)"
   ]
  },
  {
   "cell_type": "code",
   "execution_count": 41,
   "metadata": {
    "hideCode": true
   },
   "outputs": [
    {
     "data": {
      "application/vnd.jupyter.widget-view+json": {
       "model_id": "43a345024f144c84b155c3c39b8337a8",
       "version_major": 2,
       "version_minor": 0
      },
      "text/plain": [
       "Button(description='Restart Simulation', style=ButtonStyle())"
      ]
     },
     "metadata": {},
     "output_type": "display_data"
    },
    {
     "data": {
      "application/vnd.jupyter.widget-view+json": {
       "model_id": "7f34a4069a5b4fa192e60e119bff153e",
       "version_major": 2,
       "version_minor": 0
      },
      "text/plain": [
       "interactive(children=(FloatLogSlider(value=10000.0, description='Ra', max=10.0, min=1.0, step=1.0), Button(des…"
      ]
     },
     "metadata": {},
     "output_type": "display_data"
    },
    {
     "data": {
      "text/plain": [
       "<function __main__.simulation(Ra)>"
      ]
     },
     "metadata": {},
     "output_type": "display_data"
    }
   ],
   "source": [
    "# Setup python variabel and underworld.`function`\n",
    "Ra = widgets.FloatLogSlider(1.0e4, base = 10, min = 1, max = 10, step = 1, description ='Ra')\n",
    "\n",
    "\n",
    "def restart_sim(ev):\n",
    "#         clear_output()\n",
    "    temperatureField.data[:] = fn.branching.conditional( conditions ).evaluate(mesh)\n",
    "    display(Javascript('IPython.notebook.execute_cell_range(IPython.notebook.get_selected_index(),\\\n",
    "                                                                IPython.notebook.get_selected_index()+1)'))\n",
    "\n",
    "restart_button = widgets.Button(description=\"Restart Simulation\")\n",
    "restart_button.on_click(restart_sim)\n",
    "display(restart_button)\n",
    "\n",
    "timeVal = []\n",
    "vrmsVal = []\n",
    "timer = 0.\n",
    "time_pass = 0\n",
    "\n",
    "def simulation(Ra):\n",
    "    global timer\n",
    "    time = timer\n",
    "    step = 0\n",
    "    steps_end = 100\n",
    "    # Set viscosity to be a constant.\n",
    "    viscosity = 1.\n",
    "\n",
    "    # Rayleigh number.\n",
    "    # Construct our density `function`\n",
    "    densityFn = Ra * temperatureField\n",
    "    # '*' is overloaded. A multiplication of temperatureField (type MeshVariable)\n",
    "    # and a python float creates a `function`. See user_guide `Function` for more details\n",
    "\n",
    "    # Define our vertical unit vector using a python tuple (this will be converted to a function next).\n",
    "    z_hat = ( 0.0, 1.0 )\n",
    "\n",
    "    # a buoyancy force vector using the densityFn and the vertical unit vector. \n",
    "    buoyancyFn = densityFn * z_hat\n",
    "\n",
    "    stokes = uw.systems.Stokes( velocityField = velocityField, \n",
    "                                pressureField = pressureField,\n",
    "                                conditions    = velBC,\n",
    "                                fn_viscosity  = viscosity, \n",
    "                                fn_bodyforce  = buoyancyFn )\n",
    "\n",
    "    # get the default stokes equation solver\n",
    "    solver = uw.systems.Solver( stokes )\n",
    "\n",
    "    advDiff = uw.systems.AdvectionDiffusion( phiField       = temperatureField, \n",
    "                                             phiDotField    = temperatureDotField, \n",
    "                                             velocityField  = velocityField, \n",
    "                                             fn_diffusivity = 1.0, \n",
    "                                             conditions     = tempBC )\n",
    "\n",
    "    # define an update function\n",
    "    def update():\n",
    "        # Retrieve the maximum possible timestep for the advection-diffusion system.\n",
    "        dt = advDiff.get_max_dt()\n",
    "        # Advect using this timestep size.\n",
    "        advDiff.integrate(dt)\n",
    "        return time+dt, step+1\n",
    "\n",
    "    # init these guys\n",
    "    # perform timestepping\n",
    "    while step < steps_end:\n",
    "        # Solve for the velocity field given the current temperature field.\n",
    "        solver.solve()\n",
    "        time, step = update()\n",
    "        vrms = stokes.velocity_rms()\n",
    "#         print(time, step, vrms)\n",
    "        timeVal.append(time)\n",
    "        vrmsVal.append(vrms)\n",
    "    solver = uw.systems.Solver( stokes )\n",
    "    fig = pyplot.figure()\n",
    "    pyplot.clf()\n",
    "    fig.set_size_inches(12, 6)\n",
    "    ax = fig.add_subplot(1,1,1)\n",
    "    ax.plot(timeVal, vrmsVal, color = 'red', marker=\".\", markersize=10) \n",
    "    ax.set_xlabel('Time')\n",
    "    ax.set_ylabel('RMS velocity')\n",
    "#     ax.set_xlim([0.0,1000.0])\n",
    "    timer = time\n",
    "    step = 0\n",
    "    \n",
    "    \n",
    "run_button = widgets.interact_manual(\n",
    "                        simulation,\n",
    "                        Ra = Ra,\n",
    "                        )\n",
    "run_button.widget.children[1].description = 'Create RMS plot'\n",
    "display(run_button)\n"
   ]
  }
 ],
 "metadata": {
  "celltoolbar": "Hide code",
  "kernelspec": {
   "display_name": "Python 3",
   "language": "python",
   "name": "python3"
  },
  "language_info": {
   "codemirror_mode": {
    "name": "ipython",
    "version": 3
   },
   "file_extension": ".py",
   "mimetype": "text/x-python",
   "name": "python",
   "nbconvert_exporter": "python",
   "pygments_lexer": "ipython3",
   "version": "3.7.3"
  }
 },
 "nbformat": 4,
 "nbformat_minor": 4
}
